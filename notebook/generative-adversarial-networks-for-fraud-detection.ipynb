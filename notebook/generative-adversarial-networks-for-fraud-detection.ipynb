{
 "cells": [
  {
   "cell_type": "markdown",
   "metadata": {},
   "source": [
    "### Setup"
   ]
  },
  {
   "cell_type": "code",
   "execution_count": 1,
   "metadata": {},
   "outputs": [],
   "source": [
    "%matplotlib inline\n",
    "import pandas as pd\n",
    "import numpy as np\n",
    "from matplotlib import pyplot as plt\n",
    "from sklearn import metrics\n",
    "from sklearn.preprocessing import StandardScaler\n",
    "from sklearn.model_selection import train_test_split\n",
    "from sklearn.ensemble import RandomForestClassifier\n",
    "from sklearn.metrics import confusion_matrix\n",
    "import warnings\n",
    "warnings.filterwarnings(\"ignore\")\n",
    "from sklearn.metrics import recall_score\n",
    "import torch\n",
    "#from imblearn.over_sampling import SMOTE"
   ]
  },
  {
   "cell_type": "code",
   "execution_count": 10,
   "metadata": {},
   "outputs": [],
   "source": [
    "# Check if Cuda is running\n",
    "#torch.cuda.get_device_name(0)"
   ]
  },
  {
   "cell_type": "code",
   "execution_count": 22,
   "metadata": {},
   "outputs": [],
   "source": [
    "data = pd.read_csv(\"creditcard.csv\")"
   ]
  },
  {
   "cell_type": "markdown",
   "metadata": {},
   "source": [
    "Let's randomize the data, just to be sure not to get any pathological ordering effects that might harm the performane of Stochastic Gradient Descent."
   ]
  },
  {
   "cell_type": "code",
   "execution_count": 23,
   "metadata": {},
   "outputs": [
    {
     "data": {
      "text/html": [
       "<div>\n",
       "<style scoped>\n",
       "    .dataframe tbody tr th:only-of-type {\n",
       "        vertical-align: middle;\n",
       "    }\n",
       "\n",
       "    .dataframe tbody tr th {\n",
       "        vertical-align: top;\n",
       "    }\n",
       "\n",
       "    .dataframe thead th {\n",
       "        text-align: right;\n",
       "    }\n",
       "</style>\n",
       "<table border=\"1\" class=\"dataframe\">\n",
       "  <thead>\n",
       "    <tr style=\"text-align: right;\">\n",
       "      <th></th>\n",
       "      <th>Time</th>\n",
       "      <th>V1</th>\n",
       "      <th>V2</th>\n",
       "      <th>V3</th>\n",
       "      <th>V4</th>\n",
       "      <th>V5</th>\n",
       "      <th>V6</th>\n",
       "      <th>V7</th>\n",
       "      <th>V8</th>\n",
       "      <th>V9</th>\n",
       "      <th>...</th>\n",
       "      <th>V21</th>\n",
       "      <th>V22</th>\n",
       "      <th>V23</th>\n",
       "      <th>V24</th>\n",
       "      <th>V25</th>\n",
       "      <th>V26</th>\n",
       "      <th>V27</th>\n",
       "      <th>V28</th>\n",
       "      <th>Amount</th>\n",
       "      <th>Class</th>\n",
       "    </tr>\n",
       "  </thead>\n",
       "  <tbody>\n",
       "    <tr>\n",
       "      <th>124011</th>\n",
       "      <td>77147.0</td>\n",
       "      <td>-1.437314</td>\n",
       "      <td>-0.672735</td>\n",
       "      <td>0.925002</td>\n",
       "      <td>-0.728117</td>\n",
       "      <td>-0.498919</td>\n",
       "      <td>-1.088232</td>\n",
       "      <td>0.098312</td>\n",
       "      <td>0.294362</td>\n",
       "      <td>-1.763211</td>\n",
       "      <td>...</td>\n",
       "      <td>-0.032172</td>\n",
       "      <td>-0.254662</td>\n",
       "      <td>0.569343</td>\n",
       "      <td>0.599137</td>\n",
       "      <td>-0.909906</td>\n",
       "      <td>0.070153</td>\n",
       "      <td>0.017838</td>\n",
       "      <td>0.001861</td>\n",
       "      <td>149.20</td>\n",
       "      <td>0</td>\n",
       "    </tr>\n",
       "    <tr>\n",
       "      <th>182926</th>\n",
       "      <td>125586.0</td>\n",
       "      <td>-1.188026</td>\n",
       "      <td>0.648003</td>\n",
       "      <td>0.195708</td>\n",
       "      <td>-2.300317</td>\n",
       "      <td>-1.876858</td>\n",
       "      <td>0.483442</td>\n",
       "      <td>-0.257970</td>\n",
       "      <td>-4.314653</td>\n",
       "      <td>1.394378</td>\n",
       "      <td>...</td>\n",
       "      <td>3.773234</td>\n",
       "      <td>-1.129681</td>\n",
       "      <td>-1.190132</td>\n",
       "      <td>0.066215</td>\n",
       "      <td>0.806729</td>\n",
       "      <td>0.669240</td>\n",
       "      <td>0.580496</td>\n",
       "      <td>0.090244</td>\n",
       "      <td>392.00</td>\n",
       "      <td>0</td>\n",
       "    </tr>\n",
       "    <tr>\n",
       "      <th>2807</th>\n",
       "      <td>2364.0</td>\n",
       "      <td>1.571567</td>\n",
       "      <td>-0.852696</td>\n",
       "      <td>-0.411170</td>\n",
       "      <td>-1.735533</td>\n",
       "      <td>-0.574247</td>\n",
       "      <td>-0.298426</td>\n",
       "      <td>-0.606201</td>\n",
       "      <td>-0.165091</td>\n",
       "      <td>-2.384797</td>\n",
       "      <td>...</td>\n",
       "      <td>-0.546954</td>\n",
       "      <td>-1.269700</td>\n",
       "      <td>0.009546</td>\n",
       "      <td>-0.896239</td>\n",
       "      <td>0.433003</td>\n",
       "      <td>-0.425964</td>\n",
       "      <td>0.000977</td>\n",
       "      <td>-0.003500</td>\n",
       "      <td>19.75</td>\n",
       "      <td>0</td>\n",
       "    </tr>\n",
       "    <tr>\n",
       "      <th>10848</th>\n",
       "      <td>18552.0</td>\n",
       "      <td>-0.265284</td>\n",
       "      <td>0.081207</td>\n",
       "      <td>1.595559</td>\n",
       "      <td>-1.671107</td>\n",
       "      <td>-0.359368</td>\n",
       "      <td>-0.158713</td>\n",
       "      <td>-0.188054</td>\n",
       "      <td>0.271057</td>\n",
       "      <td>2.710338</td>\n",
       "      <td>...</td>\n",
       "      <td>0.102560</td>\n",
       "      <td>0.673973</td>\n",
       "      <td>0.126516</td>\n",
       "      <td>-0.065758</td>\n",
       "      <td>-1.159539</td>\n",
       "      <td>-1.066871</td>\n",
       "      <td>0.283226</td>\n",
       "      <td>0.230268</td>\n",
       "      <td>11.85</td>\n",
       "      <td>0</td>\n",
       "    </tr>\n",
       "    <tr>\n",
       "      <th>250966</th>\n",
       "      <td>155148.0</td>\n",
       "      <td>-1.071928</td>\n",
       "      <td>0.594211</td>\n",
       "      <td>-0.352817</td>\n",
       "      <td>-0.819417</td>\n",
       "      <td>1.439513</td>\n",
       "      <td>0.755137</td>\n",
       "      <td>0.594540</td>\n",
       "      <td>0.448423</td>\n",
       "      <td>0.063034</td>\n",
       "      <td>...</td>\n",
       "      <td>-0.085680</td>\n",
       "      <td>0.088365</td>\n",
       "      <td>0.361190</td>\n",
       "      <td>-0.336159</td>\n",
       "      <td>-1.006584</td>\n",
       "      <td>0.176926</td>\n",
       "      <td>-0.098098</td>\n",
       "      <td>0.001136</td>\n",
       "      <td>14.75</td>\n",
       "      <td>0</td>\n",
       "    </tr>\n",
       "  </tbody>\n",
       "</table>\n",
       "<p>5 rows × 31 columns</p>\n",
       "</div>"
      ],
      "text/plain": [
       "            Time        V1        V2        V3        V4        V5        V6  \\\n",
       "124011   77147.0 -1.437314 -0.672735  0.925002 -0.728117 -0.498919 -1.088232   \n",
       "182926  125586.0 -1.188026  0.648003  0.195708 -2.300317 -1.876858  0.483442   \n",
       "2807      2364.0  1.571567 -0.852696 -0.411170 -1.735533 -0.574247 -0.298426   \n",
       "10848    18552.0 -0.265284  0.081207  1.595559 -1.671107 -0.359368 -0.158713   \n",
       "250966  155148.0 -1.071928  0.594211 -0.352817 -0.819417  1.439513  0.755137   \n",
       "\n",
       "              V7        V8        V9  ...         V21       V22       V23  \\\n",
       "124011  0.098312  0.294362 -1.763211  ...   -0.032172 -0.254662  0.569343   \n",
       "182926 -0.257970 -4.314653  1.394378  ...    3.773234 -1.129681 -1.190132   \n",
       "2807   -0.606201 -0.165091 -2.384797  ...   -0.546954 -1.269700  0.009546   \n",
       "10848  -0.188054  0.271057  2.710338  ...    0.102560  0.673973  0.126516   \n",
       "250966  0.594540  0.448423  0.063034  ...   -0.085680  0.088365  0.361190   \n",
       "\n",
       "             V24       V25       V26       V27       V28  Amount  Class  \n",
       "124011  0.599137 -0.909906  0.070153  0.017838  0.001861  149.20      0  \n",
       "182926  0.066215  0.806729  0.669240  0.580496  0.090244  392.00      0  \n",
       "2807   -0.896239  0.433003 -0.425964  0.000977 -0.003500   19.75      0  \n",
       "10848  -0.065758 -1.159539 -1.066871  0.283226  0.230268   11.85      0  \n",
       "250966 -0.336159 -1.006584  0.176926 -0.098098  0.001136   14.75      0  \n",
       "\n",
       "[5 rows x 31 columns]"
      ]
     },
     "execution_count": 23,
     "metadata": {},
     "output_type": "execute_result"
    }
   ],
   "source": [
    "data = data.reindex(np.random.permutation(data.index))\n",
    "data.head()"
   ]
  },
  {
   "cell_type": "code",
   "execution_count": 24,
   "metadata": {
    "scrolled": true
   },
   "outputs": [
    {
     "data": {
      "text/plain": [
       "2"
      ]
     },
     "execution_count": 24,
     "metadata": {},
     "output_type": "execute_result"
    }
   ],
   "source": [
    "data.ndim"
   ]
  },
  {
   "cell_type": "markdown",
   "metadata": {},
   "source": [
    "### Data Analysis"
   ]
  },
  {
   "cell_type": "code",
   "execution_count": 6,
   "metadata": {
    "scrolled": true
   },
   "outputs": [
    {
     "data": {
      "text/html": [
       "<div>\n",
       "<style scoped>\n",
       "    .dataframe tbody tr th:only-of-type {\n",
       "        vertical-align: middle;\n",
       "    }\n",
       "\n",
       "    .dataframe tbody tr th {\n",
       "        vertical-align: top;\n",
       "    }\n",
       "\n",
       "    .dataframe thead th {\n",
       "        text-align: right;\n",
       "    }\n",
       "</style>\n",
       "<table border=\"1\" class=\"dataframe\">\n",
       "  <thead>\n",
       "    <tr style=\"text-align: right;\">\n",
       "      <th></th>\n",
       "      <th>Time</th>\n",
       "      <th>V1</th>\n",
       "      <th>V2</th>\n",
       "      <th>V3</th>\n",
       "      <th>V4</th>\n",
       "      <th>V5</th>\n",
       "      <th>V6</th>\n",
       "      <th>V7</th>\n",
       "      <th>V8</th>\n",
       "      <th>V9</th>\n",
       "      <th>...</th>\n",
       "      <th>V21</th>\n",
       "      <th>V22</th>\n",
       "      <th>V23</th>\n",
       "      <th>V24</th>\n",
       "      <th>V25</th>\n",
       "      <th>V26</th>\n",
       "      <th>V27</th>\n",
       "      <th>V28</th>\n",
       "      <th>Amount</th>\n",
       "      <th>Class</th>\n",
       "    </tr>\n",
       "  </thead>\n",
       "  <tbody>\n",
       "    <tr>\n",
       "      <th>count</th>\n",
       "      <td>284807.000000</td>\n",
       "      <td>2.848070e+05</td>\n",
       "      <td>2.848070e+05</td>\n",
       "      <td>2.848070e+05</td>\n",
       "      <td>2.848070e+05</td>\n",
       "      <td>2.848070e+05</td>\n",
       "      <td>2.848070e+05</td>\n",
       "      <td>2.848070e+05</td>\n",
       "      <td>2.848070e+05</td>\n",
       "      <td>2.848070e+05</td>\n",
       "      <td>...</td>\n",
       "      <td>2.848070e+05</td>\n",
       "      <td>2.848070e+05</td>\n",
       "      <td>2.848070e+05</td>\n",
       "      <td>2.848070e+05</td>\n",
       "      <td>2.848070e+05</td>\n",
       "      <td>2.848070e+05</td>\n",
       "      <td>2.848070e+05</td>\n",
       "      <td>2.848070e+05</td>\n",
       "      <td>284807.000000</td>\n",
       "      <td>284807.000000</td>\n",
       "    </tr>\n",
       "    <tr>\n",
       "      <th>mean</th>\n",
       "      <td>94813.859575</td>\n",
       "      <td>1.174225e-15</td>\n",
       "      <td>3.429687e-16</td>\n",
       "      <td>-1.386421e-15</td>\n",
       "      <td>2.073779e-15</td>\n",
       "      <td>9.939598e-16</td>\n",
       "      <td>1.493625e-15</td>\n",
       "      <td>-5.931037e-16</td>\n",
       "      <td>1.318317e-16</td>\n",
       "      <td>-2.414318e-15</td>\n",
       "      <td>...</td>\n",
       "      <td>1.416845e-16</td>\n",
       "      <td>-3.515296e-16</td>\n",
       "      <td>2.727492e-16</td>\n",
       "      <td>4.482012e-15</td>\n",
       "      <td>5.203181e-16</td>\n",
       "      <td>1.689590e-15</td>\n",
       "      <td>-3.712632e-16</td>\n",
       "      <td>-1.159267e-16</td>\n",
       "      <td>88.349619</td>\n",
       "      <td>0.001727</td>\n",
       "    </tr>\n",
       "    <tr>\n",
       "      <th>std</th>\n",
       "      <td>47488.145955</td>\n",
       "      <td>1.958696e+00</td>\n",
       "      <td>1.651309e+00</td>\n",
       "      <td>1.516255e+00</td>\n",
       "      <td>1.415869e+00</td>\n",
       "      <td>1.380247e+00</td>\n",
       "      <td>1.332271e+00</td>\n",
       "      <td>1.237094e+00</td>\n",
       "      <td>1.194353e+00</td>\n",
       "      <td>1.098632e+00</td>\n",
       "      <td>...</td>\n",
       "      <td>7.345240e-01</td>\n",
       "      <td>7.257016e-01</td>\n",
       "      <td>6.244603e-01</td>\n",
       "      <td>6.056471e-01</td>\n",
       "      <td>5.212781e-01</td>\n",
       "      <td>4.822270e-01</td>\n",
       "      <td>4.036325e-01</td>\n",
       "      <td>3.300833e-01</td>\n",
       "      <td>250.120109</td>\n",
       "      <td>0.041527</td>\n",
       "    </tr>\n",
       "    <tr>\n",
       "      <th>min</th>\n",
       "      <td>0.000000</td>\n",
       "      <td>-5.640751e+01</td>\n",
       "      <td>-7.271573e+01</td>\n",
       "      <td>-4.832559e+01</td>\n",
       "      <td>-5.683171e+00</td>\n",
       "      <td>-1.137433e+02</td>\n",
       "      <td>-2.616051e+01</td>\n",
       "      <td>-4.355724e+01</td>\n",
       "      <td>-7.321672e+01</td>\n",
       "      <td>-1.343407e+01</td>\n",
       "      <td>...</td>\n",
       "      <td>-3.483038e+01</td>\n",
       "      <td>-1.093314e+01</td>\n",
       "      <td>-4.480774e+01</td>\n",
       "      <td>-2.836627e+00</td>\n",
       "      <td>-1.029540e+01</td>\n",
       "      <td>-2.604551e+00</td>\n",
       "      <td>-2.256568e+01</td>\n",
       "      <td>-1.543008e+01</td>\n",
       "      <td>0.000000</td>\n",
       "      <td>0.000000</td>\n",
       "    </tr>\n",
       "    <tr>\n",
       "      <th>25%</th>\n",
       "      <td>54201.500000</td>\n",
       "      <td>-9.203734e-01</td>\n",
       "      <td>-5.985499e-01</td>\n",
       "      <td>-8.903648e-01</td>\n",
       "      <td>-8.486401e-01</td>\n",
       "      <td>-6.915971e-01</td>\n",
       "      <td>-7.682956e-01</td>\n",
       "      <td>-5.540759e-01</td>\n",
       "      <td>-2.086297e-01</td>\n",
       "      <td>-6.430976e-01</td>\n",
       "      <td>...</td>\n",
       "      <td>-2.283949e-01</td>\n",
       "      <td>-5.423504e-01</td>\n",
       "      <td>-1.618463e-01</td>\n",
       "      <td>-3.545861e-01</td>\n",
       "      <td>-3.171451e-01</td>\n",
       "      <td>-3.269839e-01</td>\n",
       "      <td>-7.083953e-02</td>\n",
       "      <td>-5.295979e-02</td>\n",
       "      <td>5.600000</td>\n",
       "      <td>0.000000</td>\n",
       "    </tr>\n",
       "    <tr>\n",
       "      <th>50%</th>\n",
       "      <td>84692.000000</td>\n",
       "      <td>1.810880e-02</td>\n",
       "      <td>6.548556e-02</td>\n",
       "      <td>1.798463e-01</td>\n",
       "      <td>-1.984653e-02</td>\n",
       "      <td>-5.433583e-02</td>\n",
       "      <td>-2.741871e-01</td>\n",
       "      <td>4.010308e-02</td>\n",
       "      <td>2.235804e-02</td>\n",
       "      <td>-5.142873e-02</td>\n",
       "      <td>...</td>\n",
       "      <td>-2.945017e-02</td>\n",
       "      <td>6.781943e-03</td>\n",
       "      <td>-1.119293e-02</td>\n",
       "      <td>4.097606e-02</td>\n",
       "      <td>1.659350e-02</td>\n",
       "      <td>-5.213911e-02</td>\n",
       "      <td>1.342146e-03</td>\n",
       "      <td>1.124383e-02</td>\n",
       "      <td>22.000000</td>\n",
       "      <td>0.000000</td>\n",
       "    </tr>\n",
       "    <tr>\n",
       "      <th>75%</th>\n",
       "      <td>139320.500000</td>\n",
       "      <td>1.315642e+00</td>\n",
       "      <td>8.037239e-01</td>\n",
       "      <td>1.027196e+00</td>\n",
       "      <td>7.433413e-01</td>\n",
       "      <td>6.119264e-01</td>\n",
       "      <td>3.985649e-01</td>\n",
       "      <td>5.704361e-01</td>\n",
       "      <td>3.273459e-01</td>\n",
       "      <td>5.971390e-01</td>\n",
       "      <td>...</td>\n",
       "      <td>1.863772e-01</td>\n",
       "      <td>5.285536e-01</td>\n",
       "      <td>1.476421e-01</td>\n",
       "      <td>4.395266e-01</td>\n",
       "      <td>3.507156e-01</td>\n",
       "      <td>2.409522e-01</td>\n",
       "      <td>9.104512e-02</td>\n",
       "      <td>7.827995e-02</td>\n",
       "      <td>77.165000</td>\n",
       "      <td>0.000000</td>\n",
       "    </tr>\n",
       "    <tr>\n",
       "      <th>max</th>\n",
       "      <td>172792.000000</td>\n",
       "      <td>2.454930e+00</td>\n",
       "      <td>2.205773e+01</td>\n",
       "      <td>9.382558e+00</td>\n",
       "      <td>1.687534e+01</td>\n",
       "      <td>3.480167e+01</td>\n",
       "      <td>7.330163e+01</td>\n",
       "      <td>1.205895e+02</td>\n",
       "      <td>2.000721e+01</td>\n",
       "      <td>1.559499e+01</td>\n",
       "      <td>...</td>\n",
       "      <td>2.720284e+01</td>\n",
       "      <td>1.050309e+01</td>\n",
       "      <td>2.252841e+01</td>\n",
       "      <td>4.584549e+00</td>\n",
       "      <td>7.519589e+00</td>\n",
       "      <td>3.517346e+00</td>\n",
       "      <td>3.161220e+01</td>\n",
       "      <td>3.384781e+01</td>\n",
       "      <td>25691.160000</td>\n",
       "      <td>1.000000</td>\n",
       "    </tr>\n",
       "  </tbody>\n",
       "</table>\n",
       "<p>8 rows × 31 columns</p>\n",
       "</div>"
      ],
      "text/plain": [
       "                Time            V1            V2            V3            V4  \\\n",
       "count  284807.000000  2.848070e+05  2.848070e+05  2.848070e+05  2.848070e+05   \n",
       "mean    94813.859575  1.174225e-15  3.429687e-16 -1.386421e-15  2.073779e-15   \n",
       "std     47488.145955  1.958696e+00  1.651309e+00  1.516255e+00  1.415869e+00   \n",
       "min         0.000000 -5.640751e+01 -7.271573e+01 -4.832559e+01 -5.683171e+00   \n",
       "25%     54201.500000 -9.203734e-01 -5.985499e-01 -8.903648e-01 -8.486401e-01   \n",
       "50%     84692.000000  1.810880e-02  6.548556e-02  1.798463e-01 -1.984653e-02   \n",
       "75%    139320.500000  1.315642e+00  8.037239e-01  1.027196e+00  7.433413e-01   \n",
       "max    172792.000000  2.454930e+00  2.205773e+01  9.382558e+00  1.687534e+01   \n",
       "\n",
       "                 V5            V6            V7            V8            V9  \\\n",
       "count  2.848070e+05  2.848070e+05  2.848070e+05  2.848070e+05  2.848070e+05   \n",
       "mean   9.939598e-16  1.493625e-15 -5.931037e-16  1.318317e-16 -2.414318e-15   \n",
       "std    1.380247e+00  1.332271e+00  1.237094e+00  1.194353e+00  1.098632e+00   \n",
       "min   -1.137433e+02 -2.616051e+01 -4.355724e+01 -7.321672e+01 -1.343407e+01   \n",
       "25%   -6.915971e-01 -7.682956e-01 -5.540759e-01 -2.086297e-01 -6.430976e-01   \n",
       "50%   -5.433583e-02 -2.741871e-01  4.010308e-02  2.235804e-02 -5.142873e-02   \n",
       "75%    6.119264e-01  3.985649e-01  5.704361e-01  3.273459e-01  5.971390e-01   \n",
       "max    3.480167e+01  7.330163e+01  1.205895e+02  2.000721e+01  1.559499e+01   \n",
       "\n",
       "           ...                 V21           V22           V23           V24  \\\n",
       "count      ...        2.848070e+05  2.848070e+05  2.848070e+05  2.848070e+05   \n",
       "mean       ...        1.416845e-16 -3.515296e-16  2.727492e-16  4.482012e-15   \n",
       "std        ...        7.345240e-01  7.257016e-01  6.244603e-01  6.056471e-01   \n",
       "min        ...       -3.483038e+01 -1.093314e+01 -4.480774e+01 -2.836627e+00   \n",
       "25%        ...       -2.283949e-01 -5.423504e-01 -1.618463e-01 -3.545861e-01   \n",
       "50%        ...       -2.945017e-02  6.781943e-03 -1.119293e-02  4.097606e-02   \n",
       "75%        ...        1.863772e-01  5.285536e-01  1.476421e-01  4.395266e-01   \n",
       "max        ...        2.720284e+01  1.050309e+01  2.252841e+01  4.584549e+00   \n",
       "\n",
       "                V25           V26           V27           V28         Amount  \\\n",
       "count  2.848070e+05  2.848070e+05  2.848070e+05  2.848070e+05  284807.000000   \n",
       "mean   5.203181e-16  1.689590e-15 -3.712632e-16 -1.159267e-16      88.349619   \n",
       "std    5.212781e-01  4.822270e-01  4.036325e-01  3.300833e-01     250.120109   \n",
       "min   -1.029540e+01 -2.604551e+00 -2.256568e+01 -1.543008e+01       0.000000   \n",
       "25%   -3.171451e-01 -3.269839e-01 -7.083953e-02 -5.295979e-02       5.600000   \n",
       "50%    1.659350e-02 -5.213911e-02  1.342146e-03  1.124383e-02      22.000000   \n",
       "75%    3.507156e-01  2.409522e-01  9.104512e-02  7.827995e-02      77.165000   \n",
       "max    7.519589e+00  3.517346e+00  3.161220e+01  3.384781e+01   25691.160000   \n",
       "\n",
       "               Class  \n",
       "count  284807.000000  \n",
       "mean        0.001727  \n",
       "std         0.041527  \n",
       "min         0.000000  \n",
       "25%         0.000000  \n",
       "50%         0.000000  \n",
       "75%         0.000000  \n",
       "max         1.000000  \n",
       "\n",
       "[8 rows x 31 columns]"
      ]
     },
     "execution_count": 6,
     "metadata": {},
     "output_type": "execute_result"
    }
   ],
   "source": [
    "data.describe()"
   ]
  },
  {
   "cell_type": "code",
   "execution_count": 7,
   "metadata": {},
   "outputs": [
    {
     "data": {
      "text/plain": [
       "0"
      ]
     },
     "execution_count": 7,
     "metadata": {},
     "output_type": "execute_result"
    }
   ],
   "source": [
    "data.isnull().sum().sum()"
   ]
  },
  {
   "cell_type": "code",
   "execution_count": 8,
   "metadata": {
    "scrolled": true
   },
   "outputs": [
    {
     "data": {
      "text/plain": [
       "Text(0,0.5,'Frequency')"
      ]
     },
     "execution_count": 8,
     "metadata": {},
     "output_type": "execute_result"
    },
    {
     "data": {
      "image/png": "[encoded data removed]",
      "text/plain": [
       "<Figure size 432x288 with 1 Axes>"
      ]
     },
     "metadata": {},
     "output_type": "display_data"
    }
   ],
   "source": [
    "classes = pd.value_counts(data['Class'], sort = True).sort_index()\n",
    "classes.plot(kind = 'bar')\n",
    "plt.title(\"Fraud class histogram\")\n",
    "plt.xlabel(\"Class\")\n",
    "plt.ylabel(\"Frequency\")"
   ]
  },
  {
   "cell_type": "code",
   "execution_count": 9,
   "metadata": {},
   "outputs": [
    {
     "data": {
      "text/plain": [
       "Class\n",
       "0    284315\n",
       "1       492\n",
       "Name: Class, dtype: int64"
      ]
     },
     "execution_count": 9,
     "metadata": {},
     "output_type": "execute_result"
    }
   ],
   "source": [
    "data.groupby('Class')['Class'].count()"
   ]
  },
  {
   "cell_type": "markdown",
   "metadata": {},
   "source": [
    "#### The Data is hihgly imbalance. 284315 Normal transaction vs 492 Fraud transaction"
   ]
  },
  {
   "cell_type": "markdown",
   "metadata": {},
   "source": [
    "## 1. Run with Normalising data"
   ]
  },
  {
   "cell_type": "code",
   "execution_count": 234,
   "metadata": {},
   "outputs": [],
   "source": [
    "X = data.loc[:, data.columns != 'Class']\n",
    "y = data.loc[:, data.columns == 'Class']"
   ]
  },
  {
   "cell_type": "code",
   "execution_count": 235,
   "metadata": {},
   "outputs": [
    {
     "name": "stdout",
     "output_type": "stream",
     "text": [
      "xtrain shape\n",
      "(199364, 29)\n",
      "xtest shape\n",
      "(85443, 29)\n"
     ]
    }
   ],
   "source": [
    "# Splitting the dataset into the Training set and Test set\n",
    "X_train, X_test, y_train, y_test = train_test_split(X, y, test_size=0.30, random_state=0)\n",
    "print('xtrain shape')\n",
    "print(X_train.shape)\n",
    "print('xtest shape')\n",
    "print(X_test.shape)"
   ]
  },
  {
   "cell_type": "code",
   "execution_count": 236,
   "metadata": {},
   "outputs": [],
   "source": [
    "# Normalising the training data and test data\n",
    "scaler = StandardScaler()\n",
    "X_train_normalized = scaler.fit_transform(X_train)\n",
    "X_test_normalized = scaler.transform(X_test)"
   ]
  },
  {
   "cell_type": "code",
   "execution_count": 237,
   "metadata": {},
   "outputs": [
    {
     "data": {
      "text/plain": [
       "RandomForestClassifier(bootstrap=True, class_weight=None, criterion='gini',\n",
       "            max_depth=None, max_features='auto', max_leaf_nodes=None,\n",
       "            min_impurity_decrease=0.0, min_impurity_split=None,\n",
       "            min_samples_leaf=1, min_samples_split=2,\n",
       "            min_weight_fraction_leaf=0.0, n_estimators=10, n_jobs=1,\n",
       "            oob_score=False, random_state=None, verbose=0,\n",
       "            warm_start=False)"
      ]
     },
     "execution_count": 237,
     "metadata": {},
     "output_type": "execute_result"
    }
   ],
   "source": [
    "# Fit classifier to a model\n",
    "classifier = RandomForestClassifier()\n",
    "classifier.fit(X_train_normalized, y_train)"
   ]
  },
  {
   "cell_type": "code",
   "execution_count": 238,
   "metadata": {},
   "outputs": [],
   "source": [
    "# Predicting the Test set results\n",
    "y_pred = classifier.predict(X_test_normalized)"
   ]
  },
  {
   "cell_type": "code",
   "execution_count": 239,
   "metadata": {},
   "outputs": [
    {
     "name": "stdout",
     "output_type": "stream",
     "text": [
      "Confusion Matrix\n"
     ]
    },
    {
     "data": {
      "text/plain": [
       "array([[85291,     5],\n",
       "       [   39,   108]])"
      ]
     },
     "execution_count": 239,
     "metadata": {},
     "output_type": "execute_result"
    }
   ],
   "source": [
    "# Making a Confusion Matrix\n",
    "from sklearn.metrics import confusion_matrix\n",
    "print('Confusion Matrix')\n",
    "cm = confusion_matrix(y_test, y_pred)\n",
    "cm"
   ]
  },
  {
   "cell_type": "code",
   "execution_count": 240,
   "metadata": {},
   "outputs": [
    {
     "name": "stdout",
     "output_type": "stream",
     "text": [
      "Classification Report\n",
      "             precision    recall  f1-score   support\n",
      "\n",
      "          0       1.00      1.00      1.00     85296\n",
      "          1       0.96      0.73      0.83       147\n",
      "\n",
      "avg / total       1.00      1.00      1.00     85443\n",
      "\n",
      "Accuracy : 0.999485\n",
      "Area under the curve : 0.867318\n"
     ]
    }
   ],
   "source": [
    "print('Classification Report')\n",
    "print(metrics.classification_report(y_test, y_pred))\n",
    "print('Accuracy : %f' % (metrics.accuracy_score(y_test, y_pred)))\n",
    "print('Area under the curve : %f' % (metrics.roc_auc_score(y_test, y_pred)))"
   ]
  },
  {
   "cell_type": "markdown",
   "metadata": {},
   "source": [
    "## 2. Run with Over Sampling data using SMOTE (Synthetic Minority Over-sampling Technique)"
   ]
  },
  {
   "cell_type": "code",
   "execution_count": 2,
   "metadata": {},
   "outputs": [],
   "source": [
    "from imblearn.over_sampling import SMOTE"
   ]
  },
  {
   "cell_type": "code",
   "execution_count": 4,
   "metadata": {},
   "outputs": [
    {
     "ename": "NameError",
     "evalue": "name 'pd' is not defined",
     "output_type": "error",
     "traceback": [
      "\u001b[0;31m---------------------------------------------------------------------------\u001b[0m",
      "\u001b[0;31mNameError\u001b[0m                                 Traceback (most recent call last)",
      "\u001b[0;32m<ipython-input-4-bbd82a65bc57>\u001b[0m in \u001b[0;36m<module>\u001b[0;34m()\u001b[0m\n\u001b[0;32m----> 1\u001b[0;31m \u001b[0mdata\u001b[0m \u001b[0;34m=\u001b[0m \u001b[0mpd\u001b[0m\u001b[0;34m.\u001b[0m\u001b[0mread_csv\u001b[0m\u001b[0;34m(\u001b[0m\u001b[0;34m\"creditcard.csv\"\u001b[0m\u001b[0;34m)\u001b[0m\u001b[0;34m\u001b[0m\u001b[0m\n\u001b[0m",
      "\u001b[0;31mNameError\u001b[0m: name 'pd' is not defined"
     ]
    }
   ],
   "source": [
    "data = pd.read_csv(\"creditcard.csv\")"
   ]
  },
  {
   "cell_type": "code",
   "execution_count": 17,
   "metadata": {},
   "outputs": [
    {
     "data": {
      "text/html": [
       "<div>\n",
       "<style scoped>\n",
       "    .dataframe tbody tr th:only-of-type {\n",
       "        vertical-align: middle;\n",
       "    }\n",
       "\n",
       "    .dataframe tbody tr th {\n",
       "        vertical-align: top;\n",
       "    }\n",
       "\n",
       "    .dataframe thead th {\n",
       "        text-align: right;\n",
       "    }\n",
       "</style>\n",
       "<table border=\"1\" class=\"dataframe\">\n",
       "  <thead>\n",
       "    <tr style=\"text-align: right;\">\n",
       "      <th></th>\n",
       "      <th>V1</th>\n",
       "      <th>V2</th>\n",
       "      <th>V3</th>\n",
       "      <th>V4</th>\n",
       "      <th>V5</th>\n",
       "      <th>V6</th>\n",
       "      <th>V7</th>\n",
       "      <th>V8</th>\n",
       "      <th>V9</th>\n",
       "      <th>V10</th>\n",
       "      <th>...</th>\n",
       "      <th>V21</th>\n",
       "      <th>V22</th>\n",
       "      <th>V23</th>\n",
       "      <th>V24</th>\n",
       "      <th>V25</th>\n",
       "      <th>V26</th>\n",
       "      <th>V27</th>\n",
       "      <th>V28</th>\n",
       "      <th>Class</th>\n",
       "      <th>normAmount</th>\n",
       "    </tr>\n",
       "  </thead>\n",
       "  <tbody>\n",
       "    <tr>\n",
       "      <th>0</th>\n",
       "      <td>-1.359807</td>\n",
       "      <td>-0.072781</td>\n",
       "      <td>2.536347</td>\n",
       "      <td>1.378155</td>\n",
       "      <td>-0.338321</td>\n",
       "      <td>0.462388</td>\n",
       "      <td>0.239599</td>\n",
       "      <td>0.098698</td>\n",
       "      <td>0.363787</td>\n",
       "      <td>0.090794</td>\n",
       "      <td>...</td>\n",
       "      <td>-0.018307</td>\n",
       "      <td>0.277838</td>\n",
       "      <td>-0.110474</td>\n",
       "      <td>0.066928</td>\n",
       "      <td>0.128539</td>\n",
       "      <td>-0.189115</td>\n",
       "      <td>0.133558</td>\n",
       "      <td>-0.021053</td>\n",
       "      <td>0</td>\n",
       "      <td>0.244964</td>\n",
       "    </tr>\n",
       "    <tr>\n",
       "      <th>1</th>\n",
       "      <td>1.191857</td>\n",
       "      <td>0.266151</td>\n",
       "      <td>0.166480</td>\n",
       "      <td>0.448154</td>\n",
       "      <td>0.060018</td>\n",
       "      <td>-0.082361</td>\n",
       "      <td>-0.078803</td>\n",
       "      <td>0.085102</td>\n",
       "      <td>-0.255425</td>\n",
       "      <td>-0.166974</td>\n",
       "      <td>...</td>\n",
       "      <td>-0.225775</td>\n",
       "      <td>-0.638672</td>\n",
       "      <td>0.101288</td>\n",
       "      <td>-0.339846</td>\n",
       "      <td>0.167170</td>\n",
       "      <td>0.125895</td>\n",
       "      <td>-0.008983</td>\n",
       "      <td>0.014724</td>\n",
       "      <td>0</td>\n",
       "      <td>-0.342475</td>\n",
       "    </tr>\n",
       "    <tr>\n",
       "      <th>2</th>\n",
       "      <td>-1.358354</td>\n",
       "      <td>-1.340163</td>\n",
       "      <td>1.773209</td>\n",
       "      <td>0.379780</td>\n",
       "      <td>-0.503198</td>\n",
       "      <td>1.800499</td>\n",
       "      <td>0.791461</td>\n",
       "      <td>0.247676</td>\n",
       "      <td>-1.514654</td>\n",
       "      <td>0.207643</td>\n",
       "      <td>...</td>\n",
       "      <td>0.247998</td>\n",
       "      <td>0.771679</td>\n",
       "      <td>0.909412</td>\n",
       "      <td>-0.689281</td>\n",
       "      <td>-0.327642</td>\n",
       "      <td>-0.139097</td>\n",
       "      <td>-0.055353</td>\n",
       "      <td>-0.059752</td>\n",
       "      <td>0</td>\n",
       "      <td>1.160686</td>\n",
       "    </tr>\n",
       "    <tr>\n",
       "      <th>3</th>\n",
       "      <td>-0.966272</td>\n",
       "      <td>-0.185226</td>\n",
       "      <td>1.792993</td>\n",
       "      <td>-0.863291</td>\n",
       "      <td>-0.010309</td>\n",
       "      <td>1.247203</td>\n",
       "      <td>0.237609</td>\n",
       "      <td>0.377436</td>\n",
       "      <td>-1.387024</td>\n",
       "      <td>-0.054952</td>\n",
       "      <td>...</td>\n",
       "      <td>-0.108300</td>\n",
       "      <td>0.005274</td>\n",
       "      <td>-0.190321</td>\n",
       "      <td>-1.175575</td>\n",
       "      <td>0.647376</td>\n",
       "      <td>-0.221929</td>\n",
       "      <td>0.062723</td>\n",
       "      <td>0.061458</td>\n",
       "      <td>0</td>\n",
       "      <td>0.140534</td>\n",
       "    </tr>\n",
       "    <tr>\n",
       "      <th>4</th>\n",
       "      <td>-1.158233</td>\n",
       "      <td>0.877737</td>\n",
       "      <td>1.548718</td>\n",
       "      <td>0.403034</td>\n",
       "      <td>-0.407193</td>\n",
       "      <td>0.095921</td>\n",
       "      <td>0.592941</td>\n",
       "      <td>-0.270533</td>\n",
       "      <td>0.817739</td>\n",
       "      <td>0.753074</td>\n",
       "      <td>...</td>\n",
       "      <td>-0.009431</td>\n",
       "      <td>0.798278</td>\n",
       "      <td>-0.137458</td>\n",
       "      <td>0.141267</td>\n",
       "      <td>-0.206010</td>\n",
       "      <td>0.502292</td>\n",
       "      <td>0.219422</td>\n",
       "      <td>0.215153</td>\n",
       "      <td>0</td>\n",
       "      <td>-0.073403</td>\n",
       "    </tr>\n",
       "  </tbody>\n",
       "</table>\n",
       "<p>5 rows × 30 columns</p>\n",
       "</div>"
      ],
      "text/plain": [
       "         V1        V2        V3        V4        V5        V6        V7  \\\n",
       "0 -1.359807 -0.072781  2.536347  1.378155 -0.338321  0.462388  0.239599   \n",
       "1  1.191857  0.266151  0.166480  0.448154  0.060018 -0.082361 -0.078803   \n",
       "2 -1.358354 -1.340163  1.773209  0.379780 -0.503198  1.800499  0.791461   \n",
       "3 -0.966272 -0.185226  1.792993 -0.863291 -0.010309  1.247203  0.237609   \n",
       "4 -1.158233  0.877737  1.548718  0.403034 -0.407193  0.095921  0.592941   \n",
       "\n",
       "         V8        V9       V10     ...           V21       V22       V23  \\\n",
       "0  0.098698  0.363787  0.090794     ...     -0.018307  0.277838 -0.110474   \n",
       "1  0.085102 -0.255425 -0.166974     ...     -0.225775 -0.638672  0.101288   \n",
       "2  0.247676 -1.514654  0.207643     ...      0.247998  0.771679  0.909412   \n",
       "3  0.377436 -1.387024 -0.054952     ...     -0.108300  0.005274 -0.190321   \n",
       "4 -0.270533  0.817739  0.753074     ...     -0.009431  0.798278 -0.137458   \n",
       "\n",
       "        V24       V25       V26       V27       V28  Class  normAmount  \n",
       "0  0.066928  0.128539 -0.189115  0.133558 -0.021053      0    0.244964  \n",
       "1 -0.339846  0.167170  0.125895 -0.008983  0.014724      0   -0.342475  \n",
       "2 -0.689281 -0.327642 -0.139097 -0.055353 -0.059752      0    1.160686  \n",
       "3 -1.175575  0.647376 -0.221929  0.062723  0.061458      0    0.140534  \n",
       "4  0.141267 -0.206010  0.502292  0.219422  0.215153      0   -0.073403  \n",
       "\n",
       "[5 rows x 30 columns]"
      ]
     },
     "execution_count": 17,
     "metadata": {},
     "output_type": "execute_result"
    }
   ],
   "source": [
    "from sklearn.preprocessing import StandardScaler\n",
    "\n",
    "data['normAmount'] = StandardScaler().fit_transform(data['Amount'].values.reshape(-1, 1))\n",
    "data = data.drop(['Time','Amount'],axis=1)\n",
    "data.head()"
   ]
  },
  {
   "cell_type": "code",
   "execution_count": 18,
   "metadata": {},
   "outputs": [
    {
     "name": "stdout",
     "output_type": "stream",
     "text": [
      "Shape of X: (284807, 29)\n",
      "Shape of y: (284807, 1)\n"
     ]
    }
   ],
   "source": [
    "X = np.array(data.ix[:, data.columns != 'Class'])\n",
    "y = np.array(data.ix[:, data.columns == 'Class'])\n",
    "print('Shape of X: {}'.format(X.shape))\n",
    "print('Shape of y: {}'.format(y.shape))"
   ]
  },
  {
   "cell_type": "code",
   "execution_count": 19,
   "metadata": {},
   "outputs": [
    {
     "name": "stdout",
     "output_type": "stream",
     "text": [
      "xtrain shape\n",
      "(199364, 29)\n",
      "xtest shape\n",
      "(85443, 29)\n"
     ]
    }
   ],
   "source": [
    "# Splitting the dataset into the Training set and Test set\n",
    "X_train, X_test, y_train, y_test = train_test_split(X, y, test_size=0.3, random_state=0)\n",
    "print('xtrain shape')\n",
    "print(X_train.shape)\n",
    "print('xtest shape')\n",
    "print(X_test.shape)"
   ]
  },
  {
   "cell_type": "code",
   "execution_count": 20,
   "metadata": {},
   "outputs": [],
   "source": [
    "# Over Sampling data using SMOTE\n",
    "smote = SMOTE(random_state=2)\n",
    "X_train_resample, y_train_resample = smote.fit_sample(X_train, y_train.ravel())"
   ]
  },
  {
   "cell_type": "code",
   "execution_count": 21,
   "metadata": {},
   "outputs": [
    {
     "data": {
      "text/plain": [
       "RandomForestClassifier(bootstrap=True, class_weight=None, criterion='gini',\n",
       "            max_depth=None, max_features='auto', max_leaf_nodes=None,\n",
       "            min_impurity_decrease=0.0, min_impurity_split=None,\n",
       "            min_samples_leaf=1, min_samples_split=2,\n",
       "            min_weight_fraction_leaf=0.0, n_estimators=10, n_jobs=1,\n",
       "            oob_score=False, random_state=None, verbose=0,\n",
       "            warm_start=False)"
      ]
     },
     "execution_count": 21,
     "metadata": {},
     "output_type": "execute_result"
    }
   ],
   "source": [
    "classifier = RandomForestClassifier()\n",
    "classifier.fit(X_train_resample, y_train_resample.ravel())"
   ]
  },
  {
   "cell_type": "code",
   "execution_count": 22,
   "metadata": {},
   "outputs": [],
   "source": [
    "# Predicting the Test set results\n",
    "y_pred = classifier.predict(X_test)"
   ]
  },
  {
   "cell_type": "code",
   "execution_count": 23,
   "metadata": {},
   "outputs": [
    {
     "name": "stdout",
     "output_type": "stream",
     "text": [
      "Confusion Matrix\n"
     ]
    },
    {
     "data": {
      "text/plain": [
       "array([[85283,    13],\n",
       "       [   31,   116]])"
      ]
     },
     "execution_count": 23,
     "metadata": {},
     "output_type": "execute_result"
    }
   ],
   "source": [
    "# Making a Confision Matrix\n",
    "from sklearn.metrics import confusion_matrix\n",
    "print('Confusion Matrix')\n",
    "cm = confusion_matrix(y_test, y_pred)\n",
    "cm"
   ]
  },
  {
   "cell_type": "code",
   "execution_count": 24,
   "metadata": {},
   "outputs": [
    {
     "name": "stdout",
     "output_type": "stream",
     "text": [
      "Classification Report\n",
      "             precision    recall  f1-score   support\n",
      "\n",
      "          0       1.00      1.00      1.00     85296\n",
      "          1       0.90      0.79      0.84       147\n",
      "\n",
      "avg / total       1.00      1.00      1.00     85443\n",
      "\n",
      "Accuracy : 0.999485\n",
      "Area under the curve : 0.894482\n"
     ]
    }
   ],
   "source": [
    "print('Classification Report')\n",
    "print(metrics.classification_report(y_test, y_pred))\n",
    "print('Accuracy : %f' % (metrics.accuracy_score(y_test, y_pred)))\n",
    "print('Area under the curve : %f' % (metrics.roc_auc_score(y_test, y_pred)))"
   ]
  },
  {
   "cell_type": "markdown",
   "metadata": {},
   "source": [
    "## 3. Run with GANs"
   ]
  },
  {
   "cell_type": "code",
   "execution_count": 30,
   "metadata": {},
   "outputs": [],
   "source": [
    "%matplotlib inline\n",
    "import pandas as pd\n",
    "import numpy as np\n",
    "import torch\n",
    "import torch.nn as nn\n",
    "import torch.utils.data\n",
    "import torch.nn.functional as F\n",
    "import torch.optim as optim\n",
    "from matplotlib import pyplot as plt"
   ]
  },
  {
   "cell_type": "code",
   "execution_count": 31,
   "metadata": {},
   "outputs": [],
   "source": [
    "from torch.utils.data import Dataset, DataLoader\n",
    "from sklearn.preprocessing import StandardScaler\n",
    "from torch.autograd import Variable\n",
    "\n",
    "OUTPUT_PATH = '/output/'\n",
    "MODE = 'wgan-gp'\n",
    "RESTORE_MODE = False # If this flag is True, it will continue to train from the saved model.\n",
    "\n",
    "# Custom DataLoader\n",
    "class FraudDataset(Dataset):\n",
    "    \n",
    "    # Initialize the data\n",
    "    def __init__(self):\n",
    "        data = pd.read_csv(\"creditcard.csv\")\n",
    "        data['normAmount'] = StandardScaler().fit_transform(data['Amount'].values.reshape(-1, 1))\n",
    "        data = data.drop(['Time','Amount'],axis=1)\n",
    "        \n",
    "        # Rearrange columns to the right order\n",
    "        cols = ['V1', 'V2', 'V3', 'V4', 'V5', 'V6', 'V7', 'V8', 'V9', 'V10', 'V11', 'V12', 'V13', 'V14', 'V15', 'V16', 'V17', 'V18',\n",
    "        'V19', 'V20', 'V21', 'V22', 'V23', 'V24', 'V25', 'V26', 'V27', 'V28', 'normAmount', 'Class']\n",
    "        data = data[cols]\n",
    "        \n",
    "        fraud_data = data.loc[data['Class']==1]\n",
    "        fraud_data = fraud_data.drop('Class', 1)\n",
    "        self.len = fraud_data.shape[0]\n",
    "        \n",
    "        self.fraud_data = torch.FloatTensor(np.array(fraud_data))\n",
    "        \n",
    "        #self.X = np.array(data.loc[:, data.columns != 'Class'])\n",
    "        #self.y = np.array(data.loc[:, data.columns == 'Class'])\n",
    "        \n",
    "        #self.X = torch.FloatTensor(self.X)\n",
    "        #self.y = torch.FloatTensor(self.y)\n",
    "        \n",
    "    def __getitem__(self, index):\n",
    "        return self.fraud_data[index]\n",
    "    \n",
    "    def __len__(self):\n",
    "        return self.len"
   ]
  },
  {
   "cell_type": "code",
   "execution_count": 4,
   "metadata": {},
   "outputs": [],
   "source": [
    "if RESTORE_MODE:\n",
    "    generator = torch.load(OUTPUT_PATH + \"generator.pt\" )\n",
    "    discriminator = torch.load(OUTPUT_PATH + \"discriminator.pt\")   "
   ]
  },
  {
   "cell_type": "code",
   "execution_count": 32,
   "metadata": {},
   "outputs": [],
   "source": [
    "dataset = FraudDataset()\n",
    "train_loader = DataLoader(dataset=dataset,\n",
    "                          batch_size=1,\n",
    "                          shuffle=True,\n",
    "                          num_workers=1)"
   ]
  },
  {
   "cell_type": "code",
   "execution_count": 33,
   "metadata": {},
   "outputs": [],
   "source": [
    "# Generator's paragrams\n",
    "g_input_size = 29     # Random noise dimension\n",
    "g_hidden_size = 50   # Generator complexity\n",
    "g_output_size = 1   \n",
    "g_learning_rate = 0.0002\n",
    "\n",
    "#Discriminator's paragrams\n",
    "d_input_size = 29   # Minibatch size\n",
    "d_hidden_size = 50  # Discriminator complexity\n",
    "d_output_size = 1   # Single dimension for 'real' vs. 'fake'\n",
    "d_learning_rate = 0.0002\n",
    "\n",
    "minibatch_size = d_input_size\n",
    "\n",
    "num_epochs = 2000\n",
    "print_interval = 10"
   ]
  },
  {
   "cell_type": "code",
   "execution_count": 34,
   "metadata": {},
   "outputs": [],
   "source": [
    "# Generator\n",
    "class Generator(torch.nn.Module):\n",
    "    def __init__(self, input_size, hidden_size, output_size):\n",
    "        super(Generator, self).__init__()\n",
    "        self.map1 = nn.Linear(input_size, hidden_size)\n",
    "        self.map2 = nn.Linear(hidden_size, hidden_size)\n",
    "        self.map3 = nn.Linear(hidden_size, output_size)\n",
    "\n",
    "    def forward(self, x):\n",
    "        # ELU (Exponential Linear Unit) function tends to converge cost to zero faster and produce more accurate results\n",
    "        x = F.elu(self.map1(x))\n",
    "        x = F.sigmoid(self.map2(x))\n",
    "        return self.map3(x)"
   ]
  },
  {
   "cell_type": "code",
   "execution_count": 35,
   "metadata": {},
   "outputs": [],
   "source": [
    "# Discriminator\n",
    "class Discriminator(nn.Module):\n",
    "    def __init__(self, input_size, hidden_size, output_size):\n",
    "        super(Discriminator, self).__init__()\n",
    "        self.map1 = nn.Linear(input_size, hidden_size)\n",
    "        self.map2 = nn.Linear(hidden_size, hidden_size)\n",
    "        self.map3 = nn.Linear(hidden_size, output_size)\n",
    "\n",
    "    def forward(self, x):\n",
    "        x = self.map1(x)\n",
    "        x = F.elu(x)\n",
    "        x = self.map2(x)\n",
    "        x = F.elu(x)\n",
    "        x = self.map3(x)\n",
    "        return F.sigmoid(x)"
   ]
  },
  {
   "cell_type": "code",
   "execution_count": 36,
   "metadata": {},
   "outputs": [],
   "source": [
    "generator = Generator(input_size=g_input_size, hidden_size=g_hidden_size, output_size=g_output_size)\n",
    "discriminator = Discriminator(input_size=d_input_size, hidden_size=d_hidden_size, output_size=d_output_size)"
   ]
  },
  {
   "cell_type": "code",
   "execution_count": 37,
   "metadata": {},
   "outputs": [],
   "source": [
    "# Uncomment these 2 lines to run on GPU\n",
    "#generator.cuda()\n",
    "#discriminator.cuda()"
   ]
  },
  {
   "cell_type": "code",
   "execution_count": 38,
   "metadata": {},
   "outputs": [],
   "source": [
    "def plot(disc):\n",
    "    h=0.1\n",
    "    x_min, x_max = data[:, 0].min() - .5, data[:, 0].max() + .5\n",
    "    y_min, y_max = data[:, 1].min() - .5, data[:, 1].max() + .5\n",
    "    xx, yy = np.meshgrid(np.arange(x_min, x_max, h), np.arange(y_min, y_max, h))\n",
    "\n",
    "    x_test = np.c_[xx.ravel(), yy.ravel()]\n",
    "    y_hat_test = disc.forward_with_sigmoid(Variable(torch.from_numpy(x_test).float()))\n",
    "\n",
    "    plt.pcolormesh(xx, yy, y_hat_test.data.numpy().reshape(xx.shape), cmap=plt.cm.Paired)\n",
    "    plt.colorbar()\n",
    "    plt.scatter(x[:, 0], x[:, 1], c=y*20, alpha=0.1, cmap=plt.cm.flag, s=2)\n",
    "    plt.show()"
   ]
  },
  {
   "cell_type": "code",
   "execution_count": 39,
   "metadata": {},
   "outputs": [],
   "source": [
    "# Use Binary Cross Entropy loss\n",
    "BCE_loss = nn.BCELoss()"
   ]
  },
  {
   "cell_type": "code",
   "execution_count": 40,
   "metadata": {},
   "outputs": [],
   "source": [
    "# Set the optimizers\n",
    "beta_1 = 0.5\n",
    "beta_2 = 0.999\n",
    "d_optimizer = optim.Adam(discriminator.parameters(), lr=d_learning_rate/2, betas=(beta_1, beta_2))\n",
    "g_optimizer = optim.Adam(generator.parameters(), lr=g_learning_rate, betas=(beta_1, beta_2))"
   ]
  },
  {
   "cell_type": "code",
   "execution_count": 41,
   "metadata": {
    "scrolled": true
   },
   "outputs": [
    {
     "name": "stdout",
     "output_type": "stream",
     "text": [
      "Epoch 1 - Discriminator Loss: 0.834, Generator Loss: 0.849\n",
      "Epoch 11 - Discriminator Loss: 0.380, Generator Loss: 3.360\n",
      "Epoch 21 - Discriminator Loss: 0.245, Generator Loss: 3.556\n",
      "Epoch 31 - Discriminator Loss: 0.233, Generator Loss: 3.647\n",
      "Epoch 41 - Discriminator Loss: 0.223, Generator Loss: 3.945\n",
      "Epoch 51 - Discriminator Loss: 0.196, Generator Loss: 4.104\n",
      "Epoch 61 - Discriminator Loss: 0.185, Generator Loss: 4.153\n",
      "Epoch 71 - Discriminator Loss: 0.159, Generator Loss: 4.382\n",
      "Epoch 81 - Discriminator Loss: 0.122, Generator Loss: 4.473\n",
      "Epoch 91 - Discriminator Loss: 0.109, Generator Loss: 4.988\n",
      "Epoch 101 - Discriminator Loss: 0.079, Generator Loss: 5.336\n",
      "Epoch 111 - Discriminator Loss: 0.071, Generator Loss: 5.516\n",
      "Epoch 121 - Discriminator Loss: 0.054, Generator Loss: 6.145\n",
      "Epoch 131 - Discriminator Loss: 0.046, Generator Loss: 6.852\n",
      "Epoch 141 - Discriminator Loss: 0.041, Generator Loss: 6.962\n",
      "Epoch 151 - Discriminator Loss: 0.032, Generator Loss: 7.701\n",
      "Epoch 161 - Discriminator Loss: 0.043, Generator Loss: 8.357\n",
      "Epoch 171 - Discriminator Loss: 0.014, Generator Loss: 8.549\n",
      "Epoch 181 - Discriminator Loss: 0.014, Generator Loss: 9.231\n",
      "Epoch 191 - Discriminator Loss: 0.010, Generator Loss: 9.850\n",
      "Epoch 201 - Discriminator Loss: 0.006, Generator Loss: 10.267\n",
      "Epoch 211 - Discriminator Loss: 0.023, Generator Loss: 10.756\n",
      "Epoch 221 - Discriminator Loss: 0.003, Generator Loss: 10.951\n",
      "Epoch 231 - Discriminator Loss: 0.008, Generator Loss: 11.935\n",
      "Epoch 241 - Discriminator Loss: 0.002, Generator Loss: 11.996\n",
      "Epoch 251 - Discriminator Loss: 0.006, Generator Loss: 13.144\n",
      "Epoch 261 - Discriminator Loss: 0.009, Generator Loss: 13.163\n",
      "Epoch 271 - Discriminator Loss: 0.002, Generator Loss: 13.475\n",
      "Epoch 281 - Discriminator Loss: 0.014, Generator Loss: 14.524\n",
      "Epoch 291 - Discriminator Loss: 0.007, Generator Loss: 15.672\n",
      "Epoch 301 - Discriminator Loss: 0.007, Generator Loss: 15.152\n",
      "Epoch 311 - Discriminator Loss: 0.004, Generator Loss: 15.711\n",
      "Epoch 321 - Discriminator Loss: 0.003, Generator Loss: 16.092\n",
      "Epoch 331 - Discriminator Loss: 0.010, Generator Loss: 17.018\n",
      "Epoch 341 - Discriminator Loss: 0.025, Generator Loss: 17.090\n",
      "Epoch 351 - Discriminator Loss: 0.002, Generator Loss: 16.865\n",
      "Epoch 361 - Discriminator Loss: 0.005, Generator Loss: 17.474\n",
      "Epoch 371 - Discriminator Loss: 0.004, Generator Loss: 17.145\n",
      "Epoch 381 - Discriminator Loss: 0.002, Generator Loss: 17.500\n",
      "Epoch 391 - Discriminator Loss: 0.006, Generator Loss: 18.408\n",
      "Epoch 401 - Discriminator Loss: 0.001, Generator Loss: 18.117\n",
      "Epoch 411 - Discriminator Loss: 0.031, Generator Loss: 19.775\n",
      "Epoch 421 - Discriminator Loss: 0.000, Generator Loss: 18.443\n",
      "Epoch 431 - Discriminator Loss: 0.000, Generator Loss: 16.746\n",
      "Epoch 441 - Discriminator Loss: 0.000, Generator Loss: 17.426\n",
      "Epoch 451 - Discriminator Loss: 0.031, Generator Loss: 20.401\n",
      "Epoch 461 - Discriminator Loss: 0.015, Generator Loss: 21.837\n",
      "Epoch 471 - Discriminator Loss: 0.000, Generator Loss: 18.791\n",
      "Epoch 481 - Discriminator Loss: 0.000, Generator Loss: 17.325\n",
      "Epoch 491 - Discriminator Loss: 0.000, Generator Loss: 15.998\n",
      "Epoch 501 - Discriminator Loss: 0.000, Generator Loss: 17.918\n",
      "Epoch 511 - Discriminator Loss: 0.124, Generator Loss: 22.581\n",
      "Epoch 521 - Discriminator Loss: 0.066, Generator Loss: 24.416\n",
      "Epoch 531 - Discriminator Loss: 0.000, Generator Loss: 20.533\n",
      "Epoch 541 - Discriminator Loss: 0.000, Generator Loss: 18.605\n",
      "Epoch 551 - Discriminator Loss: 0.000, Generator Loss: 16.861\n",
      "Epoch 561 - Discriminator Loss: 0.000, Generator Loss: 15.639\n",
      "Epoch 571 - Discriminator Loss: 0.000, Generator Loss: 16.696\n",
      "Epoch 581 - Discriminator Loss: 0.000, Generator Loss: 19.882\n",
      "Epoch 591 - Discriminator Loss: 0.183, Generator Loss: 24.578\n",
      "Epoch 601 - Discriminator Loss: 0.129, Generator Loss: 25.844\n",
      "Epoch 611 - Discriminator Loss: 0.003, Generator Loss: 25.047\n",
      "Epoch 621 - Discriminator Loss: 0.000, Generator Loss: 21.722\n",
      "Epoch 631 - Discriminator Loss: 0.000, Generator Loss: 20.060\n",
      "Epoch 641 - Discriminator Loss: 0.000, Generator Loss: 18.353\n",
      "Epoch 651 - Discriminator Loss: 0.000, Generator Loss: 17.056\n",
      "Epoch 661 - Discriminator Loss: 0.000, Generator Loss: 18.386\n",
      "Epoch 671 - Discriminator Loss: 0.000, Generator Loss: 20.744\n",
      "Epoch 681 - Discriminator Loss: 0.004, Generator Loss: 23.994\n",
      "Epoch 691 - Discriminator Loss: 0.072, Generator Loss: 25.728\n",
      "Epoch 701 - Discriminator Loss: 0.111, Generator Loss: 26.110\n",
      "Epoch 711 - Discriminator Loss: 0.152, Generator Loss: 26.573\n",
      "Epoch 721 - Discriminator Loss: 0.001, Generator Loss: 25.809\n",
      "Epoch 731 - Discriminator Loss: 0.000, Generator Loss: 24.838\n",
      "Epoch 741 - Discriminator Loss: 0.000, Generator Loss: 22.889\n",
      "Epoch 751 - Discriminator Loss: 0.000, Generator Loss: 21.158\n",
      "Epoch 761 - Discriminator Loss: 0.000, Generator Loss: 19.524\n",
      "Epoch 771 - Discriminator Loss: 0.000, Generator Loss: 19.452\n",
      "Epoch 781 - Discriminator Loss: 0.000, Generator Loss: 21.400\n",
      "Epoch 791 - Discriminator Loss: 0.000, Generator Loss: 22.952\n",
      "Epoch 801 - Discriminator Loss: 0.036, Generator Loss: 25.775\n",
      "Epoch 811 - Discriminator Loss: 0.096, Generator Loss: 26.339\n",
      "Epoch 821 - Discriminator Loss: 0.063, Generator Loss: 26.273\n",
      "Epoch 831 - Discriminator Loss: 0.023, Generator Loss: 26.181\n",
      "Epoch 841 - Discriminator Loss: 0.003, Generator Loss: 26.251\n",
      "Epoch 851 - Discriminator Loss: 0.037, Generator Loss: 25.492\n",
      "Epoch 861 - Discriminator Loss: 0.006, Generator Loss: 25.357\n",
      "Epoch 871 - Discriminator Loss: 0.001, Generator Loss: 24.631\n",
      "Epoch 881 - Discriminator Loss: 0.007, Generator Loss: 25.170\n",
      "Epoch 891 - Discriminator Loss: 0.002, Generator Loss: 25.065\n",
      "Epoch 901 - Discriminator Loss: 0.027, Generator Loss: 25.187\n",
      "Epoch 911 - Discriminator Loss: 0.067, Generator Loss: 25.129\n",
      "Epoch 921 - Discriminator Loss: 0.002, Generator Loss: 23.985\n",
      "Epoch 931 - Discriminator Loss: 0.000, Generator Loss: 21.959\n",
      "Epoch 941 - Discriminator Loss: 0.000, Generator Loss: 20.274\n",
      "Epoch 951 - Discriminator Loss: 0.000, Generator Loss: 18.590\n",
      "Epoch 961 - Discriminator Loss: 0.000, Generator Loss: 17.470\n",
      "Epoch 971 - Discriminator Loss: 0.000, Generator Loss: 18.831\n",
      "Epoch 981 - Discriminator Loss: 0.000, Generator Loss: 21.064\n",
      "Epoch 991 - Discriminator Loss: 0.000, Generator Loss: 22.809\n",
      "Epoch 1001 - Discriminator Loss: 0.000, Generator Loss: 24.090\n",
      "Epoch 1011 - Discriminator Loss: 0.000, Generator Loss: 22.540\n",
      "Epoch 1021 - Discriminator Loss: 0.000, Generator Loss: 23.363\n",
      "Epoch 1031 - Discriminator Loss: 0.000, Generator Loss: 24.183\n",
      "Epoch 1041 - Discriminator Loss: 0.000, Generator Loss: 25.143\n",
      "Epoch 1051 - Discriminator Loss: 0.243, Generator Loss: 26.713\n",
      "Epoch 1061 - Discriminator Loss: 0.068, Generator Loss: 26.390\n",
      "Epoch 1071 - Discriminator Loss: 0.007, Generator Loss: 25.522\n",
      "Epoch 1081 - Discriminator Loss: 0.000, Generator Loss: 26.247\n",
      "Epoch 1091 - Discriminator Loss: 0.014, Generator Loss: 26.597\n",
      "Epoch 1101 - Discriminator Loss: 0.003, Generator Loss: 26.361\n",
      "Epoch 1111 - Discriminator Loss: 0.011, Generator Loss: 26.467\n",
      "Epoch 1121 - Discriminator Loss: 0.058, Generator Loss: 26.001\n",
      "Epoch 1131 - Discriminator Loss: 0.084, Generator Loss: 26.053\n",
      "Epoch 1141 - Discriminator Loss: 0.032, Generator Loss: 26.352\n",
      "Epoch 1151 - Discriminator Loss: 0.003, Generator Loss: 25.509\n",
      "Epoch 1161 - Discriminator Loss: 0.004, Generator Loss: 25.742\n",
      "Epoch 1171 - Discriminator Loss: 0.012, Generator Loss: 25.837\n",
      "Epoch 1181 - Discriminator Loss: 0.033, Generator Loss: 25.834\n",
      "Epoch 1191 - Discriminator Loss: 0.034, Generator Loss: 25.825\n",
      "Epoch 1201 - Discriminator Loss: 0.017, Generator Loss: 26.078\n",
      "Epoch 1211 - Discriminator Loss: 0.018, Generator Loss: 26.145\n",
      "Epoch 1221 - Discriminator Loss: 0.000, Generator Loss: 25.725\n",
      "Epoch 1231 - Discriminator Loss: 0.001, Generator Loss: 25.734\n",
      "Epoch 1241 - Discriminator Loss: 0.005, Generator Loss: 25.460\n",
      "Epoch 1251 - Discriminator Loss: 0.000, Generator Loss: 25.563\n",
      "Epoch 1261 - Discriminator Loss: 0.004, Generator Loss: 25.679\n",
      "Epoch 1271 - Discriminator Loss: 0.007, Generator Loss: 25.996\n",
      "Epoch 1281 - Discriminator Loss: 0.002, Generator Loss: 25.724\n",
      "Epoch 1291 - Discriminator Loss: 0.007, Generator Loss: 26.151\n",
      "Epoch 1301 - Discriminator Loss: 0.002, Generator Loss: 26.211\n",
      "Epoch 1311 - Discriminator Loss: 0.001, Generator Loss: 25.567\n",
      "Epoch 1321 - Discriminator Loss: 0.005, Generator Loss: 25.927\n"
     ]
    },
    {
     "name": "stdout",
     "output_type": "stream",
     "text": [
      "Epoch 1331 - Discriminator Loss: 0.114, Generator Loss: 26.137\n",
      "Epoch 1341 - Discriminator Loss: 0.052, Generator Loss: 26.126\n",
      "Epoch 1351 - Discriminator Loss: 0.001, Generator Loss: 25.977\n",
      "Epoch 1361 - Discriminator Loss: 0.000, Generator Loss: 25.571\n",
      "Epoch 1371 - Discriminator Loss: 0.000, Generator Loss: 25.758\n",
      "Epoch 1381 - Discriminator Loss: 0.000, Generator Loss: 25.971\n",
      "Epoch 1391 - Discriminator Loss: 0.007, Generator Loss: 26.009\n",
      "Epoch 1401 - Discriminator Loss: 0.008, Generator Loss: 26.192\n",
      "Epoch 1411 - Discriminator Loss: 0.020, Generator Loss: 26.190\n",
      "Epoch 1421 - Discriminator Loss: 0.003, Generator Loss: 26.408\n",
      "Epoch 1431 - Discriminator Loss: 0.000, Generator Loss: 26.160\n",
      "Epoch 1441 - Discriminator Loss: 0.101, Generator Loss: 26.289\n",
      "Epoch 1451 - Discriminator Loss: 0.031, Generator Loss: 26.646\n",
      "Epoch 1461 - Discriminator Loss: 0.002, Generator Loss: 26.378\n",
      "Epoch 1471 - Discriminator Loss: 0.034, Generator Loss: 26.690\n",
      "Epoch 1481 - Discriminator Loss: 0.001, Generator Loss: 25.804\n",
      "Epoch 1491 - Discriminator Loss: 0.024, Generator Loss: 26.405\n",
      "Epoch 1501 - Discriminator Loss: 0.004, Generator Loss: 26.455\n",
      "Epoch 1511 - Discriminator Loss: 0.000, Generator Loss: 25.591\n",
      "Epoch 1521 - Discriminator Loss: 0.000, Generator Loss: 26.127\n",
      "Epoch 1531 - Discriminator Loss: 0.029, Generator Loss: 26.450\n",
      "Epoch 1541 - Discriminator Loss: 0.004, Generator Loss: 26.095\n",
      "Epoch 1551 - Discriminator Loss: 0.016, Generator Loss: 26.192\n",
      "Epoch 1561 - Discriminator Loss: 0.037, Generator Loss: 26.738\n",
      "Epoch 1571 - Discriminator Loss: 0.007, Generator Loss: 26.480\n",
      "Epoch 1581 - Discriminator Loss: 0.000, Generator Loss: 26.088\n",
      "Epoch 1591 - Discriminator Loss: 0.002, Generator Loss: 26.389\n",
      "Epoch 1601 - Discriminator Loss: 0.005, Generator Loss: 26.142\n",
      "Epoch 1611 - Discriminator Loss: 0.003, Generator Loss: 26.412\n",
      "Epoch 1621 - Discriminator Loss: 0.000, Generator Loss: 25.774\n",
      "Epoch 1631 - Discriminator Loss: 0.013, Generator Loss: 26.261\n",
      "Epoch 1641 - Discriminator Loss: 0.041, Generator Loss: 26.571\n",
      "Epoch 1651 - Discriminator Loss: 0.035, Generator Loss: 26.296\n",
      "Epoch 1661 - Discriminator Loss: 0.003, Generator Loss: 26.249\n",
      "Epoch 1671 - Discriminator Loss: 0.000, Generator Loss: 26.309\n",
      "Epoch 1681 - Discriminator Loss: 0.002, Generator Loss: 26.258\n",
      "Epoch 1691 - Discriminator Loss: 0.000, Generator Loss: 26.429\n",
      "Epoch 1701 - Discriminator Loss: 0.041, Generator Loss: 26.810\n",
      "Epoch 1711 - Discriminator Loss: 0.000, Generator Loss: 26.493\n",
      "Epoch 1721 - Discriminator Loss: 0.000, Generator Loss: 26.418\n",
      "Epoch 1731 - Discriminator Loss: 0.021, Generator Loss: 26.423\n",
      "Epoch 1741 - Discriminator Loss: 0.018, Generator Loss: 26.875\n",
      "Epoch 1751 - Discriminator Loss: 0.014, Generator Loss: 26.499\n",
      "Epoch 1761 - Discriminator Loss: 0.008, Generator Loss: 26.777\n",
      "Epoch 1771 - Discriminator Loss: 0.012, Generator Loss: 26.381\n",
      "Epoch 1781 - Discriminator Loss: 0.022, Generator Loss: 26.643\n",
      "Epoch 1791 - Discriminator Loss: 0.014, Generator Loss: 26.598\n",
      "Epoch 1801 - Discriminator Loss: 0.009, Generator Loss: 26.633\n",
      "Epoch 1811 - Discriminator Loss: 0.002, Generator Loss: 26.431\n",
      "Epoch 1821 - Discriminator Loss: 0.000, Generator Loss: 26.117\n",
      "Epoch 1831 - Discriminator Loss: 0.000, Generator Loss: 26.548\n",
      "Epoch 1841 - Discriminator Loss: 0.002, Generator Loss: 26.974\n",
      "Epoch 1851 - Discriminator Loss: 0.026, Generator Loss: 26.539\n",
      "Epoch 1861 - Discriminator Loss: 0.015, Generator Loss: 26.633\n",
      "Epoch 1871 - Discriminator Loss: 0.008, Generator Loss: 26.542\n",
      "Epoch 1881 - Discriminator Loss: 0.008, Generator Loss: 26.813\n",
      "Epoch 1891 - Discriminator Loss: 0.002, Generator Loss: 26.764\n",
      "Epoch 1901 - Discriminator Loss: 0.001, Generator Loss: 26.368\n",
      "Epoch 1911 - Discriminator Loss: 0.001, Generator Loss: 26.381\n",
      "Epoch 1921 - Discriminator Loss: 0.015, Generator Loss: 26.588\n",
      "Epoch 1931 - Discriminator Loss: 0.002, Generator Loss: 26.447\n",
      "Epoch 1941 - Discriminator Loss: 0.011, Generator Loss: 26.471\n",
      "Epoch 1951 - Discriminator Loss: 0.001, Generator Loss: 26.928\n",
      "Epoch 1961 - Discriminator Loss: 0.009, Generator Loss: 26.773\n",
      "Epoch 1971 - Discriminator Loss: 0.001, Generator Loss: 26.300\n",
      "Epoch 1981 - Discriminator Loss: 0.005, Generator Loss: 26.653\n",
      "Epoch 1991 - Discriminator Loss: 0.001, Generator Loss: 26.848\n"
     ]
    }
   ],
   "source": [
    "# Training DCGANs\n",
    "for epoch in range(num_epochs):\n",
    "    d_losses = []\n",
    "    g_losses = []\n",
    "    synthentic_data = []\n",
    "    for i, fraud_data in enumerate(train_loader):\n",
    "        # Updating the weights of the Discriminator\n",
    "        discriminator.zero_grad() # Initialize gradients of the Discriminator to 0\n",
    "        \n",
    "        mini_batch = fraud_data.size()[0]\n",
    "        \n",
    "        # Wrap data in PyTorch Variable\n",
    "        d_real_data = Variable(fraud_data[0])\n",
    "        y_real = Variable(torch.ones(1))\n",
    "        y_fake = Variable(torch.zeros(1))\n",
    "\n",
    "        # Training the Discriminator with real data\n",
    "        d_real_result = discriminator(d_real_data) # Forward propagate this real data into the neural network\n",
    "        d_real_loss = BCE_loss(d_real_result, y_real) # Compute the loss between the prediction and actual\n",
    "        d_real_loss.backward()\n",
    "    \n",
    "        # Inject fake data to the generator\n",
    "        d_gen_input = Variable(torch.randn(minibatch_size, g_input_size))\n",
    "        d_fake_data = generator(d_gen_input).detach()  # detach to avoid training G on these labels\n",
    "        \n",
    "        # Train the Discriminator with a fake data generated by the Generator\n",
    "        d_fake_result = discriminator(d_fake_data.t())\n",
    "        d_fake_loss = BCE_loss(d_fake_result, y_fake)  # zeros = fake\n",
    "        d_fake_loss.backward()\n",
    "        \n",
    "        # Combine discriminator loss from real data and fake data\n",
    "        d_train_loss = d_real_loss + d_fake_loss\n",
    "        \n",
    "        #d_train_loss.backward()\n",
    "        d_optimizer.step()     # Apply SGD to update the weight\n",
    "        d_losses.append(d_train_loss.data[0])\n",
    "        \n",
    "        # Update the weight of the Generator \n",
    "        generator.zero_grad()\n",
    "        gen_input = Variable(torch.randn(minibatch_size, g_input_size))  \n",
    "        g_fake_data = generator(gen_input)\n",
    "        \n",
    "        dg_fake_result = discriminator(g_fake_data.t())\n",
    "        g_loss = BCE_loss(dg_fake_result, y_real)\n",
    "        g_loss.backward()\n",
    "        g_optimizer.step()\n",
    "        g_losses.append(g_loss.data[0])\n",
    "        \n",
    "        synthentic_data.append(d_fake_data.t())\n",
    "        \n",
    "    if epoch % print_interval == 0:       \n",
    "        print('Epoch {} - Discriminator Loss: {:.3f}, Generator Loss: {:.3f}'.format((epoch + 1), \n",
    "                          torch.mean(torch.FloatTensor(d_losses)), torch.mean(torch.FloatTensor(g_losses))))"
   ]
  },
  {
   "cell_type": "code",
   "execution_count": 44,
   "metadata": {
    "scrolled": true
   },
   "outputs": [
    {
     "data": {
      "text/plain": [
       "[<matplotlib.lines.Line2D at 0x1a1fa83da0>]"
      ]
     },
     "execution_count": 44,
     "metadata": {},
     "output_type": "execute_result"
    },
    {
     "data": {
      "image/png": "[encoded data removed]",
      "text/plain": [
       "<Figure size 432x288 with 1 Axes>"
      ]
     },
     "metadata": {},
     "output_type": "display_data"
    }
   ],
   "source": [
    "plt.plot(d_losses)"
   ]
  },
  {
   "cell_type": "code",
   "execution_count": 45,
   "metadata": {},
   "outputs": [
    {
     "data": {
      "text/plain": [
       "[<matplotlib.lines.Line2D at 0x1a2020ba20>]"
      ]
     },
     "execution_count": 45,
     "metadata": {},
     "output_type": "execute_result"
    },
    {
     "data": {
      "image/png": "[encoded data removed]",
      "text/plain": [
       "<Figure size 432x288 with 1 Axes>"
      ]
     },
     "metadata": {},
     "output_type": "display_data"
    }
   ],
   "source": [
    "plt.plot(g_losses)"
   ]
  },
  {
   "cell_type": "code",
   "execution_count": 78,
   "metadata": {},
   "outputs": [
    {
     "data": {
      "text/plain": [
       "tensor([[ 1.3814e+00, -5.6949e-02, -5.7463e-02,  ..., -1.6260e-01,\n",
       "         -5.4332e-02, -4.6051e-02],\n",
       "        [-4.5472e-02, -1.0283e-01, -5.7138e-02,  ..., -5.6385e-02,\n",
       "          5.2308e-02, -4.5068e-02],\n",
       "        [ 1.2165e-01,  2.9972e+00, -9.1125e-03,  ...,  3.7267e+00,\n",
       "         -5.5316e-02,  9.2408e-01],\n",
       "        ...,\n",
       "        [-1.7963e-02,  9.3903e-03,  1.9030e-02,  ...,  2.2842e-02,\n",
       "         -2.0149e-02,  3.0771e-06],\n",
       "        [-3.8866e-02, -1.7103e-02, -1.9109e-02,  ..., -1.4033e-02,\n",
       "         -1.7922e-02, -3.6210e-01],\n",
       "        [-1.6612e-02, -1.7381e-02, -1.9701e-02,  ...,  2.5594e+00,\n",
       "          1.0047e+00, -3.1743e-02]])"
      ]
     },
     "execution_count": 78,
     "metadata": {},
     "output_type": "execute_result"
    }
   ],
   "source": [
    "# Now we can train and test model on the generated data\n",
    "synthentic_data"
   ]
  },
  {
   "cell_type": "code",
   "execution_count": 79,
   "metadata": {},
   "outputs": [
    {
     "ename": "TypeError",
     "evalue": "cat(): argument 'tensors' (position 1) must be tuple of Tensors, not Tensor",
     "output_type": "error",
     "traceback": [
      "\u001b[0;31m---------------------------------------------------------------------------\u001b[0m",
      "\u001b[0;31mTypeError\u001b[0m                                 Traceback (most recent call last)",
      "\u001b[0;32m<ipython-input-79-248c0e83a90a>\u001b[0m in \u001b[0;36m<module>\u001b[0;34m()\u001b[0m\n\u001b[1;32m      1\u001b[0m \u001b[0;31m# Convert array of tensor to tensors\u001b[0m\u001b[0;34m\u001b[0m\u001b[0;34m\u001b[0m\u001b[0m\n\u001b[1;32m      2\u001b[0m \u001b[0mtemp\u001b[0m \u001b[0;34m=\u001b[0m \u001b[0mtorch\u001b[0m\u001b[0;34m.\u001b[0m\u001b[0mTensor\u001b[0m\u001b[0;34m(\u001b[0m\u001b[0;36m99\u001b[0m\u001b[0;34m)\u001b[0m\u001b[0;34m\u001b[0m\u001b[0m\n\u001b[0;32m----> 3\u001b[0;31m \u001b[0msynthentic_data\u001b[0m \u001b[0;34m=\u001b[0m \u001b[0mtorch\u001b[0m\u001b[0;34m.\u001b[0m\u001b[0mcat\u001b[0m\u001b[0;34m(\u001b[0m\u001b[0msynthentic_data\u001b[0m\u001b[0;34m,\u001b[0m \u001b[0mout\u001b[0m\u001b[0;34m=\u001b[0m\u001b[0mtemp\u001b[0m\u001b[0;34m)\u001b[0m\u001b[0;34m\u001b[0m\u001b[0m\n\u001b[0m",
      "\u001b[0;31mTypeError\u001b[0m: cat(): argument 'tensors' (position 1) must be tuple of Tensors, not Tensor"
     ]
    }
   ],
   "source": [
    "# Convert array of tensor to tensors\n",
    "temp = torch.Tensor(99)\n",
    "synthentic_data = torch.cat(synthentic_data, out=temp)"
   ]
  },
  {
   "cell_type": "code",
   "execution_count": 80,
   "metadata": {},
   "outputs": [
    {
     "data": {
      "text/html": [
       "<div>\n",
       "<style scoped>\n",
       "    .dataframe tbody tr th:only-of-type {\n",
       "        vertical-align: middle;\n",
       "    }\n",
       "\n",
       "    .dataframe tbody tr th {\n",
       "        vertical-align: top;\n",
       "    }\n",
       "\n",
       "    .dataframe thead th {\n",
       "        text-align: right;\n",
       "    }\n",
       "</style>\n",
       "<table border=\"1\" class=\"dataframe\">\n",
       "  <thead>\n",
       "    <tr style=\"text-align: right;\">\n",
       "      <th></th>\n",
       "      <th>0</th>\n",
       "      <th>1</th>\n",
       "      <th>2</th>\n",
       "      <th>3</th>\n",
       "      <th>4</th>\n",
       "      <th>5</th>\n",
       "      <th>6</th>\n",
       "      <th>7</th>\n",
       "      <th>8</th>\n",
       "      <th>9</th>\n",
       "      <th>...</th>\n",
       "      <th>19</th>\n",
       "      <th>20</th>\n",
       "      <th>21</th>\n",
       "      <th>22</th>\n",
       "      <th>23</th>\n",
       "      <th>24</th>\n",
       "      <th>25</th>\n",
       "      <th>26</th>\n",
       "      <th>27</th>\n",
       "      <th>28</th>\n",
       "    </tr>\n",
       "  </thead>\n",
       "  <tbody>\n",
       "    <tr>\n",
       "      <th>0</th>\n",
       "      <td>1.381356</td>\n",
       "      <td>-0.056949</td>\n",
       "      <td>-0.057463</td>\n",
       "      <td>-0.040298</td>\n",
       "      <td>-0.057084</td>\n",
       "      <td>-0.056528</td>\n",
       "      <td>-0.066441</td>\n",
       "      <td>-0.057056</td>\n",
       "      <td>-0.048743</td>\n",
       "      <td>-1.982630</td>\n",
       "      <td>...</td>\n",
       "      <td>-0.057270</td>\n",
       "      <td>-0.054910</td>\n",
       "      <td>-0.051792</td>\n",
       "      <td>-0.055885</td>\n",
       "      <td>-0.056607</td>\n",
       "      <td>-0.040957</td>\n",
       "      <td>2.976045</td>\n",
       "      <td>-0.162601</td>\n",
       "      <td>-0.054332</td>\n",
       "      <td>-0.046051</td>\n",
       "    </tr>\n",
       "    <tr>\n",
       "      <th>1</th>\n",
       "      <td>-0.045472</td>\n",
       "      <td>-0.102833</td>\n",
       "      <td>-0.057138</td>\n",
       "      <td>0.295807</td>\n",
       "      <td>-0.097408</td>\n",
       "      <td>-0.144796</td>\n",
       "      <td>-0.055682</td>\n",
       "      <td>-0.014743</td>\n",
       "      <td>-0.300167</td>\n",
       "      <td>-0.063522</td>\n",
       "      <td>...</td>\n",
       "      <td>-0.057548</td>\n",
       "      <td>-0.045611</td>\n",
       "      <td>-0.071561</td>\n",
       "      <td>1.058161</td>\n",
       "      <td>-0.641967</td>\n",
       "      <td>3.363811</td>\n",
       "      <td>0.424565</td>\n",
       "      <td>-0.056385</td>\n",
       "      <td>0.052308</td>\n",
       "      <td>-0.045068</td>\n",
       "    </tr>\n",
       "    <tr>\n",
       "      <th>2</th>\n",
       "      <td>0.121647</td>\n",
       "      <td>2.997174</td>\n",
       "      <td>-0.009113</td>\n",
       "      <td>-0.061742</td>\n",
       "      <td>-0.633560</td>\n",
       "      <td>-0.057275</td>\n",
       "      <td>-0.046771</td>\n",
       "      <td>-0.053500</td>\n",
       "      <td>-0.129914</td>\n",
       "      <td>-0.932856</td>\n",
       "      <td>...</td>\n",
       "      <td>-0.361437</td>\n",
       "      <td>-0.057405</td>\n",
       "      <td>-0.059111</td>\n",
       "      <td>-1.944048</td>\n",
       "      <td>-1.632115</td>\n",
       "      <td>-0.031994</td>\n",
       "      <td>-1.712119</td>\n",
       "      <td>3.726690</td>\n",
       "      <td>-0.055316</td>\n",
       "      <td>0.924076</td>\n",
       "    </tr>\n",
       "    <tr>\n",
       "      <th>3</th>\n",
       "      <td>0.011625</td>\n",
       "      <td>-0.057230</td>\n",
       "      <td>-0.053383</td>\n",
       "      <td>-0.233911</td>\n",
       "      <td>0.090462</td>\n",
       "      <td>-0.058491</td>\n",
       "      <td>-0.062384</td>\n",
       "      <td>-0.085092</td>\n",
       "      <td>-0.292447</td>\n",
       "      <td>-2.205114</td>\n",
       "      <td>...</td>\n",
       "      <td>-0.058340</td>\n",
       "      <td>-0.105928</td>\n",
       "      <td>-0.542505</td>\n",
       "      <td>0.128057</td>\n",
       "      <td>-0.056475</td>\n",
       "      <td>-0.047488</td>\n",
       "      <td>-0.058267</td>\n",
       "      <td>-0.034562</td>\n",
       "      <td>-0.035444</td>\n",
       "      <td>-0.058541</td>\n",
       "    </tr>\n",
       "    <tr>\n",
       "      <th>4</th>\n",
       "      <td>-0.090371</td>\n",
       "      <td>-0.049098</td>\n",
       "      <td>-0.058707</td>\n",
       "      <td>0.014012</td>\n",
       "      <td>-0.062817</td>\n",
       "      <td>-0.178670</td>\n",
       "      <td>-2.141018</td>\n",
       "      <td>-0.058279</td>\n",
       "      <td>-0.079392</td>\n",
       "      <td>-1.248853</td>\n",
       "      <td>...</td>\n",
       "      <td>-0.138195</td>\n",
       "      <td>0.042109</td>\n",
       "      <td>-0.056917</td>\n",
       "      <td>-0.058688</td>\n",
       "      <td>-1.175004</td>\n",
       "      <td>-0.056022</td>\n",
       "      <td>-0.048289</td>\n",
       "      <td>-1.096804</td>\n",
       "      <td>-1.868680</td>\n",
       "      <td>-0.055720</td>\n",
       "    </tr>\n",
       "  </tbody>\n",
       "</table>\n",
       "<p>5 rows × 29 columns</p>\n",
       "</div>"
      ],
      "text/plain": [
       "         0         1         2         3         4         5         6   \\\n",
       "0  1.381356 -0.056949 -0.057463 -0.040298 -0.057084 -0.056528 -0.066441   \n",
       "1 -0.045472 -0.102833 -0.057138  0.295807 -0.097408 -0.144796 -0.055682   \n",
       "2  0.121647  2.997174 -0.009113 -0.061742 -0.633560 -0.057275 -0.046771   \n",
       "3  0.011625 -0.057230 -0.053383 -0.233911  0.090462 -0.058491 -0.062384   \n",
       "4 -0.090371 -0.049098 -0.058707  0.014012 -0.062817 -0.178670 -2.141018   \n",
       "\n",
       "         7         8         9     ...           19        20        21  \\\n",
       "0 -0.057056 -0.048743 -1.982630    ...    -0.057270 -0.054910 -0.051792   \n",
       "1 -0.014743 -0.300167 -0.063522    ...    -0.057548 -0.045611 -0.071561   \n",
       "2 -0.053500 -0.129914 -0.932856    ...    -0.361437 -0.057405 -0.059111   \n",
       "3 -0.085092 -0.292447 -2.205114    ...    -0.058340 -0.105928 -0.542505   \n",
       "4 -0.058279 -0.079392 -1.248853    ...    -0.138195  0.042109 -0.056917   \n",
       "\n",
       "         22        23        24        25        26        27        28  \n",
       "0 -0.055885 -0.056607 -0.040957  2.976045 -0.162601 -0.054332 -0.046051  \n",
       "1  1.058161 -0.641967  3.363811  0.424565 -0.056385  0.052308 -0.045068  \n",
       "2 -1.944048 -1.632115 -0.031994 -1.712119  3.726690 -0.055316  0.924076  \n",
       "3  0.128057 -0.056475 -0.047488 -0.058267 -0.034562 -0.035444 -0.058541  \n",
       "4 -0.058688 -1.175004 -0.056022 -0.048289 -1.096804 -1.868680 -0.055720  \n",
       "\n",
       "[5 rows x 29 columns]"
      ]
     },
     "execution_count": 80,
     "metadata": {},
     "output_type": "execute_result"
    }
   ],
   "source": [
    "# Convert tensor to PD data frame\n",
    "synthentic_data_df = pd.DataFrame(data=synthentic_data.data.numpy());\n",
    "synthentic_data_df.head()"
   ]
  },
  {
   "cell_type": "code",
   "execution_count": 81,
   "metadata": {},
   "outputs": [],
   "source": [
    "# Rename columns of the synthentic dataset\n",
    "cols = ['V1', 'V2', 'V3', 'V4', 'V5', 'V6', 'V7', 'V8', 'V9', 'V10', 'V11', 'V12', 'V13', 'V14', 'V15', 'V16', 'V17', 'V18',\n",
    "        'V19', 'V20', 'V21', 'V22', 'V23', 'V24', 'V25', 'V26', 'V27', 'V28', 'normAmount']\n",
    "synthentic_data_df.columns = cols"
   ]
  },
  {
   "cell_type": "code",
   "execution_count": 82,
   "metadata": {
    "scrolled": true
   },
   "outputs": [
    {
     "data": {
      "text/html": [
       "<div>\n",
       "<style scoped>\n",
       "    .dataframe tbody tr th:only-of-type {\n",
       "        vertical-align: middle;\n",
       "    }\n",
       "\n",
       "    .dataframe tbody tr th {\n",
       "        vertical-align: top;\n",
       "    }\n",
       "\n",
       "    .dataframe thead th {\n",
       "        text-align: right;\n",
       "    }\n",
       "</style>\n",
       "<table border=\"1\" class=\"dataframe\">\n",
       "  <thead>\n",
       "    <tr style=\"text-align: right;\">\n",
       "      <th></th>\n",
       "      <th>V1</th>\n",
       "      <th>V2</th>\n",
       "      <th>V3</th>\n",
       "      <th>V4</th>\n",
       "      <th>V5</th>\n",
       "      <th>V6</th>\n",
       "      <th>V7</th>\n",
       "      <th>V8</th>\n",
       "      <th>V9</th>\n",
       "      <th>V10</th>\n",
       "      <th>...</th>\n",
       "      <th>V20</th>\n",
       "      <th>V21</th>\n",
       "      <th>V22</th>\n",
       "      <th>V23</th>\n",
       "      <th>V24</th>\n",
       "      <th>V25</th>\n",
       "      <th>V26</th>\n",
       "      <th>V27</th>\n",
       "      <th>V28</th>\n",
       "      <th>normAmount</th>\n",
       "    </tr>\n",
       "  </thead>\n",
       "  <tbody>\n",
       "    <tr>\n",
       "      <th>0</th>\n",
       "      <td>1.381356</td>\n",
       "      <td>-0.056949</td>\n",
       "      <td>-0.057463</td>\n",
       "      <td>-0.040298</td>\n",
       "      <td>-0.057084</td>\n",
       "      <td>-0.056528</td>\n",
       "      <td>-0.066441</td>\n",
       "      <td>-0.057056</td>\n",
       "      <td>-0.048743</td>\n",
       "      <td>-1.982630</td>\n",
       "      <td>...</td>\n",
       "      <td>-0.057270</td>\n",
       "      <td>-0.054910</td>\n",
       "      <td>-0.051792</td>\n",
       "      <td>-0.055885</td>\n",
       "      <td>-0.056607</td>\n",
       "      <td>-0.040957</td>\n",
       "      <td>2.976045</td>\n",
       "      <td>-0.162601</td>\n",
       "      <td>-0.054332</td>\n",
       "      <td>-0.046051</td>\n",
       "    </tr>\n",
       "    <tr>\n",
       "      <th>1</th>\n",
       "      <td>-0.045472</td>\n",
       "      <td>-0.102833</td>\n",
       "      <td>-0.057138</td>\n",
       "      <td>0.295807</td>\n",
       "      <td>-0.097408</td>\n",
       "      <td>-0.144796</td>\n",
       "      <td>-0.055682</td>\n",
       "      <td>-0.014743</td>\n",
       "      <td>-0.300167</td>\n",
       "      <td>-0.063522</td>\n",
       "      <td>...</td>\n",
       "      <td>-0.057548</td>\n",
       "      <td>-0.045611</td>\n",
       "      <td>-0.071561</td>\n",
       "      <td>1.058161</td>\n",
       "      <td>-0.641967</td>\n",
       "      <td>3.363811</td>\n",
       "      <td>0.424565</td>\n",
       "      <td>-0.056385</td>\n",
       "      <td>0.052308</td>\n",
       "      <td>-0.045068</td>\n",
       "    </tr>\n",
       "    <tr>\n",
       "      <th>2</th>\n",
       "      <td>0.121647</td>\n",
       "      <td>2.997174</td>\n",
       "      <td>-0.009113</td>\n",
       "      <td>-0.061742</td>\n",
       "      <td>-0.633560</td>\n",
       "      <td>-0.057275</td>\n",
       "      <td>-0.046771</td>\n",
       "      <td>-0.053500</td>\n",
       "      <td>-0.129914</td>\n",
       "      <td>-0.932856</td>\n",
       "      <td>...</td>\n",
       "      <td>-0.361437</td>\n",
       "      <td>-0.057405</td>\n",
       "      <td>-0.059111</td>\n",
       "      <td>-1.944048</td>\n",
       "      <td>-1.632115</td>\n",
       "      <td>-0.031994</td>\n",
       "      <td>-1.712119</td>\n",
       "      <td>3.726690</td>\n",
       "      <td>-0.055316</td>\n",
       "      <td>0.924076</td>\n",
       "    </tr>\n",
       "    <tr>\n",
       "      <th>3</th>\n",
       "      <td>0.011625</td>\n",
       "      <td>-0.057230</td>\n",
       "      <td>-0.053383</td>\n",
       "      <td>-0.233911</td>\n",
       "      <td>0.090462</td>\n",
       "      <td>-0.058491</td>\n",
       "      <td>-0.062384</td>\n",
       "      <td>-0.085092</td>\n",
       "      <td>-0.292447</td>\n",
       "      <td>-2.205114</td>\n",
       "      <td>...</td>\n",
       "      <td>-0.058340</td>\n",
       "      <td>-0.105928</td>\n",
       "      <td>-0.542505</td>\n",
       "      <td>0.128057</td>\n",
       "      <td>-0.056475</td>\n",
       "      <td>-0.047488</td>\n",
       "      <td>-0.058267</td>\n",
       "      <td>-0.034562</td>\n",
       "      <td>-0.035444</td>\n",
       "      <td>-0.058541</td>\n",
       "    </tr>\n",
       "    <tr>\n",
       "      <th>4</th>\n",
       "      <td>-0.090371</td>\n",
       "      <td>-0.049098</td>\n",
       "      <td>-0.058707</td>\n",
       "      <td>0.014012</td>\n",
       "      <td>-0.062817</td>\n",
       "      <td>-0.178670</td>\n",
       "      <td>-2.141018</td>\n",
       "      <td>-0.058279</td>\n",
       "      <td>-0.079392</td>\n",
       "      <td>-1.248853</td>\n",
       "      <td>...</td>\n",
       "      <td>-0.138195</td>\n",
       "      <td>0.042109</td>\n",
       "      <td>-0.056917</td>\n",
       "      <td>-0.058688</td>\n",
       "      <td>-1.175004</td>\n",
       "      <td>-0.056022</td>\n",
       "      <td>-0.048289</td>\n",
       "      <td>-1.096804</td>\n",
       "      <td>-1.868680</td>\n",
       "      <td>-0.055720</td>\n",
       "    </tr>\n",
       "  </tbody>\n",
       "</table>\n",
       "<p>5 rows × 29 columns</p>\n",
       "</div>"
      ],
      "text/plain": [
       "         V1        V2        V3        V4        V5        V6        V7  \\\n",
       "0  1.381356 -0.056949 -0.057463 -0.040298 -0.057084 -0.056528 -0.066441   \n",
       "1 -0.045472 -0.102833 -0.057138  0.295807 -0.097408 -0.144796 -0.055682   \n",
       "2  0.121647  2.997174 -0.009113 -0.061742 -0.633560 -0.057275 -0.046771   \n",
       "3  0.011625 -0.057230 -0.053383 -0.233911  0.090462 -0.058491 -0.062384   \n",
       "4 -0.090371 -0.049098 -0.058707  0.014012 -0.062817 -0.178670 -2.141018   \n",
       "\n",
       "         V8        V9       V10     ...           V20       V21       V22  \\\n",
       "0 -0.057056 -0.048743 -1.982630     ...     -0.057270 -0.054910 -0.051792   \n",
       "1 -0.014743 -0.300167 -0.063522     ...     -0.057548 -0.045611 -0.071561   \n",
       "2 -0.053500 -0.129914 -0.932856     ...     -0.361437 -0.057405 -0.059111   \n",
       "3 -0.085092 -0.292447 -2.205114     ...     -0.058340 -0.105928 -0.542505   \n",
       "4 -0.058279 -0.079392 -1.248853     ...     -0.138195  0.042109 -0.056917   \n",
       "\n",
       "        V23       V24       V25       V26       V27       V28  normAmount  \n",
       "0 -0.055885 -0.056607 -0.040957  2.976045 -0.162601 -0.054332   -0.046051  \n",
       "1  1.058161 -0.641967  3.363811  0.424565 -0.056385  0.052308   -0.045068  \n",
       "2 -1.944048 -1.632115 -0.031994 -1.712119  3.726690 -0.055316    0.924076  \n",
       "3  0.128057 -0.056475 -0.047488 -0.058267 -0.034562 -0.035444   -0.058541  \n",
       "4 -0.058688 -1.175004 -0.056022 -0.048289 -1.096804 -1.868680   -0.055720  \n",
       "\n",
       "[5 rows x 29 columns]"
      ]
     },
     "execution_count": 82,
     "metadata": {},
     "output_type": "execute_result"
    }
   ],
   "source": [
    "# Convert tensor to PD data frame\n",
    "#synthentic_data_df = pd.DataFrame(data=synthentic_data.data.numpy());\n",
    "synthentic_data_df.head(5)"
   ]
  },
  {
   "cell_type": "code",
   "execution_count": 83,
   "metadata": {},
   "outputs": [],
   "source": [
    "# Add 1 to Class column since they're all synthetic generated fraud data\n",
    "synthentic_data_df['Class'] = 1"
   ]
  },
  {
   "cell_type": "code",
   "execution_count": 84,
   "metadata": {},
   "outputs": [],
   "source": [
    "data = pd.read_csv(\"creditcard.csv\")\n",
    "data['normAmount'] = StandardScaler().fit_transform(data['Amount'].values.reshape(-1, 1))\n",
    "data = data.drop(['Time','Amount'],axis=1)\n",
    "\n",
    "# Rearrange columns to the right order\n",
    "cols = ['V1', 'V2', 'V3', 'V4', 'V5', 'V6', 'V7', 'V8', 'V9', 'V10', 'V11', 'V12', 'V13', 'V14', 'V15', 'V16', 'V17', 'V18',\n",
    "        'V19', 'V20', 'V21', 'V22', 'V23', 'V24', 'V25', 'V26', 'V27', 'V28', 'normAmount', 'Class']\n",
    "data = data[cols]"
   ]
  },
  {
   "cell_type": "code",
   "execution_count": 85,
   "metadata": {},
   "outputs": [
    {
     "name": "stdout",
     "output_type": "stream",
     "text": [
      "Shape of X: (284807, 29)\n",
      "Shape of y: (284807, 1)\n"
     ]
    }
   ],
   "source": [
    "X = np.array(data.loc[:, data.columns != 'Class'])\n",
    "y = np.array(data.loc[:, data.columns == 'Class'])\n",
    "print('Shape of X: {}'.format(X.shape))\n",
    "print('Shape of y: {}'.format(y.shape))"
   ]
  },
  {
   "cell_type": "code",
   "execution_count": 86,
   "metadata": {},
   "outputs": [
    {
     "name": "stdout",
     "output_type": "stream",
     "text": [
      "xtrain shape\n",
      "(199364, 29)\n",
      "xtest shape\n",
      "(85443, 29)\n"
     ]
    }
   ],
   "source": [
    "# Splitting the dataset into the Training set and Test set\n",
    "X_train, X_test, y_train, y_test = train_test_split(X, y, test_size=0.3, random_state=0)\n",
    "print('xtrain shape')\n",
    "print(X_train.shape)\n",
    "print('xtest shape')\n",
    "print(X_test.shape)"
   ]
  },
  {
   "cell_type": "code",
   "execution_count": 87,
   "metadata": {},
   "outputs": [],
   "source": [
    "# Split the synthentic data\n",
    "X_synthentic = np.array(synthentic_data_df.loc[:, synthentic_data_df.columns != 'Class'])\n",
    "y_synthentic = np.array(synthentic_data_df.loc[:, synthentic_data_df.columns == 'Class'])"
   ]
  },
  {
   "cell_type": "code",
   "execution_count": 104,
   "metadata": {},
   "outputs": [
    {
     "data": {
      "text/plain": [
       "numpy.ndarray"
      ]
     },
     "execution_count": 104,
     "metadata": {},
     "output_type": "execute_result"
    }
   ],
   "source": [
    "type(X_synthentic)"
   ]
  },
  {
   "cell_type": "code",
   "execution_count": 106,
   "metadata": {},
   "outputs": [],
   "source": [
    "# Add newly generated fraud data to the training data set\n",
    "new_X = np.concatenate((X_train, X_synthentic), axis=0)\n",
    "new_y = np.concatenate((y_train, y_synthentic), axis=0)"
   ]
  },
  {
   "cell_type": "code",
   "execution_count": 107,
   "metadata": {},
   "outputs": [
    {
     "data": {
      "text/plain": [
       "RandomForestClassifier(bootstrap=True, class_weight=None, criterion='gini',\n",
       "            max_depth=None, max_features='auto', max_leaf_nodes=None,\n",
       "            min_impurity_decrease=0.0, min_impurity_split=None,\n",
       "            min_samples_leaf=1, min_samples_split=2,\n",
       "            min_weight_fraction_leaf=0.0, n_estimators=10, n_jobs=1,\n",
       "            oob_score=False, random_state=None, verbose=0,\n",
       "            warm_start=False)"
      ]
     },
     "execution_count": 107,
     "metadata": {},
     "output_type": "execute_result"
    }
   ],
   "source": [
    "classifier = RandomForestClassifier()\n",
    "classifier.fit(new_X, new_y)"
   ]
  },
  {
   "cell_type": "code",
   "execution_count": 108,
   "metadata": {},
   "outputs": [],
   "source": [
    "# Predicting the Test set results\n",
    "y_pred = classifier.predict(X_test)"
   ]
  },
  {
   "cell_type": "code",
   "execution_count": 109,
   "metadata": {},
   "outputs": [
    {
     "name": "stdout",
     "output_type": "stream",
     "text": [
      "Confusion Matrix\n"
     ]
    },
    {
     "data": {
      "text/plain": [
       "array([[85284,    12],\n",
       "       [   36,   111]])"
      ]
     },
     "execution_count": 109,
     "metadata": {},
     "output_type": "execute_result"
    }
   ],
   "source": [
    "# Making a Confusion Matrix\n",
    "from sklearn.metrics import confusion_matrix\n",
    "print('Confusion Matrix')\n",
    "cm = confusion_matrix(y_test, y_pred)\n",
    "cm"
   ]
  },
  {
   "cell_type": "code",
   "execution_count": 51,
   "metadata": {},
   "outputs": [
    {
     "ename": "FileNotFoundError",
     "evalue": "[Errno 2] No such file or directory: '/output/generator.pt'",
     "output_type": "error",
     "traceback": [
      "\u001b[0;31m---------------------------------------------------------------------------\u001b[0m",
      "\u001b[0;31mFileNotFoundError\u001b[0m                         Traceback (most recent call last)",
      "\u001b[0;32m<ipython-input-51-ac5a9421c4e2>\u001b[0m in \u001b[0;36m<module>\u001b[0;34m()\u001b[0m\n\u001b[1;32m      1\u001b[0m \u001b[0;31m# Save the model\u001b[0m\u001b[0;34m\u001b[0m\u001b[0;34m\u001b[0m\u001b[0m\n\u001b[0;32m----> 2\u001b[0;31m \u001b[0mtorch\u001b[0m\u001b[0;34m.\u001b[0m\u001b[0msave\u001b[0m\u001b[0;34m(\u001b[0m\u001b[0mgenerator\u001b[0m\u001b[0;34m,\u001b[0m \u001b[0mOUTPUT_PATH\u001b[0m \u001b[0;34m+\u001b[0m \u001b[0;34m\"generator.pt\"\u001b[0m\u001b[0;34m)\u001b[0m\u001b[0;34m\u001b[0m\u001b[0m\n\u001b[0m\u001b[1;32m      3\u001b[0m \u001b[0mtorch\u001b[0m\u001b[0;34m.\u001b[0m\u001b[0msave\u001b[0m\u001b[0;34m(\u001b[0m\u001b[0mdiscriminator\u001b[0m\u001b[0;34m,\u001b[0m \u001b[0mOUTPUT_PATH\u001b[0m \u001b[0;34m+\u001b[0m \u001b[0;34m\"discriminator.pt\"\u001b[0m\u001b[0;34m)\u001b[0m\u001b[0;34m\u001b[0m\u001b[0m\n",
      "\u001b[0;32m~/anaconda3/lib/python3.6/site-packages/torch/serialization.py\u001b[0m in \u001b[0;36msave\u001b[0;34m(obj, f, pickle_module, pickle_protocol)\u001b[0m\n\u001b[1;32m    159\u001b[0m         \u001b[0;34m>>\u001b[0m\u001b[0;34m>\u001b[0m \u001b[0mtorch\u001b[0m\u001b[0;34m.\u001b[0m\u001b[0msave\u001b[0m\u001b[0;34m(\u001b[0m\u001b[0mx\u001b[0m\u001b[0;34m,\u001b[0m \u001b[0mbuffer\u001b[0m\u001b[0;34m)\u001b[0m\u001b[0;34m\u001b[0m\u001b[0m\n\u001b[1;32m    160\u001b[0m     \"\"\"\n\u001b[0;32m--> 161\u001b[0;31m     \u001b[0;32mreturn\u001b[0m \u001b[0m_with_file_like\u001b[0m\u001b[0;34m(\u001b[0m\u001b[0mf\u001b[0m\u001b[0;34m,\u001b[0m \u001b[0;34m\"wb\"\u001b[0m\u001b[0;34m,\u001b[0m \u001b[0;32mlambda\u001b[0m \u001b[0mf\u001b[0m\u001b[0;34m:\u001b[0m \u001b[0m_save\u001b[0m\u001b[0;34m(\u001b[0m\u001b[0mobj\u001b[0m\u001b[0;34m,\u001b[0m \u001b[0mf\u001b[0m\u001b[0;34m,\u001b[0m \u001b[0mpickle_module\u001b[0m\u001b[0;34m,\u001b[0m \u001b[0mpickle_protocol\u001b[0m\u001b[0;34m)\u001b[0m\u001b[0;34m)\u001b[0m\u001b[0;34m\u001b[0m\u001b[0m\n\u001b[0m\u001b[1;32m    162\u001b[0m \u001b[0;34m\u001b[0m\u001b[0m\n\u001b[1;32m    163\u001b[0m \u001b[0;34m\u001b[0m\u001b[0m\n",
      "\u001b[0;32m~/anaconda3/lib/python3.6/site-packages/torch/serialization.py\u001b[0m in \u001b[0;36m_with_file_like\u001b[0;34m(f, mode, body)\u001b[0m\n\u001b[1;32m    114\u001b[0m             \u001b[0;34m(\u001b[0m\u001b[0msys\u001b[0m\u001b[0;34m.\u001b[0m\u001b[0mversion_info\u001b[0m\u001b[0;34m[\u001b[0m\u001b[0;36m0\u001b[0m\u001b[0;34m]\u001b[0m \u001b[0;34m==\u001b[0m \u001b[0;36m3\u001b[0m \u001b[0;32mand\u001b[0m \u001b[0misinstance\u001b[0m\u001b[0;34m(\u001b[0m\u001b[0mf\u001b[0m\u001b[0;34m,\u001b[0m \u001b[0mpathlib\u001b[0m\u001b[0;34m.\u001b[0m\u001b[0mPath\u001b[0m\u001b[0;34m)\u001b[0m\u001b[0;34m)\u001b[0m\u001b[0;34m:\u001b[0m\u001b[0;34m\u001b[0m\u001b[0m\n\u001b[1;32m    115\u001b[0m         \u001b[0mnew_fd\u001b[0m \u001b[0;34m=\u001b[0m \u001b[0;32mTrue\u001b[0m\u001b[0;34m\u001b[0m\u001b[0m\n\u001b[0;32m--> 116\u001b[0;31m         \u001b[0mf\u001b[0m \u001b[0;34m=\u001b[0m \u001b[0mopen\u001b[0m\u001b[0;34m(\u001b[0m\u001b[0mf\u001b[0m\u001b[0;34m,\u001b[0m \u001b[0mmode\u001b[0m\u001b[0;34m)\u001b[0m\u001b[0;34m\u001b[0m\u001b[0m\n\u001b[0m\u001b[1;32m    117\u001b[0m     \u001b[0;32mtry\u001b[0m\u001b[0;34m:\u001b[0m\u001b[0;34m\u001b[0m\u001b[0m\n\u001b[1;32m    118\u001b[0m         \u001b[0;32mreturn\u001b[0m \u001b[0mbody\u001b[0m\u001b[0;34m(\u001b[0m\u001b[0mf\u001b[0m\u001b[0;34m)\u001b[0m\u001b[0;34m\u001b[0m\u001b[0m\n",
      "\u001b[0;31mFileNotFoundError\u001b[0m: [Errno 2] No such file or directory: '/output/generator.pt'"
     ]
    }
   ],
   "source": [
    "# Save the model\n",
    "torch.save(generator, OUTPUT_PATH + \"generator.pt\")\n",
    "torch.save(discriminator, OUTPUT_PATH + \"discriminator.pt\")"
   ]
  },
  {
   "cell_type": "code",
   "execution_count": null,
   "metadata": {},
   "outputs": [],
   "source": []
  }
 ],
 "metadata": {
  "kernelspec": {
   "display_name": "Python 3",
   "language": "python",
   "name": "python3"
  },
  "language_info": {
   "codemirror_mode": {
    "name": "ipython",
    "version": 3
   },
   "file_extension": ".py",
   "mimetype": "text/x-python",
   "name": "python",
   "nbconvert_exporter": "python",
   "pygments_lexer": "ipython3",
   "version": "3.6.5"
  }
 },
 "nbformat": 4,
 "nbformat_minor": 2
}
