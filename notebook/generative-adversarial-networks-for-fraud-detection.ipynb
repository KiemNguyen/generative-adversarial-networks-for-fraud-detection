{
 "cells": [
  {
   "cell_type": "markdown",
   "metadata": {},
   "source": [
    "### Setup"
   ]
  },
  {
   "cell_type": "code",
   "execution_count": 100,
   "metadata": {},
   "outputs": [],
   "source": [
    "%matplotlib inline\n",
    "import pandas as pd\n",
    "import numpy as np\n",
    "from matplotlib import pyplot as plt\n",
    "from sklearn import metrics\n",
    "from sklearn.preprocessing import StandardScaler\n",
    "from sklearn.model_selection import train_test_split\n",
    "from sklearn.ensemble import RandomForestClassifier\n",
    "from sklearn.metrics import confusion_matrix\n",
    "import warnings\n",
    "warnings.filterwarnings(\"ignore\")\n",
    "from sklearn.metrics import recall_score\n",
    "from imblearn.over_sampling import SMOTE\n",
    "import torch\n",
    "import torch.utils.data\n",
    "import torch.nn as nn\n",
    "import torch.nn.functional as F\n",
    "import torch.optim as optim\n",
    "from torch.autograd import Variable"
   ]
  },
  {
   "cell_type": "code",
   "execution_count": 101,
   "metadata": {},
   "outputs": [],
   "source": [
    "# Check if Cuda is running\n",
    "#torch.cuda.get_device_name(0)"
   ]
  },
  {
   "cell_type": "code",
   "execution_count": 102,
   "metadata": {},
   "outputs": [],
   "source": [
    "data = pd.read_csv(\"creditcard.csv\")"
   ]
  },
  {
   "cell_type": "markdown",
   "metadata": {},
   "source": [
    "Let's randomize the data, just to be sure not to get any pathological ordering effects that might harm the performane of Stochastic Gradient Descent."
   ]
  },
  {
   "cell_type": "code",
   "execution_count": 103,
   "metadata": {},
   "outputs": [
    {
     "data": {
      "text/html": [
       "<div>\n",
       "<style scoped>\n",
       "    .dataframe tbody tr th:only-of-type {\n",
       "        vertical-align: middle;\n",
       "    }\n",
       "\n",
       "    .dataframe tbody tr th {\n",
       "        vertical-align: top;\n",
       "    }\n",
       "\n",
       "    .dataframe thead th {\n",
       "        text-align: right;\n",
       "    }\n",
       "</style>\n",
       "<table border=\"1\" class=\"dataframe\">\n",
       "  <thead>\n",
       "    <tr style=\"text-align: right;\">\n",
       "      <th></th>\n",
       "      <th>Time</th>\n",
       "      <th>V1</th>\n",
       "      <th>V2</th>\n",
       "      <th>V3</th>\n",
       "      <th>V4</th>\n",
       "      <th>V5</th>\n",
       "      <th>V6</th>\n",
       "      <th>V7</th>\n",
       "      <th>V8</th>\n",
       "      <th>V9</th>\n",
       "      <th>...</th>\n",
       "      <th>V21</th>\n",
       "      <th>V22</th>\n",
       "      <th>V23</th>\n",
       "      <th>V24</th>\n",
       "      <th>V25</th>\n",
       "      <th>V26</th>\n",
       "      <th>V27</th>\n",
       "      <th>V28</th>\n",
       "      <th>Amount</th>\n",
       "      <th>Class</th>\n",
       "    </tr>\n",
       "  </thead>\n",
       "  <tbody>\n",
       "    <tr>\n",
       "      <th>182986</th>\n",
       "      <td>125610.0</td>\n",
       "      <td>2.034148</td>\n",
       "      <td>0.154161</td>\n",
       "      <td>-1.611659</td>\n",
       "      <td>1.400501</td>\n",
       "      <td>0.321203</td>\n",
       "      <td>-1.179898</td>\n",
       "      <td>0.557677</td>\n",
       "      <td>-0.349891</td>\n",
       "      <td>0.385929</td>\n",
       "      <td>...</td>\n",
       "      <td>0.033994</td>\n",
       "      <td>0.276646</td>\n",
       "      <td>0.015646</td>\n",
       "      <td>-0.041061</td>\n",
       "      <td>0.418213</td>\n",
       "      <td>-0.485054</td>\n",
       "      <td>-0.021966</td>\n",
       "      <td>-0.065202</td>\n",
       "      <td>5.30</td>\n",
       "      <td>0</td>\n",
       "    </tr>\n",
       "    <tr>\n",
       "      <th>96242</th>\n",
       "      <td>65682.0</td>\n",
       "      <td>-1.539670</td>\n",
       "      <td>-0.136292</td>\n",
       "      <td>-0.487530</td>\n",
       "      <td>-1.803377</td>\n",
       "      <td>-0.682149</td>\n",
       "      <td>5.002360</td>\n",
       "      <td>1.149282</td>\n",
       "      <td>1.006731</td>\n",
       "      <td>0.712523</td>\n",
       "      <td>...</td>\n",
       "      <td>0.059799</td>\n",
       "      <td>0.549998</td>\n",
       "      <td>-0.184689</td>\n",
       "      <td>1.092103</td>\n",
       "      <td>0.639722</td>\n",
       "      <td>-0.335996</td>\n",
       "      <td>0.138411</td>\n",
       "      <td>-0.186291</td>\n",
       "      <td>500.18</td>\n",
       "      <td>0</td>\n",
       "    </tr>\n",
       "    <tr>\n",
       "      <th>260420</th>\n",
       "      <td>159551.0</td>\n",
       "      <td>1.798197</td>\n",
       "      <td>0.031467</td>\n",
       "      <td>-2.354035</td>\n",
       "      <td>0.805700</td>\n",
       "      <td>0.695347</td>\n",
       "      <td>-0.820213</td>\n",
       "      <td>0.501518</td>\n",
       "      <td>-0.313056</td>\n",
       "      <td>0.644817</td>\n",
       "      <td>...</td>\n",
       "      <td>-0.097348</td>\n",
       "      <td>-0.218867</td>\n",
       "      <td>-0.028084</td>\n",
       "      <td>0.465756</td>\n",
       "      <td>0.203168</td>\n",
       "      <td>-0.334205</td>\n",
       "      <td>0.001463</td>\n",
       "      <td>0.022422</td>\n",
       "      <td>127.58</td>\n",
       "      <td>0</td>\n",
       "    </tr>\n",
       "    <tr>\n",
       "      <th>206893</th>\n",
       "      <td>136426.0</td>\n",
       "      <td>2.191200</td>\n",
       "      <td>-1.779188</td>\n",
       "      <td>-2.280609</td>\n",
       "      <td>-2.559004</td>\n",
       "      <td>1.041622</td>\n",
       "      <td>3.516327</td>\n",
       "      <td>-1.661236</td>\n",
       "      <td>0.824354</td>\n",
       "      <td>-1.334258</td>\n",
       "      <td>...</td>\n",
       "      <td>-0.168301</td>\n",
       "      <td>-0.172954</td>\n",
       "      <td>0.261576</td>\n",
       "      <td>0.682517</td>\n",
       "      <td>-0.215848</td>\n",
       "      <td>-0.185769</td>\n",
       "      <td>0.026945</td>\n",
       "      <td>-0.046755</td>\n",
       "      <td>59.99</td>\n",
       "      <td>0</td>\n",
       "    </tr>\n",
       "    <tr>\n",
       "      <th>243317</th>\n",
       "      <td>151883.0</td>\n",
       "      <td>2.351102</td>\n",
       "      <td>-1.281518</td>\n",
       "      <td>-1.326753</td>\n",
       "      <td>-1.746897</td>\n",
       "      <td>-0.671208</td>\n",
       "      <td>-0.177083</td>\n",
       "      <td>-1.013331</td>\n",
       "      <td>-0.192647</td>\n",
       "      <td>-1.319505</td>\n",
       "      <td>...</td>\n",
       "      <td>-0.205857</td>\n",
       "      <td>-0.052773</td>\n",
       "      <td>0.175353</td>\n",
       "      <td>0.028188</td>\n",
       "      <td>-0.043841</td>\n",
       "      <td>-0.150844</td>\n",
       "      <td>0.011251</td>\n",
       "      <td>-0.050236</td>\n",
       "      <td>15.38</td>\n",
       "      <td>0</td>\n",
       "    </tr>\n",
       "  </tbody>\n",
       "</table>\n",
       "<p>5 rows × 31 columns</p>\n",
       "</div>"
      ],
      "text/plain": [
       "            Time        V1        V2        V3        V4        V5        V6  \\\n",
       "182986  125610.0  2.034148  0.154161 -1.611659  1.400501  0.321203 -1.179898   \n",
       "96242    65682.0 -1.539670 -0.136292 -0.487530 -1.803377 -0.682149  5.002360   \n",
       "260420  159551.0  1.798197  0.031467 -2.354035  0.805700  0.695347 -0.820213   \n",
       "206893  136426.0  2.191200 -1.779188 -2.280609 -2.559004  1.041622  3.516327   \n",
       "243317  151883.0  2.351102 -1.281518 -1.326753 -1.746897 -0.671208 -0.177083   \n",
       "\n",
       "              V7        V8        V9  ...         V21       V22       V23  \\\n",
       "182986  0.557677 -0.349891  0.385929  ...    0.033994  0.276646  0.015646   \n",
       "96242   1.149282  1.006731  0.712523  ...    0.059799  0.549998 -0.184689   \n",
       "260420  0.501518 -0.313056  0.644817  ...   -0.097348 -0.218867 -0.028084   \n",
       "206893 -1.661236  0.824354 -1.334258  ...   -0.168301 -0.172954  0.261576   \n",
       "243317 -1.013331 -0.192647 -1.319505  ...   -0.205857 -0.052773  0.175353   \n",
       "\n",
       "             V24       V25       V26       V27       V28  Amount  Class  \n",
       "182986 -0.041061  0.418213 -0.485054 -0.021966 -0.065202    5.30      0  \n",
       "96242   1.092103  0.639722 -0.335996  0.138411 -0.186291  500.18      0  \n",
       "260420  0.465756  0.203168 -0.334205  0.001463  0.022422  127.58      0  \n",
       "206893  0.682517 -0.215848 -0.185769  0.026945 -0.046755   59.99      0  \n",
       "243317  0.028188 -0.043841 -0.150844  0.011251 -0.050236   15.38      0  \n",
       "\n",
       "[5 rows x 31 columns]"
      ]
     },
     "execution_count": 103,
     "metadata": {},
     "output_type": "execute_result"
    }
   ],
   "source": [
    "data = data.reindex(np.random.permutation(data.index))\n",
    "data.head()"
   ]
  },
  {
   "cell_type": "code",
   "execution_count": 104,
   "metadata": {
    "scrolled": true
   },
   "outputs": [
    {
     "data": {
      "text/plain": [
       "2"
      ]
     },
     "execution_count": 104,
     "metadata": {},
     "output_type": "execute_result"
    }
   ],
   "source": [
    "data.ndim"
   ]
  },
  {
   "cell_type": "markdown",
   "metadata": {},
   "source": [
    "### Data Analysis"
   ]
  },
  {
   "cell_type": "code",
   "execution_count": 105,
   "metadata": {
    "scrolled": true
   },
   "outputs": [
    {
     "data": {
      "text/html": [
       "<div>\n",
       "<style scoped>\n",
       "    .dataframe tbody tr th:only-of-type {\n",
       "        vertical-align: middle;\n",
       "    }\n",
       "\n",
       "    .dataframe tbody tr th {\n",
       "        vertical-align: top;\n",
       "    }\n",
       "\n",
       "    .dataframe thead th {\n",
       "        text-align: right;\n",
       "    }\n",
       "</style>\n",
       "<table border=\"1\" class=\"dataframe\">\n",
       "  <thead>\n",
       "    <tr style=\"text-align: right;\">\n",
       "      <th></th>\n",
       "      <th>Time</th>\n",
       "      <th>V1</th>\n",
       "      <th>V2</th>\n",
       "      <th>V3</th>\n",
       "      <th>V4</th>\n",
       "      <th>V5</th>\n",
       "      <th>V6</th>\n",
       "      <th>V7</th>\n",
       "      <th>V8</th>\n",
       "      <th>V9</th>\n",
       "      <th>...</th>\n",
       "      <th>V21</th>\n",
       "      <th>V22</th>\n",
       "      <th>V23</th>\n",
       "      <th>V24</th>\n",
       "      <th>V25</th>\n",
       "      <th>V26</th>\n",
       "      <th>V27</th>\n",
       "      <th>V28</th>\n",
       "      <th>Amount</th>\n",
       "      <th>Class</th>\n",
       "    </tr>\n",
       "  </thead>\n",
       "  <tbody>\n",
       "    <tr>\n",
       "      <th>count</th>\n",
       "      <td>284807.000000</td>\n",
       "      <td>2.848070e+05</td>\n",
       "      <td>2.848070e+05</td>\n",
       "      <td>2.848070e+05</td>\n",
       "      <td>2.848070e+05</td>\n",
       "      <td>2.848070e+05</td>\n",
       "      <td>2.848070e+05</td>\n",
       "      <td>2.848070e+05</td>\n",
       "      <td>2.848070e+05</td>\n",
       "      <td>2.848070e+05</td>\n",
       "      <td>...</td>\n",
       "      <td>2.848070e+05</td>\n",
       "      <td>2.848070e+05</td>\n",
       "      <td>2.848070e+05</td>\n",
       "      <td>2.848070e+05</td>\n",
       "      <td>2.848070e+05</td>\n",
       "      <td>2.848070e+05</td>\n",
       "      <td>2.848070e+05</td>\n",
       "      <td>2.848070e+05</td>\n",
       "      <td>284807.000000</td>\n",
       "      <td>284807.000000</td>\n",
       "    </tr>\n",
       "    <tr>\n",
       "      <th>mean</th>\n",
       "      <td>94813.859575</td>\n",
       "      <td>1.190839e-15</td>\n",
       "      <td>3.401315e-16</td>\n",
       "      <td>-1.378713e-15</td>\n",
       "      <td>2.068822e-15</td>\n",
       "      <td>1.023753e-15</td>\n",
       "      <td>1.466459e-15</td>\n",
       "      <td>-5.848412e-16</td>\n",
       "      <td>1.419567e-16</td>\n",
       "      <td>-2.433713e-15</td>\n",
       "      <td>...</td>\n",
       "      <td>1.653784e-16</td>\n",
       "      <td>-3.200989e-16</td>\n",
       "      <td>2.696667e-16</td>\n",
       "      <td>4.471375e-15</td>\n",
       "      <td>5.208960e-16</td>\n",
       "      <td>1.681195e-15</td>\n",
       "      <td>-3.731738e-16</td>\n",
       "      <td>-1.226801e-16</td>\n",
       "      <td>88.349619</td>\n",
       "      <td>0.001727</td>\n",
       "    </tr>\n",
       "    <tr>\n",
       "      <th>std</th>\n",
       "      <td>47488.145955</td>\n",
       "      <td>1.958696e+00</td>\n",
       "      <td>1.651309e+00</td>\n",
       "      <td>1.516255e+00</td>\n",
       "      <td>1.415869e+00</td>\n",
       "      <td>1.380247e+00</td>\n",
       "      <td>1.332271e+00</td>\n",
       "      <td>1.237094e+00</td>\n",
       "      <td>1.194353e+00</td>\n",
       "      <td>1.098632e+00</td>\n",
       "      <td>...</td>\n",
       "      <td>7.345240e-01</td>\n",
       "      <td>7.257016e-01</td>\n",
       "      <td>6.244603e-01</td>\n",
       "      <td>6.056471e-01</td>\n",
       "      <td>5.212781e-01</td>\n",
       "      <td>4.822270e-01</td>\n",
       "      <td>4.036325e-01</td>\n",
       "      <td>3.300833e-01</td>\n",
       "      <td>250.120109</td>\n",
       "      <td>0.041527</td>\n",
       "    </tr>\n",
       "    <tr>\n",
       "      <th>min</th>\n",
       "      <td>0.000000</td>\n",
       "      <td>-5.640751e+01</td>\n",
       "      <td>-7.271573e+01</td>\n",
       "      <td>-4.832559e+01</td>\n",
       "      <td>-5.683171e+00</td>\n",
       "      <td>-1.137433e+02</td>\n",
       "      <td>-2.616051e+01</td>\n",
       "      <td>-4.355724e+01</td>\n",
       "      <td>-7.321672e+01</td>\n",
       "      <td>-1.343407e+01</td>\n",
       "      <td>...</td>\n",
       "      <td>-3.483038e+01</td>\n",
       "      <td>-1.093314e+01</td>\n",
       "      <td>-4.480774e+01</td>\n",
       "      <td>-2.836627e+00</td>\n",
       "      <td>-1.029540e+01</td>\n",
       "      <td>-2.604551e+00</td>\n",
       "      <td>-2.256568e+01</td>\n",
       "      <td>-1.543008e+01</td>\n",
       "      <td>0.000000</td>\n",
       "      <td>0.000000</td>\n",
       "    </tr>\n",
       "    <tr>\n",
       "      <th>25%</th>\n",
       "      <td>54201.500000</td>\n",
       "      <td>-9.203734e-01</td>\n",
       "      <td>-5.985499e-01</td>\n",
       "      <td>-8.903648e-01</td>\n",
       "      <td>-8.486401e-01</td>\n",
       "      <td>-6.915971e-01</td>\n",
       "      <td>-7.682956e-01</td>\n",
       "      <td>-5.540759e-01</td>\n",
       "      <td>-2.086297e-01</td>\n",
       "      <td>-6.430976e-01</td>\n",
       "      <td>...</td>\n",
       "      <td>-2.283949e-01</td>\n",
       "      <td>-5.423504e-01</td>\n",
       "      <td>-1.618463e-01</td>\n",
       "      <td>-3.545861e-01</td>\n",
       "      <td>-3.171451e-01</td>\n",
       "      <td>-3.269839e-01</td>\n",
       "      <td>-7.083953e-02</td>\n",
       "      <td>-5.295979e-02</td>\n",
       "      <td>5.600000</td>\n",
       "      <td>0.000000</td>\n",
       "    </tr>\n",
       "    <tr>\n",
       "      <th>50%</th>\n",
       "      <td>84692.000000</td>\n",
       "      <td>1.810880e-02</td>\n",
       "      <td>6.548556e-02</td>\n",
       "      <td>1.798463e-01</td>\n",
       "      <td>-1.984653e-02</td>\n",
       "      <td>-5.433583e-02</td>\n",
       "      <td>-2.741871e-01</td>\n",
       "      <td>4.010308e-02</td>\n",
       "      <td>2.235804e-02</td>\n",
       "      <td>-5.142873e-02</td>\n",
       "      <td>...</td>\n",
       "      <td>-2.945017e-02</td>\n",
       "      <td>6.781943e-03</td>\n",
       "      <td>-1.119293e-02</td>\n",
       "      <td>4.097606e-02</td>\n",
       "      <td>1.659350e-02</td>\n",
       "      <td>-5.213911e-02</td>\n",
       "      <td>1.342146e-03</td>\n",
       "      <td>1.124383e-02</td>\n",
       "      <td>22.000000</td>\n",
       "      <td>0.000000</td>\n",
       "    </tr>\n",
       "    <tr>\n",
       "      <th>75%</th>\n",
       "      <td>139320.500000</td>\n",
       "      <td>1.315642e+00</td>\n",
       "      <td>8.037239e-01</td>\n",
       "      <td>1.027196e+00</td>\n",
       "      <td>7.433413e-01</td>\n",
       "      <td>6.119264e-01</td>\n",
       "      <td>3.985649e-01</td>\n",
       "      <td>5.704361e-01</td>\n",
       "      <td>3.273459e-01</td>\n",
       "      <td>5.971390e-01</td>\n",
       "      <td>...</td>\n",
       "      <td>1.863772e-01</td>\n",
       "      <td>5.285536e-01</td>\n",
       "      <td>1.476421e-01</td>\n",
       "      <td>4.395266e-01</td>\n",
       "      <td>3.507156e-01</td>\n",
       "      <td>2.409522e-01</td>\n",
       "      <td>9.104512e-02</td>\n",
       "      <td>7.827995e-02</td>\n",
       "      <td>77.165000</td>\n",
       "      <td>0.000000</td>\n",
       "    </tr>\n",
       "    <tr>\n",
       "      <th>max</th>\n",
       "      <td>172792.000000</td>\n",
       "      <td>2.454930e+00</td>\n",
       "      <td>2.205773e+01</td>\n",
       "      <td>9.382558e+00</td>\n",
       "      <td>1.687534e+01</td>\n",
       "      <td>3.480167e+01</td>\n",
       "      <td>7.330163e+01</td>\n",
       "      <td>1.205895e+02</td>\n",
       "      <td>2.000721e+01</td>\n",
       "      <td>1.559499e+01</td>\n",
       "      <td>...</td>\n",
       "      <td>2.720284e+01</td>\n",
       "      <td>1.050309e+01</td>\n",
       "      <td>2.252841e+01</td>\n",
       "      <td>4.584549e+00</td>\n",
       "      <td>7.519589e+00</td>\n",
       "      <td>3.517346e+00</td>\n",
       "      <td>3.161220e+01</td>\n",
       "      <td>3.384781e+01</td>\n",
       "      <td>25691.160000</td>\n",
       "      <td>1.000000</td>\n",
       "    </tr>\n",
       "  </tbody>\n",
       "</table>\n",
       "<p>8 rows × 31 columns</p>\n",
       "</div>"
      ],
      "text/plain": [
       "                Time            V1            V2            V3            V4  \\\n",
       "count  284807.000000  2.848070e+05  2.848070e+05  2.848070e+05  2.848070e+05   \n",
       "mean    94813.859575  1.190839e-15  3.401315e-16 -1.378713e-15  2.068822e-15   \n",
       "std     47488.145955  1.958696e+00  1.651309e+00  1.516255e+00  1.415869e+00   \n",
       "min         0.000000 -5.640751e+01 -7.271573e+01 -4.832559e+01 -5.683171e+00   \n",
       "25%     54201.500000 -9.203734e-01 -5.985499e-01 -8.903648e-01 -8.486401e-01   \n",
       "50%     84692.000000  1.810880e-02  6.548556e-02  1.798463e-01 -1.984653e-02   \n",
       "75%    139320.500000  1.315642e+00  8.037239e-01  1.027196e+00  7.433413e-01   \n",
       "max    172792.000000  2.454930e+00  2.205773e+01  9.382558e+00  1.687534e+01   \n",
       "\n",
       "                 V5            V6            V7            V8            V9  \\\n",
       "count  2.848070e+05  2.848070e+05  2.848070e+05  2.848070e+05  2.848070e+05   \n",
       "mean   1.023753e-15  1.466459e-15 -5.848412e-16  1.419567e-16 -2.433713e-15   \n",
       "std    1.380247e+00  1.332271e+00  1.237094e+00  1.194353e+00  1.098632e+00   \n",
       "min   -1.137433e+02 -2.616051e+01 -4.355724e+01 -7.321672e+01 -1.343407e+01   \n",
       "25%   -6.915971e-01 -7.682956e-01 -5.540759e-01 -2.086297e-01 -6.430976e-01   \n",
       "50%   -5.433583e-02 -2.741871e-01  4.010308e-02  2.235804e-02 -5.142873e-02   \n",
       "75%    6.119264e-01  3.985649e-01  5.704361e-01  3.273459e-01  5.971390e-01   \n",
       "max    3.480167e+01  7.330163e+01  1.205895e+02  2.000721e+01  1.559499e+01   \n",
       "\n",
       "           ...                 V21           V22           V23           V24  \\\n",
       "count      ...        2.848070e+05  2.848070e+05  2.848070e+05  2.848070e+05   \n",
       "mean       ...        1.653784e-16 -3.200989e-16  2.696667e-16  4.471375e-15   \n",
       "std        ...        7.345240e-01  7.257016e-01  6.244603e-01  6.056471e-01   \n",
       "min        ...       -3.483038e+01 -1.093314e+01 -4.480774e+01 -2.836627e+00   \n",
       "25%        ...       -2.283949e-01 -5.423504e-01 -1.618463e-01 -3.545861e-01   \n",
       "50%        ...       -2.945017e-02  6.781943e-03 -1.119293e-02  4.097606e-02   \n",
       "75%        ...        1.863772e-01  5.285536e-01  1.476421e-01  4.395266e-01   \n",
       "max        ...        2.720284e+01  1.050309e+01  2.252841e+01  4.584549e+00   \n",
       "\n",
       "                V25           V26           V27           V28         Amount  \\\n",
       "count  2.848070e+05  2.848070e+05  2.848070e+05  2.848070e+05  284807.000000   \n",
       "mean   5.208960e-16  1.681195e-15 -3.731738e-16 -1.226801e-16      88.349619   \n",
       "std    5.212781e-01  4.822270e-01  4.036325e-01  3.300833e-01     250.120109   \n",
       "min   -1.029540e+01 -2.604551e+00 -2.256568e+01 -1.543008e+01       0.000000   \n",
       "25%   -3.171451e-01 -3.269839e-01 -7.083953e-02 -5.295979e-02       5.600000   \n",
       "50%    1.659350e-02 -5.213911e-02  1.342146e-03  1.124383e-02      22.000000   \n",
       "75%    3.507156e-01  2.409522e-01  9.104512e-02  7.827995e-02      77.165000   \n",
       "max    7.519589e+00  3.517346e+00  3.161220e+01  3.384781e+01   25691.160000   \n",
       "\n",
       "               Class  \n",
       "count  284807.000000  \n",
       "mean        0.001727  \n",
       "std         0.041527  \n",
       "min         0.000000  \n",
       "25%         0.000000  \n",
       "50%         0.000000  \n",
       "75%         0.000000  \n",
       "max         1.000000  \n",
       "\n",
       "[8 rows x 31 columns]"
      ]
     },
     "execution_count": 105,
     "metadata": {},
     "output_type": "execute_result"
    }
   ],
   "source": [
    "data.describe()"
   ]
  },
  {
   "cell_type": "code",
   "execution_count": 106,
   "metadata": {},
   "outputs": [
    {
     "data": {
      "text/plain": [
       "0"
      ]
     },
     "execution_count": 106,
     "metadata": {},
     "output_type": "execute_result"
    }
   ],
   "source": [
    "data.isnull().sum().sum()"
   ]
  },
  {
   "cell_type": "code",
   "execution_count": 107,
   "metadata": {
    "scrolled": true
   },
   "outputs": [
    {
     "data": {
      "text/plain": [
       "Text(0,0.5,'Frequency')"
      ]
     },
     "execution_count": 107,
     "metadata": {},
     "output_type": "execute_result"
    },
    {
     "data": {
      "image/png": "[encoded data removed]",
      "text/plain": [
       "<Figure size 432x288 with 1 Axes>"
      ]
     },
     "metadata": {},
     "output_type": "display_data"
    }
   ],
   "source": [
    "classes = pd.value_counts(data['Class'], sort = True).sort_index()\n",
    "classes.plot(kind = 'bar')\n",
    "plt.title(\"Fraud class histogram\")\n",
    "plt.xlabel(\"Class\")\n",
    "plt.ylabel(\"Frequency\")"
   ]
  },
  {
   "cell_type": "code",
   "execution_count": 108,
   "metadata": {},
   "outputs": [
    {
     "data": {
      "text/plain": [
       "Class\n",
       "0    284315\n",
       "1       492\n",
       "Name: Class, dtype: int64"
      ]
     },
     "execution_count": 108,
     "metadata": {},
     "output_type": "execute_result"
    }
   ],
   "source": [
    "data.groupby('Class')['Class'].count()"
   ]
  },
  {
   "cell_type": "markdown",
   "metadata": {},
   "source": [
    "#### The Data is hihgly imbalance. 284315 Normal transaction vs 492 Fraud transaction"
   ]
  },
  {
   "cell_type": "markdown",
   "metadata": {},
   "source": [
    "## 1. Run with Normalising data"
   ]
  },
  {
   "cell_type": "code",
   "execution_count": 109,
   "metadata": {},
   "outputs": [],
   "source": [
    "X = data.loc[:, data.columns != 'Class']\n",
    "y = data.loc[:, data.columns == 'Class']"
   ]
  },
  {
   "cell_type": "code",
   "execution_count": 110,
   "metadata": {},
   "outputs": [
    {
     "name": "stdout",
     "output_type": "stream",
     "text": [
      "xtrain shape\n",
      "(199364, 30)\n",
      "xtest shape\n",
      "(85443, 30)\n"
     ]
    }
   ],
   "source": [
    "# Splitting the dataset into the Training set and Test set\n",
    "X_train, X_test, y_train, y_test = train_test_split(X, y, test_size=0.30, random_state=0)\n",
    "print('xtrain shape')\n",
    "print(X_train.shape)\n",
    "print('xtest shape')\n",
    "print(X_test.shape)"
   ]
  },
  {
   "cell_type": "code",
   "execution_count": 111,
   "metadata": {},
   "outputs": [],
   "source": [
    "# Normalising the training data and test data\n",
    "scaler = StandardScaler()\n",
    "X_train_normalized = scaler.fit_transform(X_train)\n",
    "X_test_normalized = scaler.transform(X_test)"
   ]
  },
  {
   "cell_type": "code",
   "execution_count": 112,
   "metadata": {},
   "outputs": [
    {
     "data": {
      "text/plain": [
       "RandomForestClassifier(bootstrap=True, class_weight=None, criterion='gini',\n",
       "            max_depth=None, max_features='auto', max_leaf_nodes=None,\n",
       "            min_impurity_decrease=0.0, min_impurity_split=None,\n",
       "            min_samples_leaf=1, min_samples_split=2,\n",
       "            min_weight_fraction_leaf=0.0, n_estimators=10, n_jobs=1,\n",
       "            oob_score=False, random_state=None, verbose=0,\n",
       "            warm_start=False)"
      ]
     },
     "execution_count": 112,
     "metadata": {},
     "output_type": "execute_result"
    }
   ],
   "source": [
    "# Fit classifier to a model\n",
    "classifier = RandomForestClassifier()\n",
    "classifier.fit(X_train_normalized, y_train)"
   ]
  },
  {
   "cell_type": "code",
   "execution_count": 113,
   "metadata": {},
   "outputs": [],
   "source": [
    "# Predicting the Test set results\n",
    "y_pred = classifier.predict(X_test_normalized)"
   ]
  },
  {
   "cell_type": "code",
   "execution_count": 114,
   "metadata": {},
   "outputs": [
    {
     "name": "stdout",
     "output_type": "stream",
     "text": [
      "Confusion Matrix\n"
     ]
    },
    {
     "data": {
      "text/plain": [
       "array([[85296,     5],\n",
       "       [   36,   106]])"
      ]
     },
     "execution_count": 114,
     "metadata": {},
     "output_type": "execute_result"
    }
   ],
   "source": [
    "# Making a Confusion Matrix\n",
    "from sklearn.metrics import confusion_matrix\n",
    "print('Confusion Matrix')\n",
    "cm = confusion_matrix(y_test, y_pred)\n",
    "cm"
   ]
  },
  {
   "cell_type": "code",
   "execution_count": 115,
   "metadata": {},
   "outputs": [
    {
     "name": "stdout",
     "output_type": "stream",
     "text": [
      "Classification Report\n",
      "             precision    recall  f1-score   support\n",
      "\n",
      "          0       1.00      1.00      1.00     85301\n",
      "          1       0.95      0.75      0.84       142\n",
      "\n",
      "avg / total       1.00      1.00      1.00     85443\n",
      "\n",
      "Accuracy : 0.999520\n",
      "Area under the curve : 0.873210\n"
     ]
    }
   ],
   "source": [
    "print('Classification Report')\n",
    "print(metrics.classification_report(y_test, y_pred))\n",
    "print('Accuracy : %f' % (metrics.accuracy_score(y_test, y_pred)))\n",
    "print('Area under the curve : %f' % (metrics.roc_auc_score(y_test, y_pred)))"
   ]
  },
  {
   "cell_type": "markdown",
   "metadata": {},
   "source": [
    "## 2. Run with Over Sampling data using SMOTE (Synthetic Minority Over-sampling Technique)"
   ]
  },
  {
   "cell_type": "code",
   "execution_count": 116,
   "metadata": {},
   "outputs": [],
   "source": [
    "data2 = pd.read_csv(\"creditcard.csv\")"
   ]
  },
  {
   "cell_type": "code",
   "execution_count": 117,
   "metadata": {},
   "outputs": [
    {
     "data": {
      "text/html": [
       "<div>\n",
       "<style scoped>\n",
       "    .dataframe tbody tr th:only-of-type {\n",
       "        vertical-align: middle;\n",
       "    }\n",
       "\n",
       "    .dataframe tbody tr th {\n",
       "        vertical-align: top;\n",
       "    }\n",
       "\n",
       "    .dataframe thead th {\n",
       "        text-align: right;\n",
       "    }\n",
       "</style>\n",
       "<table border=\"1\" class=\"dataframe\">\n",
       "  <thead>\n",
       "    <tr style=\"text-align: right;\">\n",
       "      <th></th>\n",
       "      <th>V1</th>\n",
       "      <th>V2</th>\n",
       "      <th>V3</th>\n",
       "      <th>V4</th>\n",
       "      <th>V5</th>\n",
       "      <th>V6</th>\n",
       "      <th>V7</th>\n",
       "      <th>V8</th>\n",
       "      <th>V9</th>\n",
       "      <th>V10</th>\n",
       "      <th>...</th>\n",
       "      <th>V21</th>\n",
       "      <th>V22</th>\n",
       "      <th>V23</th>\n",
       "      <th>V24</th>\n",
       "      <th>V25</th>\n",
       "      <th>V26</th>\n",
       "      <th>V27</th>\n",
       "      <th>V28</th>\n",
       "      <th>Class</th>\n",
       "      <th>normAmount</th>\n",
       "    </tr>\n",
       "  </thead>\n",
       "  <tbody>\n",
       "    <tr>\n",
       "      <th>0</th>\n",
       "      <td>-1.359807</td>\n",
       "      <td>-0.072781</td>\n",
       "      <td>2.536347</td>\n",
       "      <td>1.378155</td>\n",
       "      <td>-0.338321</td>\n",
       "      <td>0.462388</td>\n",
       "      <td>0.239599</td>\n",
       "      <td>0.098698</td>\n",
       "      <td>0.363787</td>\n",
       "      <td>0.090794</td>\n",
       "      <td>...</td>\n",
       "      <td>-0.018307</td>\n",
       "      <td>0.277838</td>\n",
       "      <td>-0.110474</td>\n",
       "      <td>0.066928</td>\n",
       "      <td>0.128539</td>\n",
       "      <td>-0.189115</td>\n",
       "      <td>0.133558</td>\n",
       "      <td>-0.021053</td>\n",
       "      <td>0</td>\n",
       "      <td>-0.332040</td>\n",
       "    </tr>\n",
       "    <tr>\n",
       "      <th>1</th>\n",
       "      <td>1.191857</td>\n",
       "      <td>0.266151</td>\n",
       "      <td>0.166480</td>\n",
       "      <td>0.448154</td>\n",
       "      <td>0.060018</td>\n",
       "      <td>-0.082361</td>\n",
       "      <td>-0.078803</td>\n",
       "      <td>0.085102</td>\n",
       "      <td>-0.255425</td>\n",
       "      <td>-0.166974</td>\n",
       "      <td>...</td>\n",
       "      <td>-0.225775</td>\n",
       "      <td>-0.638672</td>\n",
       "      <td>0.101288</td>\n",
       "      <td>-0.339846</td>\n",
       "      <td>0.167170</td>\n",
       "      <td>0.125895</td>\n",
       "      <td>-0.008983</td>\n",
       "      <td>0.014724</td>\n",
       "      <td>0</td>\n",
       "      <td>1.646533</td>\n",
       "    </tr>\n",
       "    <tr>\n",
       "      <th>2</th>\n",
       "      <td>-1.358354</td>\n",
       "      <td>-1.340163</td>\n",
       "      <td>1.773209</td>\n",
       "      <td>0.379780</td>\n",
       "      <td>-0.503198</td>\n",
       "      <td>1.800499</td>\n",
       "      <td>0.791461</td>\n",
       "      <td>0.247676</td>\n",
       "      <td>-1.514654</td>\n",
       "      <td>0.207643</td>\n",
       "      <td>...</td>\n",
       "      <td>0.247998</td>\n",
       "      <td>0.771679</td>\n",
       "      <td>0.909412</td>\n",
       "      <td>-0.689281</td>\n",
       "      <td>-0.327642</td>\n",
       "      <td>-0.139097</td>\n",
       "      <td>-0.055353</td>\n",
       "      <td>-0.059752</td>\n",
       "      <td>0</td>\n",
       "      <td>0.156846</td>\n",
       "    </tr>\n",
       "    <tr>\n",
       "      <th>3</th>\n",
       "      <td>-0.966272</td>\n",
       "      <td>-0.185226</td>\n",
       "      <td>1.792993</td>\n",
       "      <td>-0.863291</td>\n",
       "      <td>-0.010309</td>\n",
       "      <td>1.247203</td>\n",
       "      <td>0.237609</td>\n",
       "      <td>0.377436</td>\n",
       "      <td>-1.387024</td>\n",
       "      <td>-0.054952</td>\n",
       "      <td>...</td>\n",
       "      <td>-0.108300</td>\n",
       "      <td>0.005274</td>\n",
       "      <td>-0.190321</td>\n",
       "      <td>-1.175575</td>\n",
       "      <td>0.647376</td>\n",
       "      <td>-0.221929</td>\n",
       "      <td>0.062723</td>\n",
       "      <td>0.061458</td>\n",
       "      <td>0</td>\n",
       "      <td>-0.113384</td>\n",
       "    </tr>\n",
       "    <tr>\n",
       "      <th>4</th>\n",
       "      <td>-1.158233</td>\n",
       "      <td>0.877737</td>\n",
       "      <td>1.548718</td>\n",
       "      <td>0.403034</td>\n",
       "      <td>-0.407193</td>\n",
       "      <td>0.095921</td>\n",
       "      <td>0.592941</td>\n",
       "      <td>-0.270533</td>\n",
       "      <td>0.817739</td>\n",
       "      <td>0.753074</td>\n",
       "      <td>...</td>\n",
       "      <td>-0.009431</td>\n",
       "      <td>0.798278</td>\n",
       "      <td>-0.137458</td>\n",
       "      <td>0.141267</td>\n",
       "      <td>-0.206010</td>\n",
       "      <td>0.502292</td>\n",
       "      <td>0.219422</td>\n",
       "      <td>0.215153</td>\n",
       "      <td>0</td>\n",
       "      <td>-0.291739</td>\n",
       "    </tr>\n",
       "  </tbody>\n",
       "</table>\n",
       "<p>5 rows × 30 columns</p>\n",
       "</div>"
      ],
      "text/plain": [
       "         V1        V2        V3        V4        V5        V6        V7  \\\n",
       "0 -1.359807 -0.072781  2.536347  1.378155 -0.338321  0.462388  0.239599   \n",
       "1  1.191857  0.266151  0.166480  0.448154  0.060018 -0.082361 -0.078803   \n",
       "2 -1.358354 -1.340163  1.773209  0.379780 -0.503198  1.800499  0.791461   \n",
       "3 -0.966272 -0.185226  1.792993 -0.863291 -0.010309  1.247203  0.237609   \n",
       "4 -1.158233  0.877737  1.548718  0.403034 -0.407193  0.095921  0.592941   \n",
       "\n",
       "         V8        V9       V10     ...           V21       V22       V23  \\\n",
       "0  0.098698  0.363787  0.090794     ...     -0.018307  0.277838 -0.110474   \n",
       "1  0.085102 -0.255425 -0.166974     ...     -0.225775 -0.638672  0.101288   \n",
       "2  0.247676 -1.514654  0.207643     ...      0.247998  0.771679  0.909412   \n",
       "3  0.377436 -1.387024 -0.054952     ...     -0.108300  0.005274 -0.190321   \n",
       "4 -0.270533  0.817739  0.753074     ...     -0.009431  0.798278 -0.137458   \n",
       "\n",
       "        V24       V25       V26       V27       V28  Class  normAmount  \n",
       "0  0.066928  0.128539 -0.189115  0.133558 -0.021053      0   -0.332040  \n",
       "1 -0.339846  0.167170  0.125895 -0.008983  0.014724      0    1.646533  \n",
       "2 -0.689281 -0.327642 -0.139097 -0.055353 -0.059752      0    0.156846  \n",
       "3 -1.175575  0.647376 -0.221929  0.062723  0.061458      0   -0.113384  \n",
       "4  0.141267 -0.206010  0.502292  0.219422  0.215153      0   -0.291739  \n",
       "\n",
       "[5 rows x 30 columns]"
      ]
     },
     "execution_count": 117,
     "metadata": {},
     "output_type": "execute_result"
    }
   ],
   "source": [
    "from sklearn.preprocessing import StandardScaler\n",
    "\n",
    "data2['normAmount'] = StandardScaler().fit_transform(data['Amount'].values.reshape(-1, 1))\n",
    "data2 = data2.drop(['Time','Amount'],axis=1)\n",
    "data2.head()"
   ]
  },
  {
   "cell_type": "code",
   "execution_count": 118,
   "metadata": {},
   "outputs": [
    {
     "name": "stdout",
     "output_type": "stream",
     "text": [
      "Shape of X: (284807, 30)\n",
      "Shape of y: (284807, 1)\n"
     ]
    }
   ],
   "source": [
    "X = np.array(data.ix[:, data.columns != 'Class'])\n",
    "y = np.array(data.ix[:, data.columns == 'Class'])\n",
    "print('Shape of X: {}'.format(X.shape))\n",
    "print('Shape of y: {}'.format(y.shape))"
   ]
  },
  {
   "cell_type": "code",
   "execution_count": 119,
   "metadata": {},
   "outputs": [
    {
     "name": "stdout",
     "output_type": "stream",
     "text": [
      "xtrain shape\n",
      "(199364, 30)\n",
      "xtest shape\n",
      "(85443, 30)\n"
     ]
    }
   ],
   "source": [
    "# Splitting the dataset into the Training set and Test set\n",
    "X_train, X_test, y_train, y_test = train_test_split(X, y, test_size=0.3, random_state=0)\n",
    "print('xtrain shape')\n",
    "print(X_train.shape)\n",
    "print('xtest shape')\n",
    "print(X_test.shape)"
   ]
  },
  {
   "cell_type": "code",
   "execution_count": 120,
   "metadata": {},
   "outputs": [],
   "source": [
    "# Over Sampling data using SMOTE\n",
    "smote = SMOTE(random_state=2)\n",
    "X_train_resample, y_train_resample = smote.fit_sample(X_train, y_train.ravel())"
   ]
  },
  {
   "cell_type": "code",
   "execution_count": 121,
   "metadata": {},
   "outputs": [
    {
     "data": {
      "text/plain": [
       "RandomForestClassifier(bootstrap=True, class_weight=None, criterion='gini',\n",
       "            max_depth=None, max_features='auto', max_leaf_nodes=None,\n",
       "            min_impurity_decrease=0.0, min_impurity_split=None,\n",
       "            min_samples_leaf=1, min_samples_split=2,\n",
       "            min_weight_fraction_leaf=0.0, n_estimators=10, n_jobs=1,\n",
       "            oob_score=False, random_state=None, verbose=0,\n",
       "            warm_start=False)"
      ]
     },
     "execution_count": 121,
     "metadata": {},
     "output_type": "execute_result"
    }
   ],
   "source": [
    "classifier = RandomForestClassifier()\n",
    "classifier.fit(X_train_resample, y_train_resample.ravel())"
   ]
  },
  {
   "cell_type": "code",
   "execution_count": 122,
   "metadata": {},
   "outputs": [],
   "source": [
    "# Predicting the Test set results\n",
    "y_pred = classifier.predict(X_test)"
   ]
  },
  {
   "cell_type": "code",
   "execution_count": 123,
   "metadata": {},
   "outputs": [
    {
     "name": "stdout",
     "output_type": "stream",
     "text": [
      "Confusion Matrix\n"
     ]
    },
    {
     "data": {
      "text/plain": [
       "array([[85284,    17],\n",
       "       [   29,   113]])"
      ]
     },
     "execution_count": 123,
     "metadata": {},
     "output_type": "execute_result"
    }
   ],
   "source": [
    "# Making a Confision Matrix\n",
    "from sklearn.metrics import confusion_matrix\n",
    "print('Confusion Matrix')\n",
    "cm = confusion_matrix(y_test, y_pred)\n",
    "cm"
   ]
  },
  {
   "cell_type": "code",
   "execution_count": 124,
   "metadata": {},
   "outputs": [
    {
     "name": "stdout",
     "output_type": "stream",
     "text": [
      "Classification Report\n",
      "             precision    recall  f1-score   support\n",
      "\n",
      "          0       1.00      1.00      1.00     85301\n",
      "          1       0.87      0.80      0.83       142\n",
      "\n",
      "avg / total       1.00      1.00      1.00     85443\n",
      "\n",
      "Accuracy : 0.999462\n",
      "Area under the curve : 0.897788\n"
     ]
    }
   ],
   "source": [
    "print('Classification Report')\n",
    "print(metrics.classification_report(y_test, y_pred))\n",
    "print('Accuracy : %f' % (metrics.accuracy_score(y_test, y_pred)))\n",
    "print('Area under the curve : %f' % (metrics.roc_auc_score(y_test, y_pred)))"
   ]
  },
  {
   "cell_type": "markdown",
   "metadata": {},
   "source": [
    "## 3. Run with Generative Adversarial Networks (GANs)"
   ]
  },
  {
   "cell_type": "code",
   "execution_count": 125,
   "metadata": {},
   "outputs": [],
   "source": [
    "data = pd.read_csv(\"creditcard.csv\")\n",
    "data.drop(['Time'], axis = 1, inplace = True)\n",
    "data.drop(['Class'], axis = 1, inplace = True)"
   ]
  },
  {
   "cell_type": "code",
   "execution_count": 126,
   "metadata": {},
   "outputs": [
    {
     "data": {
      "text/plain": [
       "array([[ -1.35980713e+00,  -7.27811733e-02,   2.53634674e+00, ...,\n",
       "          1.33558377e-01,  -2.10530535e-02,   1.49620000e+02],\n",
       "       [  1.19185711e+00,   2.66150712e-01,   1.66480113e-01, ...,\n",
       "         -8.98309914e-03,   1.47241692e-02,   2.69000000e+00],\n",
       "       [ -1.35835406e+00,  -1.34016307e+00,   1.77320934e+00, ...,\n",
       "         -5.53527940e-02,  -5.97518406e-02,   3.78660000e+02],\n",
       "       ..., \n",
       "       [  1.91956501e+00,  -3.01253846e-01,  -3.24963981e+00, ...,\n",
       "          4.45477214e-03,  -2.65608286e-02,   6.78800000e+01],\n",
       "       [ -2.40440050e-01,   5.30482513e-01,   7.02510230e-01, ...,\n",
       "          1.08820735e-01,   1.04532821e-01,   1.00000000e+01],\n",
       "       [ -5.33412522e-01,  -1.89733337e-01,   7.03337367e-01, ...,\n",
       "         -2.41530880e-03,   1.36489143e-02,   2.17000000e+02]])"
      ]
     },
     "execution_count": 126,
     "metadata": {},
     "output_type": "execute_result"
    }
   ],
   "source": [
    "# Convert data frame to a numpy array\n",
    "data = np.array(data)\n",
    "data"
   ]
  },
  {
   "cell_type": "code",
   "execution_count": 127,
   "metadata": {},
   "outputs": [
    {
     "data": {
      "text/plain": [
       "torch.Size([284807, 29])"
      ]
     },
     "execution_count": 127,
     "metadata": {},
     "output_type": "execute_result"
    }
   ],
   "source": [
    "# Convert array to PyTorch tensor\n",
    "data = torch.FloatTensor(data)\n",
    "data.size()"
   ]
  },
  {
   "cell_type": "code",
   "execution_count": 128,
   "metadata": {},
   "outputs": [],
   "source": [
    "# Generator's paragrams\n",
    "g_input_size = 1     # Random noise dimension\n",
    "g_hidden_size = 50   # Generator complexity\n",
    "g_output_size = 1   \n",
    "g_learning_rate = 0.0002\n",
    "g_steps = 1\n",
    "\n",
    "#Discriminator's paragrams\n",
    "d_input_size = 29   # Minibatch size\n",
    "d_hidden_size = 50  # Discriminator complexity\n",
    "d_output_size = 1   # Single dimension for 'real' vs. 'fake'\n",
    "d_learning_rate = 0.0002\n",
    "d_steps = 1 \n",
    "\n",
    "minibatch_size = d_input_size\n",
    "\n",
    "optim_betas = (0.5, 0.999)\n",
    "num_epochs = 10000\n",
    "print_interval = 100"
   ]
  },
  {
   "cell_type": "code",
   "execution_count": 129,
   "metadata": {},
   "outputs": [
    {
     "name": "stdout",
     "output_type": "stream",
     "text": [
      "Using data [Raw data]\n"
     ]
    }
   ],
   "source": [
    "(name, preprocess, d_input_func) = (\"Raw data\", lambda data: data, lambda x: x)\n",
    "print(\"Using data [%s]\" % (name))"
   ]
  },
  {
   "cell_type": "code",
   "execution_count": 130,
   "metadata": {},
   "outputs": [],
   "source": [
    "def inject_fake_data():\n",
    "    return lambda m, n: torch.rand(m, n)  # Uniform-dist data into generator.\n"
   ]
  },
  {
   "cell_type": "code",
   "execution_count": 131,
   "metadata": {},
   "outputs": [],
   "source": [
    "# Generator\n",
    "class Generator(nn.Module):\n",
    "    def __init__(self, input_size, hidden_size, output_size):\n",
    "        super(Generator, self).__init__()\n",
    "        self.map1 = nn.Linear(input_size, hidden_size)\n",
    "        self.map2 = nn.Linear(hidden_size, hidden_size)\n",
    "        self.map3 = nn.Linear(hidden_size, output_size)\n",
    "\n",
    "    def forward(self, x):\n",
    "        x = F.elu(self.map1(x))\n",
    "        x = F.sigmoid(self.map2(x))\n",
    "        return self.map3(x)"
   ]
  },
  {
   "cell_type": "code",
   "execution_count": 132,
   "metadata": {},
   "outputs": [],
   "source": [
    "# Discriminator\n",
    "class Discriminator(nn.Module):\n",
    "    def __init__(self, input_size, hidden_size, output_size):\n",
    "        super(Discriminator, self).__init__()\n",
    "        self.map1 = nn.Linear(input_size, hidden_size)\n",
    "        self.map2 = nn.Linear(hidden_size, hidden_size)\n",
    "        self.map3 = nn.Linear(hidden_size, output_size)\n",
    "\n",
    "    def forward(self, x):\n",
    "        x = F.elu(self.map1(x))\n",
    "        x = F.elu(self.map2(x))\n",
    "        return F.sigmoid(self.map3(x))"
   ]
  },
  {
   "cell_type": "code",
   "execution_count": 133,
   "metadata": {},
   "outputs": [],
   "source": [
    "def extract(v):\n",
    "    return v.data.storage().tolist()"
   ]
  },
  {
   "cell_type": "code",
   "execution_count": 134,
   "metadata": {},
   "outputs": [],
   "source": [
    "def stats(d):\n",
    "    return [np.mean(d), np.std(d)]"
   ]
  },
  {
   "cell_type": "code",
   "execution_count": 135,
   "metadata": {},
   "outputs": [],
   "source": [
    "def decorate_with_diffs(data, exponent):\n",
    "    mean = torch.mean(data.data, 1, keepdim=True)\n",
    "    mean_broadcast = torch.mul(torch.ones(data.size()), mean.tolist()[0][0])\n",
    "    diffs = torch.pow(data - Variable(mean_broadcast), exponent)\n",
    "    return torch.cat([data, diffs], 1)"
   ]
  },
  {
   "cell_type": "code",
   "execution_count": 136,
   "metadata": {},
   "outputs": [],
   "source": [
    "d_sampler = data[0]\n",
    "gi_sampler = inject_fake_data()\n",
    "G = Generator(input_size=g_input_size, hidden_size=g_hidden_size, output_size=g_output_size)\n",
    "D = Discriminator(input_size=d_input_func(d_input_size), hidden_size=d_hidden_size, output_size=d_output_size)\n"
   ]
  },
  {
   "cell_type": "code",
   "execution_count": null,
   "metadata": {
    "scrolled": true
   },
   "outputs": [
    {
     "name": "stdout",
     "output_type": "stream",
     "text": [
      "0: Discriminator: Real Error 0.607317328453064 / Fake Error 0.6823877096176147 Generator: 0.7059551477432251 (Real Data: [3.0465385945408836, 49.174943056117513], Fake Data: [-0.098921421786834454, 0.0064182583676690927]) \n",
      "100: Discriminator: Real Error 0.006616138853132725 / Fake Error 0.5579261183738708 Generator: 0.8513996005058289 (Real Data: [3.0465385945408836, 49.174943056117513], Fake Data: [0.022986474222150343, 0.0010658655555912265]) \n",
      "200: Discriminator: Real Error 0.0012629254488274455 / Fake Error 0.3857477903366089 Generator: 1.1431217193603516 (Real Data: [3.0465385945408836, 49.174943056117513], Fake Data: [-0.02487429873696689, 0.0036143318495017863]) \n",
      "300: Discriminator: Real Error 0.0003931699029635638 / Fake Error 0.20293503999710083 Generator: 1.7141870260238647 (Real Data: [3.0465385945408836, 49.174943056117513], Fake Data: [-0.44161324459930945, 0.01005152403103385]) \n",
      "400: Discriminator: Real Error 0.00018461262516211718 / Fake Error 0.13475991785526276 Generator: 2.076655149459839 (Real Data: [3.0465385945408836, 49.174943056117513], Fake Data: [-0.0085532868216777677, 0.0038917425809197881]) \n",
      "500: Discriminator: Real Error 5.2691892051370814e-05 / Fake Error 0.09737806767225266 Generator: 2.3532886505126953 (Real Data: [3.0465385945408836, 49.174943056117513], Fake Data: [0.36718228767658101, 0.02376340466977139]) \n",
      "600: Discriminator: Real Error 3.016040318470914e-05 / Fake Error 0.04308421537280083 Generator: 3.1913769245147705 (Real Data: [3.0465385945408836, 49.174943056117513], Fake Data: [-0.43083901960274268, 0.001730954999532224]) \n",
      "700: Discriminator: Real Error 1.8596821973915212e-05 / Fake Error 0.025174090638756752 Generator: 3.5758543014526367 (Real Data: [3.0465385945408836, 49.174943056117513], Fake Data: [0.42703848255091698, 0.037598972546378631]) \n",
      "800: Discriminator: Real Error 1.2040210094710346e-05 / Fake Error 0.017949357628822327 Generator: 4.064836502075195 (Real Data: [3.0465385945408836, 49.174943056117513], Fake Data: [-0.40272737679810361, 0.012885656551964293]) \n",
      "900: Discriminator: Real Error 8.583104317949619e-06 / Fake Error 0.014699874445796013 Generator: 4.183038234710693 (Real Data: [3.0465385945408836, 49.174943056117513], Fake Data: [0.38416054639323005, 0.024558586669375351]) \n",
      "1000: Discriminator: Real Error 7.152581929403823e-06 / Fake Error 0.012278334237635136 Generator: 4.416679859161377 (Real Data: [3.0465385945408836, 49.174943056117513], Fake Data: [-0.32436058644590704, 0.0012005318613408527]) \n",
      "1100: Discriminator: Real Error 4.8875917855184525e-06 / Fake Error 0.008084380067884922 Generator: 4.8193511962890625 (Real Data: [3.0465385945408836, 49.174943056117513], Fake Data: [0.083979997141607879, 0.0021659170840017494]) \n",
      "1200: Discriminator: Real Error 4.649172296922188e-06 / Fake Error 0.005346057470887899 Generator: 5.281463623046875 (Real Data: [3.0465385945408836, 49.174943056117513], Fake Data: [0.17370122311444119, 0.0083613681143859774]) \n",
      "1300: Discriminator: Real Error 3.457074399193516e-06 / Fake Error 0.004505360499024391 Generator: 5.447364330291748 (Real Data: [3.0465385945408836, 49.174943056117513], Fake Data: [-0.30527742977800043, 0.021082720275863678]) \n",
      "1400: Discriminator: Real Error 2.980235649374663e-06 / Fake Error 0.0043378253467381 Generator: 5.452627658843994 (Real Data: [3.0465385945408836, 49.174943056117513], Fake Data: [0.33263910227808458, 0.009909585985465548]) \n",
      "1500: Discriminator: Real Error 2.741816388152074e-06 / Fake Error 0.0037649727892130613 Generator: 5.735044956207275 (Real Data: [3.0465385945408836, 49.174943056117513], Fake Data: [-0.13644149025966382, 0.039227561318744691]) \n",
      "1600: Discriminator: Real Error 2.145768576156115e-06 / Fake Error 0.0022945592645555735 Generator: 6.009182929992676 (Real Data: [3.0465385945408836, 49.174943056117513], Fake Data: [-0.17445979395817066, 0.074243267153064729]) \n",
      "1700: Discriminator: Real Error 2.0265590592316585e-06 / Fake Error 0.002174577908590436 Generator: 5.892819881439209 (Real Data: [3.0465385945408836, 49.174943056117513], Fake Data: [0.34455389709308232, 0.063049444678542246]) \n",
      "1800: Discriminator: Real Error 1.7881399116959074e-06 / Fake Error 0.002221764298155904 Generator: 6.064418315887451 (Real Data: [3.0465385945408836, 49.174943056117513], Fake Data: [-0.2931779206826769, 0.10582483773880848]) \n",
      "1900: Discriminator: Real Error 1.5497209915338317e-06 / Fake Error 0.001900603761896491 Generator: 6.424564361572266 (Real Data: [3.0465385945408836, 49.174943056117513], Fake Data: [-0.05054637430043056, 0.082489707982617524]) \n",
      "2000: Discriminator: Real Error 1.430511474609375e-06 / Fake Error 0.0015078227734193206 Generator: 6.661984920501709 (Real Data: [3.0465385945408836, 49.174943056117513], Fake Data: [0.32594997255966579, 0.069828587896298963]) \n",
      "2100: Discriminator: Real Error 1.311302071371756e-06 / Fake Error 0.0012900291476398706 Generator: 6.620284557342529 (Real Data: [3.0465385945408836, 49.174943056117513], Fake Data: [-0.3081365104379325, 0.10452405889891139]) \n",
      "2200: Discriminator: Real Error 1.0728831512096804e-06 / Fake Error 0.0014257568400353193 Generator: 6.85198974609375 (Real Data: [3.0465385945408836, 49.174943056117513], Fake Data: [-0.027997799731534104, 0.098579397138915267]) \n",
      "2300: Discriminator: Real Error 1.0728831512096804e-06 / Fake Error 0.001176538527943194 Generator: 6.552672386169434 (Real Data: [3.0465385945408836, 49.174943056117513], Fake Data: [0.25270697834162875, 0.097619628682054357]) \n",
      "2400: Discriminator: Real Error 9.536737479720614e-07 / Fake Error 0.0009114169515669346 Generator: 6.48392915725708 (Real Data: [3.0465385945408836, 49.174943056117513], Fake Data: [-0.3108920917428773, 0.17882707869852388]) \n",
      "2500: Discriminator: Real Error 8.344644015778613e-07 / Fake Error 0.0005075572989881039 Generator: 7.6712846755981445 (Real Data: [3.0465385945408836, 49.174943056117513], Fake Data: [0.015168287887655455, 0.1603534756409149]) \n",
      "2600: Discriminator: Real Error 8.344644015778613e-07 / Fake Error 0.0006846172618679702 Generator: 7.388344764709473 (Real Data: [3.0465385945408836, 49.174943056117513], Fake Data: [0.10802683028681524, 0.21575217342143652]) \n",
      "2700: Discriminator: Real Error 7.152549983402423e-07 / Fake Error 0.00038974572089500725 Generator: 7.253183364868164 (Real Data: [3.0465385945408836, 49.174943056117513], Fake Data: [-0.12661792748960957, 0.30704473346481548]) \n",
      "2800: Discriminator: Real Error 7.152549983402423e-07 / Fake Error 0.00019340329163242131 Generator: 7.379945278167725 (Real Data: [3.0465385945408836, 49.174943056117513], Fake Data: [0.15932891158194379, 0.36961944048657525]) \n",
      "2900: Discriminator: Real Error 7.152549983402423e-07 / Fake Error 0.0003009368956554681 Generator: 7.659639835357666 (Real Data: [3.0465385945408836, 49.174943056117513], Fake Data: [-0.20657175753650994, 0.53097004937368864]) \n",
      "3000: Discriminator: Real Error 7.152549983402423e-07 / Fake Error 0.00010275719978380948 Generator: 7.442389011383057 (Real Data: [3.0465385945408836, 49.174943056117513], Fake Data: [0.30489094863677846, 0.67197780956693032]) \n",
      "3100: Discriminator: Real Error 5.960456519460422e-07 / Fake Error 0.00014196588017512113 Generator: 5.533432960510254 (Real Data: [3.0465385945408836, 49.174943056117513], Fake Data: [0.10307079399454183, 0.93819447038124848]) \n",
      "3200: Discriminator: Real Error 8.344644015778613e-07 / Fake Error 0.0022179302759468555 Generator: 6.859717845916748 (Real Data: [3.0465385945408836, 49.174943056117513], Fake Data: [-0.075747323961093502, 1.1048160313400772]) \n",
      "3300: Discriminator: Real Error 1.5497209915338317e-06 / Fake Error 0.000573383120354265 Generator: 9.279258728027344 (Real Data: [3.0465385945408836, 49.174943056117513], Fake Data: [-0.26071663560538455, 1.5750476742161417]) \n",
      "3400: Discriminator: Real Error 2.3841876100050285e-06 / Fake Error 0.001014946261420846 Generator: 8.103595733642578 (Real Data: [3.0465385945408836, 49.174943056117513], Fake Data: [0.34723169330892889, 2.0122239983276717]) \n",
      "3500: Discriminator: Real Error 3.099445393672795e-06 / Fake Error 0.0004183549026492983 Generator: 7.681983947753906 (Real Data: [3.0465385945408836, 49.174943056117513], Fake Data: [-1.090487485044989, 1.7504887952931463]) \n"
     ]
    },
    {
     "name": "stdout",
     "output_type": "stream",
     "text": [
      "3600: Discriminator: Real Error 4.76838204122032e-06 / Fake Error 0.0002144565514754504 Generator: 8.546331405639648 (Real Data: [3.0465385945408836, 49.174943056117513], Fake Data: [0.015076383434492966, 2.4055532833261206]) \n",
      "3700: Discriminator: Real Error 4.76838204122032e-06 / Fake Error 0.00190460542216897 Generator: 7.700901031494141 (Real Data: [3.0465385945408836, 49.174943056117513], Fake Data: [0.61973457449469072, 2.7600484519978372]) \n",
      "3800: Discriminator: Real Error 1.4305215700005647e-05 / Fake Error 9.28994850255549e-05 Generator: 10.751123428344727 (Real Data: [3.0465385945408836, 49.174943056117513], Fake Data: [-1.5110679651642669, 2.6909928932018192]) \n",
      "3900: Discriminator: Real Error 1.7285496141994372e-05 / Fake Error 0.00048085645539686084 Generator: 7.056056499481201 (Real Data: [3.0465385945408836, 49.174943056117513], Fake Data: [-0.38900126825118886, 2.7220841331541044]) \n",
      "4000: Discriminator: Real Error 8.463894118904136e-06 / Fake Error 0.00035131489858031273 Generator: 10.037637710571289 (Real Data: [3.0465385945408836, 49.174943056117513], Fake Data: [0.24574023382417087, 3.0466601777137612]) \n",
      "4100: Discriminator: Real Error 7.867843123676721e-06 / Fake Error 9.699684824227006e-07 Generator: 8.971012115478516 (Real Data: [3.0465385945408836, 49.174943056117513], Fake Data: [0.13186843847406321, 2.8508206426462195]) \n",
      "4200: Discriminator: Real Error 6.0796910474891774e-06 / Fake Error 6.320624834188493e-06 Generator: 8.599869728088379 (Real Data: [3.0465385945408836, 49.174943056117513], Fake Data: [0.10670243563323185, 2.8377050333361025]) \n",
      "4300: Discriminator: Real Error 5.960481303191045e-06 / Fake Error 0.0004497453919611871 Generator: 6.861422061920166 (Real Data: [3.0465385945408836, 49.174943056117513], Fake Data: [0.16219462788310543, 2.6475574643953967]) \n",
      "4400: Discriminator: Real Error 4.053123120684177e-06 / Fake Error 4.561048626783304e-06 Generator: 10.342988967895508 (Real Data: [3.0465385945408836, 49.174943056117513], Fake Data: [0.61346485928214833, 2.8343934627266907]) \n",
      "4500: Discriminator: Real Error 4.291542609280441e-06 / Fake Error 3.163110477544251e-06 Generator: 11.446736335754395 (Real Data: [3.0465385945408836, 49.174943056117513], Fake Data: [0.75893799498163417, 2.7059210567458623]) \n",
      "4600: Discriminator: Real Error 3.9339133763860445e-06 / Fake Error 4.153235977355507e-07 Generator: 14.1062593460083 (Real Data: [3.0465385945408836, 49.174943056117513], Fake Data: [0.51641490644422072, 2.7893311307607127]) \n",
      "4700: Discriminator: Real Error 3.457074399193516e-06 / Fake Error 4.0815775719238445e-05 Generator: 11.05935287475586 (Real Data: [3.0465385945408836, 49.174943056117513], Fake Data: [-0.5095395761831053, 2.8413163989454557]) \n",
      "4800: Discriminator: Real Error 3.2186549105972517e-06 / Fake Error 1.3532519005821086e-05 Generator: 10.612898826599121 (Real Data: [3.0465385945408836, 49.174943056117513], Fake Data: [0.93641866897714554, 2.6700084806705302]) \n",
      "4900: Discriminator: Real Error 2.861026132450206e-06 / Fake Error 2.103430460920208e-06 Generator: 7.9130330085754395 (Real Data: [3.0465385945408836, 49.174943056117513], Fake Data: [-0.57201986888359335, 2.7561824529945369]) \n",
      "5000: Discriminator: Real Error 2.6226068712276174e-06 / Fake Error 2.9523498596972786e-05 Generator: 11.774076461791992 (Real Data: [3.0465385945408836, 49.174943056117513], Fake Data: [-0.40740310272266123, 2.6460220161237542]) \n",
      "5100: Discriminator: Real Error 2.741816388152074e-06 / Fake Error 4.325269037508406e-05 Generator: 9.08949089050293 (Real Data: [3.0465385945408836, 49.174943056117513], Fake Data: [0.39675353801455993, 2.5970196463038797]) \n"
     ]
    }
   ],
   "source": [
    "# Training GANs\n",
    "criterion = nn.BCELoss()  # Binary cross entropy: http://pytorch.org/docs/nn.html#bceloss\n",
    "d_optimizer = optim.Adam(D.parameters(), lr=d_learning_rate, betas=optim_betas)\n",
    "g_optimizer = optim.Adam(G.parameters(), lr=g_learning_rate, betas=optim_betas)\n",
    "\n",
    "\n",
    "for epoch in range(num_epochs):\n",
    "    for d_index in range(d_steps):\n",
    "        # 1. Updating the weights of the Discriminator\n",
    "        D.zero_grad() # Initialize gradients of the Discriminator to 0\n",
    "\n",
    "        # Training the Discriminator with real data\n",
    "        input = Variable(d_sampler) # Wrap it in a variable\n",
    "        output = D(preprocess(input)) # Forward propagate this real data into the neural network\n",
    "        #target = Variable(torch.ones(input.size()[0]))\n",
    "        target = Variable(torch.ones(1)) # Get the target\n",
    "        d_real_error = criterion(output, target) # Compute the loss between the prediction and actual\n",
    "        d_real_error.backward() # Compute/store gradients\n",
    "    \n",
    "        # Train the Discriminator with a fake data generated by the Generator\n",
    "        #d_gen_input = Variable(gi_sampler(minibatch_size, 29))\n",
    "        d_gen_input = Variable(gi_sampler(minibatch_size, g_input_size))\n",
    "        d_fake_data = G(d_gen_input).detach()  # detach to avoid training G on these labels\n",
    "        \n",
    "        output = D(preprocess(d_fake_data.t()))\n",
    "        target = Variable(torch.zeros(1))\n",
    "        d_fake_error = criterion(output, target)  # zeros = fake\n",
    "        d_fake_error.backward()\n",
    "        d_optimizer.step()     # # Apply SGD to update the weight\n",
    "        \n",
    "    for g_index in range(g_steps):\n",
    "        # 2. Update the weight of the Generator \n",
    "        G.zero_grad()\n",
    "\n",
    "        gen_input = Variable(gi_sampler(minibatch_size, g_input_size))\n",
    "        g_fake_data = G(gen_input)\n",
    "        output = D(preprocess(g_fake_data.t()))\n",
    "        target = Variable(torch.ones(1))\n",
    "        g_error = criterion(output, target)\n",
    "        g_error.backward()\n",
    "        g_optimizer.step()  # Only optimizes G's parameters\n",
    "        \n",
    "    if epoch % print_interval == 0:\n",
    "        print(\"%s: Discriminator: Real Error %s / Fake Error %s Generator: %s (Real Data: %s, Fake Data: %s) \" % (epoch,\n",
    "                                                            extract(d_real_error)[0],\n",
    "                                                            extract(d_fake_error)[0],\n",
    "                                                            extract(g_error)[0],\n",
    "                                                            stats(extract(d_real_data)),\n",
    "                                                            stats(extract(d_fake_data))))\n"
   ]
  },
  {
   "cell_type": "code",
   "execution_count": null,
   "metadata": {},
   "outputs": [],
   "source": []
  }
 ],
 "metadata": {
  "kernelspec": {
   "display_name": "Python 3",
   "language": "python",
   "name": "python3"
  },
  "language_info": {
   "codemirror_mode": {
    "name": "ipython",
    "version": 3
   },
   "file_extension": ".py",
   "mimetype": "text/x-python",
   "name": "python",
   "nbconvert_exporter": "python",
   "pygments_lexer": "ipython3",
   "version": "3.6.5"
  }
 },
 "nbformat": 4,
 "nbformat_minor": 2
}
