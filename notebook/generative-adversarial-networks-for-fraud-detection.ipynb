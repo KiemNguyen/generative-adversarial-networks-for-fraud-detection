{
 "cells": [
  {
   "cell_type": "markdown",
   "metadata": {},
   "source": [
    "### Setup"
   ]
  },
  {
   "cell_type": "code",
   "execution_count": 32,
   "metadata": {},
   "outputs": [],
   "source": [
    "from __future__ import print_function\n",
    "\n",
    "import math\n",
    "from IPython import display\n",
    "from matplotlib import cm\n",
    "from matplotlib import gridspec\n",
    "from matplotlib import pyplot as plt\n",
    "import numpy as np\n",
    "import pandas as pd\n",
    "from sklearn import metrics\n",
    "import tensorflow as tf\n",
    "from tensorflow.python.data import Dataset\n",
    "from sklearn.preprocessing import StandardScaler\n",
    "import keras\n",
    "from keras.models import Sequential\n",
    "from keras.layers import Dense\n",
    "\n",
    "tf.logging.set_verbosity(tf.logging.ERROR)\n",
    "pd.options.display.max_rows = 10\n",
    "pd.options.display.float_format = '{:.1f}'.format\n",
    "\n",
    "%matplotlib inline"
   ]
  },
  {
   "cell_type": "code",
   "execution_count": 33,
   "metadata": {},
   "outputs": [],
   "source": [
    "data = pd.read_csv(\"/Users/kiem/Developer/data/creditcard.csv\")"
   ]
  },
  {
   "cell_type": "markdown",
   "metadata": {},
   "source": [
    "Let's randomize the data, just to be sure not to get any pathological ordering effects that might harm the performane of Stochastic Gradient Descent."
   ]
  },
  {
   "cell_type": "code",
   "execution_count": 34,
   "metadata": {},
   "outputs": [
    {
     "data": {
      "text/html": [
       "<div>\n",
       "<style scoped>\n",
       "    .dataframe tbody tr th:only-of-type {\n",
       "        vertical-align: middle;\n",
       "    }\n",
       "\n",
       "    .dataframe tbody tr th {\n",
       "        vertical-align: top;\n",
       "    }\n",
       "\n",
       "    .dataframe thead th {\n",
       "        text-align: right;\n",
       "    }\n",
       "</style>\n",
       "<table border=\"1\" class=\"dataframe\">\n",
       "  <thead>\n",
       "    <tr style=\"text-align: right;\">\n",
       "      <th></th>\n",
       "      <th>Time</th>\n",
       "      <th>V1</th>\n",
       "      <th>V2</th>\n",
       "      <th>V3</th>\n",
       "      <th>V4</th>\n",
       "      <th>V5</th>\n",
       "      <th>V6</th>\n",
       "      <th>V7</th>\n",
       "      <th>V8</th>\n",
       "      <th>V9</th>\n",
       "      <th>...</th>\n",
       "      <th>V21</th>\n",
       "      <th>V22</th>\n",
       "      <th>V23</th>\n",
       "      <th>V24</th>\n",
       "      <th>V25</th>\n",
       "      <th>V26</th>\n",
       "      <th>V27</th>\n",
       "      <th>V28</th>\n",
       "      <th>Amount</th>\n",
       "      <th>Class</th>\n",
       "    </tr>\n",
       "  </thead>\n",
       "  <tbody>\n",
       "    <tr>\n",
       "      <th>138824</th>\n",
       "      <td>82865.0</td>\n",
       "      <td>1.2</td>\n",
       "      <td>-0.7</td>\n",
       "      <td>0.0</td>\n",
       "      <td>-0.9</td>\n",
       "      <td>-0.6</td>\n",
       "      <td>-0.0</td>\n",
       "      <td>-0.4</td>\n",
       "      <td>0.0</td>\n",
       "      <td>2.0</td>\n",
       "      <td>...</td>\n",
       "      <td>0.1</td>\n",
       "      <td>0.3</td>\n",
       "      <td>-0.4</td>\n",
       "      <td>-1.0</td>\n",
       "      <td>0.9</td>\n",
       "      <td>-0.4</td>\n",
       "      <td>0.1</td>\n",
       "      <td>0.0</td>\n",
       "      <td>89.0</td>\n",
       "      <td>0</td>\n",
       "    </tr>\n",
       "    <tr>\n",
       "      <th>214646</th>\n",
       "      <td>139760.0</td>\n",
       "      <td>-1.2</td>\n",
       "      <td>1.0</td>\n",
       "      <td>1.6</td>\n",
       "      <td>1.0</td>\n",
       "      <td>0.2</td>\n",
       "      <td>0.5</td>\n",
       "      <td>-0.0</td>\n",
       "      <td>0.8</td>\n",
       "      <td>-0.3</td>\n",
       "      <td>...</td>\n",
       "      <td>-0.5</td>\n",
       "      <td>-1.3</td>\n",
       "      <td>-0.2</td>\n",
       "      <td>-0.5</td>\n",
       "      <td>0.4</td>\n",
       "      <td>-0.8</td>\n",
       "      <td>0.2</td>\n",
       "      <td>0.0</td>\n",
       "      <td>1.0</td>\n",
       "      <td>0</td>\n",
       "    </tr>\n",
       "    <tr>\n",
       "      <th>12179</th>\n",
       "      <td>21245.0</td>\n",
       "      <td>-1.6</td>\n",
       "      <td>0.9</td>\n",
       "      <td>1.1</td>\n",
       "      <td>-1.5</td>\n",
       "      <td>0.3</td>\n",
       "      <td>-1.2</td>\n",
       "      <td>1.3</td>\n",
       "      <td>-0.4</td>\n",
       "      <td>1.5</td>\n",
       "      <td>...</td>\n",
       "      <td>-0.3</td>\n",
       "      <td>-0.2</td>\n",
       "      <td>-0.2</td>\n",
       "      <td>0.4</td>\n",
       "      <td>0.4</td>\n",
       "      <td>0.8</td>\n",
       "      <td>0.0</td>\n",
       "      <td>0.3</td>\n",
       "      <td>75.0</td>\n",
       "      <td>0</td>\n",
       "    </tr>\n",
       "    <tr>\n",
       "      <th>122973</th>\n",
       "      <td>76758.0</td>\n",
       "      <td>-3.0</td>\n",
       "      <td>3.0</td>\n",
       "      <td>-0.7</td>\n",
       "      <td>-1.1</td>\n",
       "      <td>-1.2</td>\n",
       "      <td>-0.0</td>\n",
       "      <td>-2.6</td>\n",
       "      <td>-4.0</td>\n",
       "      <td>-1.0</td>\n",
       "      <td>...</td>\n",
       "      <td>-2.5</td>\n",
       "      <td>0.6</td>\n",
       "      <td>0.5</td>\n",
       "      <td>-0.1</td>\n",
       "      <td>-0.2</td>\n",
       "      <td>0.8</td>\n",
       "      <td>0.0</td>\n",
       "      <td>0.2</td>\n",
       "      <td>9.0</td>\n",
       "      <td>0</td>\n",
       "    </tr>\n",
       "    <tr>\n",
       "      <th>257643</th>\n",
       "      <td>158272.0</td>\n",
       "      <td>0.2</td>\n",
       "      <td>1.1</td>\n",
       "      <td>-0.5</td>\n",
       "      <td>-0.6</td>\n",
       "      <td>1.1</td>\n",
       "      <td>-0.7</td>\n",
       "      <td>1.0</td>\n",
       "      <td>-0.1</td>\n",
       "      <td>-0.1</td>\n",
       "      <td>...</td>\n",
       "      <td>-0.3</td>\n",
       "      <td>-0.8</td>\n",
       "      <td>0.1</td>\n",
       "      <td>0.4</td>\n",
       "      <td>-0.4</td>\n",
       "      <td>0.1</td>\n",
       "      <td>0.2</td>\n",
       "      <td>0.1</td>\n",
       "      <td>2.7</td>\n",
       "      <td>0</td>\n",
       "    </tr>\n",
       "  </tbody>\n",
       "</table>\n",
       "<p>5 rows × 31 columns</p>\n",
       "</div>"
      ],
      "text/plain": [
       "           Time   V1   V2   V3   V4   V5   V6   V7   V8   V9  ...    V21  V22  \\\n",
       "138824  82865.0  1.2 -0.7  0.0 -0.9 -0.6 -0.0 -0.4  0.0  2.0  ...    0.1  0.3   \n",
       "214646 139760.0 -1.2  1.0  1.6  1.0  0.2  0.5 -0.0  0.8 -0.3  ...   -0.5 -1.3   \n",
       "12179   21245.0 -1.6  0.9  1.1 -1.5  0.3 -1.2  1.3 -0.4  1.5  ...   -0.3 -0.2   \n",
       "122973  76758.0 -3.0  3.0 -0.7 -1.1 -1.2 -0.0 -2.6 -4.0 -1.0  ...   -2.5  0.6   \n",
       "257643 158272.0  0.2  1.1 -0.5 -0.6  1.1 -0.7  1.0 -0.1 -0.1  ...   -0.3 -0.8   \n",
       "\n",
       "        V23  V24  V25  V26  V27  V28  Amount  Class  \n",
       "138824 -0.4 -1.0  0.9 -0.4  0.1  0.0    89.0      0  \n",
       "214646 -0.2 -0.5  0.4 -0.8  0.2  0.0     1.0      0  \n",
       "12179  -0.2  0.4  0.4  0.8  0.0  0.3    75.0      0  \n",
       "122973  0.5 -0.1 -0.2  0.8  0.0  0.2     9.0      0  \n",
       "257643  0.1  0.4 -0.4  0.1  0.2  0.1     2.7      0  \n",
       "\n",
       "[5 rows x 31 columns]"
      ]
     },
     "execution_count": 34,
     "metadata": {},
     "output_type": "execute_result"
    }
   ],
   "source": [
    "data = data.reindex(np.random.permutation(data.index))\n",
    "data.head()"
   ]
  },
  {
   "cell_type": "code",
   "execution_count": 35,
   "metadata": {},
   "outputs": [
    {
     "data": {
      "text/plain": [
       "2"
      ]
     },
     "execution_count": 35,
     "metadata": {},
     "output_type": "execute_result"
    }
   ],
   "source": [
    "data.ndim"
   ]
  },
  {
   "cell_type": "markdown",
   "metadata": {},
   "source": [
    "### Data Wrangling"
   ]
  },
  {
   "cell_type": "code",
   "execution_count": 36,
   "metadata": {},
   "outputs": [
    {
     "data": {
      "text/html": [
       "<div>\n",
       "<style scoped>\n",
       "    .dataframe tbody tr th:only-of-type {\n",
       "        vertical-align: middle;\n",
       "    }\n",
       "\n",
       "    .dataframe tbody tr th {\n",
       "        vertical-align: top;\n",
       "    }\n",
       "\n",
       "    .dataframe thead th {\n",
       "        text-align: right;\n",
       "    }\n",
       "</style>\n",
       "<table border=\"1\" class=\"dataframe\">\n",
       "  <thead>\n",
       "    <tr style=\"text-align: right;\">\n",
       "      <th></th>\n",
       "      <th>Time</th>\n",
       "      <th>V1</th>\n",
       "      <th>V2</th>\n",
       "      <th>V3</th>\n",
       "      <th>V4</th>\n",
       "      <th>V5</th>\n",
       "      <th>V6</th>\n",
       "      <th>V7</th>\n",
       "      <th>V8</th>\n",
       "      <th>V9</th>\n",
       "      <th>...</th>\n",
       "      <th>V21</th>\n",
       "      <th>V22</th>\n",
       "      <th>V23</th>\n",
       "      <th>V24</th>\n",
       "      <th>V25</th>\n",
       "      <th>V26</th>\n",
       "      <th>V27</th>\n",
       "      <th>V28</th>\n",
       "      <th>Amount</th>\n",
       "      <th>Class</th>\n",
       "    </tr>\n",
       "  </thead>\n",
       "  <tbody>\n",
       "    <tr>\n",
       "      <th>count</th>\n",
       "      <td>284807.0</td>\n",
       "      <td>284807.0</td>\n",
       "      <td>284807.0</td>\n",
       "      <td>284807.0</td>\n",
       "      <td>284807.0</td>\n",
       "      <td>284807.0</td>\n",
       "      <td>284807.0</td>\n",
       "      <td>284807.0</td>\n",
       "      <td>284807.0</td>\n",
       "      <td>284807.0</td>\n",
       "      <td>...</td>\n",
       "      <td>284807.0</td>\n",
       "      <td>284807.0</td>\n",
       "      <td>284807.0</td>\n",
       "      <td>284807.0</td>\n",
       "      <td>284807.0</td>\n",
       "      <td>284807.0</td>\n",
       "      <td>284807.0</td>\n",
       "      <td>284807.0</td>\n",
       "      <td>284807.0</td>\n",
       "      <td>284807.0</td>\n",
       "    </tr>\n",
       "    <tr>\n",
       "      <th>mean</th>\n",
       "      <td>94813.9</td>\n",
       "      <td>0.0</td>\n",
       "      <td>0.0</td>\n",
       "      <td>-0.0</td>\n",
       "      <td>0.0</td>\n",
       "      <td>0.0</td>\n",
       "      <td>0.0</td>\n",
       "      <td>-0.0</td>\n",
       "      <td>0.0</td>\n",
       "      <td>-0.0</td>\n",
       "      <td>...</td>\n",
       "      <td>0.0</td>\n",
       "      <td>-0.0</td>\n",
       "      <td>0.0</td>\n",
       "      <td>0.0</td>\n",
       "      <td>0.0</td>\n",
       "      <td>0.0</td>\n",
       "      <td>-0.0</td>\n",
       "      <td>-0.0</td>\n",
       "      <td>88.3</td>\n",
       "      <td>0.0</td>\n",
       "    </tr>\n",
       "    <tr>\n",
       "      <th>std</th>\n",
       "      <td>47488.1</td>\n",
       "      <td>2.0</td>\n",
       "      <td>1.7</td>\n",
       "      <td>1.5</td>\n",
       "      <td>1.4</td>\n",
       "      <td>1.4</td>\n",
       "      <td>1.3</td>\n",
       "      <td>1.2</td>\n",
       "      <td>1.2</td>\n",
       "      <td>1.1</td>\n",
       "      <td>...</td>\n",
       "      <td>0.7</td>\n",
       "      <td>0.7</td>\n",
       "      <td>0.6</td>\n",
       "      <td>0.6</td>\n",
       "      <td>0.5</td>\n",
       "      <td>0.5</td>\n",
       "      <td>0.4</td>\n",
       "      <td>0.3</td>\n",
       "      <td>250.1</td>\n",
       "      <td>0.0</td>\n",
       "    </tr>\n",
       "    <tr>\n",
       "      <th>min</th>\n",
       "      <td>0.0</td>\n",
       "      <td>-56.4</td>\n",
       "      <td>-72.7</td>\n",
       "      <td>-48.3</td>\n",
       "      <td>-5.7</td>\n",
       "      <td>-113.7</td>\n",
       "      <td>-26.2</td>\n",
       "      <td>-43.6</td>\n",
       "      <td>-73.2</td>\n",
       "      <td>-13.4</td>\n",
       "      <td>...</td>\n",
       "      <td>-34.8</td>\n",
       "      <td>-10.9</td>\n",
       "      <td>-44.8</td>\n",
       "      <td>-2.8</td>\n",
       "      <td>-10.3</td>\n",
       "      <td>-2.6</td>\n",
       "      <td>-22.6</td>\n",
       "      <td>-15.4</td>\n",
       "      <td>0.0</td>\n",
       "      <td>0.0</td>\n",
       "    </tr>\n",
       "    <tr>\n",
       "      <th>25%</th>\n",
       "      <td>54201.5</td>\n",
       "      <td>-0.9</td>\n",
       "      <td>-0.6</td>\n",
       "      <td>-0.9</td>\n",
       "      <td>-0.8</td>\n",
       "      <td>-0.7</td>\n",
       "      <td>-0.8</td>\n",
       "      <td>-0.6</td>\n",
       "      <td>-0.2</td>\n",
       "      <td>-0.6</td>\n",
       "      <td>...</td>\n",
       "      <td>-0.2</td>\n",
       "      <td>-0.5</td>\n",
       "      <td>-0.2</td>\n",
       "      <td>-0.4</td>\n",
       "      <td>-0.3</td>\n",
       "      <td>-0.3</td>\n",
       "      <td>-0.1</td>\n",
       "      <td>-0.1</td>\n",
       "      <td>5.6</td>\n",
       "      <td>0.0</td>\n",
       "    </tr>\n",
       "    <tr>\n",
       "      <th>50%</th>\n",
       "      <td>84692.0</td>\n",
       "      <td>0.0</td>\n",
       "      <td>0.1</td>\n",
       "      <td>0.2</td>\n",
       "      <td>-0.0</td>\n",
       "      <td>-0.1</td>\n",
       "      <td>-0.3</td>\n",
       "      <td>0.0</td>\n",
       "      <td>0.0</td>\n",
       "      <td>-0.1</td>\n",
       "      <td>...</td>\n",
       "      <td>-0.0</td>\n",
       "      <td>0.0</td>\n",
       "      <td>-0.0</td>\n",
       "      <td>0.0</td>\n",
       "      <td>0.0</td>\n",
       "      <td>-0.1</td>\n",
       "      <td>0.0</td>\n",
       "      <td>0.0</td>\n",
       "      <td>22.0</td>\n",
       "      <td>0.0</td>\n",
       "    </tr>\n",
       "    <tr>\n",
       "      <th>75%</th>\n",
       "      <td>139320.5</td>\n",
       "      <td>1.3</td>\n",
       "      <td>0.8</td>\n",
       "      <td>1.0</td>\n",
       "      <td>0.7</td>\n",
       "      <td>0.6</td>\n",
       "      <td>0.4</td>\n",
       "      <td>0.6</td>\n",
       "      <td>0.3</td>\n",
       "      <td>0.6</td>\n",
       "      <td>...</td>\n",
       "      <td>0.2</td>\n",
       "      <td>0.5</td>\n",
       "      <td>0.1</td>\n",
       "      <td>0.4</td>\n",
       "      <td>0.4</td>\n",
       "      <td>0.2</td>\n",
       "      <td>0.1</td>\n",
       "      <td>0.1</td>\n",
       "      <td>77.2</td>\n",
       "      <td>0.0</td>\n",
       "    </tr>\n",
       "    <tr>\n",
       "      <th>max</th>\n",
       "      <td>172792.0</td>\n",
       "      <td>2.5</td>\n",
       "      <td>22.1</td>\n",
       "      <td>9.4</td>\n",
       "      <td>16.9</td>\n",
       "      <td>34.8</td>\n",
       "      <td>73.3</td>\n",
       "      <td>120.6</td>\n",
       "      <td>20.0</td>\n",
       "      <td>15.6</td>\n",
       "      <td>...</td>\n",
       "      <td>27.2</td>\n",
       "      <td>10.5</td>\n",
       "      <td>22.5</td>\n",
       "      <td>4.6</td>\n",
       "      <td>7.5</td>\n",
       "      <td>3.5</td>\n",
       "      <td>31.6</td>\n",
       "      <td>33.8</td>\n",
       "      <td>25691.2</td>\n",
       "      <td>1.0</td>\n",
       "    </tr>\n",
       "  </tbody>\n",
       "</table>\n",
       "<p>8 rows × 31 columns</p>\n",
       "</div>"
      ],
      "text/plain": [
       "          Time       V1       V2       V3       V4       V5       V6       V7  \\\n",
       "count 284807.0 284807.0 284807.0 284807.0 284807.0 284807.0 284807.0 284807.0   \n",
       "mean   94813.9      0.0      0.0     -0.0      0.0      0.0      0.0     -0.0   \n",
       "std    47488.1      2.0      1.7      1.5      1.4      1.4      1.3      1.2   \n",
       "min        0.0    -56.4    -72.7    -48.3     -5.7   -113.7    -26.2    -43.6   \n",
       "25%    54201.5     -0.9     -0.6     -0.9     -0.8     -0.7     -0.8     -0.6   \n",
       "50%    84692.0      0.0      0.1      0.2     -0.0     -0.1     -0.3      0.0   \n",
       "75%   139320.5      1.3      0.8      1.0      0.7      0.6      0.4      0.6   \n",
       "max   172792.0      2.5     22.1      9.4     16.9     34.8     73.3    120.6   \n",
       "\n",
       "            V8       V9   ...         V21      V22      V23      V24      V25  \\\n",
       "count 284807.0 284807.0   ...    284807.0 284807.0 284807.0 284807.0 284807.0   \n",
       "mean       0.0     -0.0   ...         0.0     -0.0      0.0      0.0      0.0   \n",
       "std        1.2      1.1   ...         0.7      0.7      0.6      0.6      0.5   \n",
       "min      -73.2    -13.4   ...       -34.8    -10.9    -44.8     -2.8    -10.3   \n",
       "25%       -0.2     -0.6   ...        -0.2     -0.5     -0.2     -0.4     -0.3   \n",
       "50%        0.0     -0.1   ...        -0.0      0.0     -0.0      0.0      0.0   \n",
       "75%        0.3      0.6   ...         0.2      0.5      0.1      0.4      0.4   \n",
       "max       20.0     15.6   ...        27.2     10.5     22.5      4.6      7.5   \n",
       "\n",
       "           V26      V27      V28   Amount    Class  \n",
       "count 284807.0 284807.0 284807.0 284807.0 284807.0  \n",
       "mean       0.0     -0.0     -0.0     88.3      0.0  \n",
       "std        0.5      0.4      0.3    250.1      0.0  \n",
       "min       -2.6    -22.6    -15.4      0.0      0.0  \n",
       "25%       -0.3     -0.1     -0.1      5.6      0.0  \n",
       "50%       -0.1      0.0      0.0     22.0      0.0  \n",
       "75%        0.2      0.1      0.1     77.2      0.0  \n",
       "max        3.5     31.6     33.8  25691.2      1.0  \n",
       "\n",
       "[8 rows x 31 columns]"
      ]
     },
     "execution_count": 36,
     "metadata": {},
     "output_type": "execute_result"
    }
   ],
   "source": [
    "data.describe()"
   ]
  },
  {
   "cell_type": "code",
   "execution_count": 37,
   "metadata": {},
   "outputs": [
    {
     "data": {
      "text/plain": [
       "0"
      ]
     },
     "execution_count": 37,
     "metadata": {},
     "output_type": "execute_result"
    }
   ],
   "source": [
    "data.isnull().sum().sum()"
   ]
  },
  {
   "cell_type": "code",
   "execution_count": 38,
   "metadata": {},
   "outputs": [
    {
     "data": {
      "text/plain": [
       "Text(0,0.5,'Frequency')"
      ]
     },
     "execution_count": 38,
     "metadata": {},
     "output_type": "execute_result"
    },
    {
     "data": {
      "image/png": "[encoded data removed]",
      "text/plain": [
       "<Figure size 432x288 with 1 Axes>"
      ]
     },
     "metadata": {},
     "output_type": "display_data"
    }
   ],
   "source": [
    "classes = pd.value_counts(data['Class'], sort = True).sort_index()\n",
    "classes.plot(kind = 'bar')\n",
    "plt.title(\"Fraud class histogram\")\n",
    "plt.xlabel(\"Class\")\n",
    "plt.ylabel(\"Frequency\")"
   ]
  },
  {
   "cell_type": "code",
   "execution_count": 39,
   "metadata": {},
   "outputs": [
    {
     "data": {
      "text/plain": [
       "Class\n",
       "0    284315\n",
       "1       492\n",
       "Name: Class, dtype: int64"
      ]
     },
     "execution_count": 39,
     "metadata": {},
     "output_type": "execute_result"
    }
   ],
   "source": [
    "data.groupby('Class')['Class'].count()"
   ]
  },
  {
   "cell_type": "markdown",
   "metadata": {},
   "source": [
    "#### The Data is hihgly imbalance. 284315 Normal transaction vs 492 Fraud transaction"
   ]
  },
  {
   "cell_type": "code",
   "execution_count": 40,
   "metadata": {},
   "outputs": [],
   "source": [
    "#cols_to_norm = ['V1', 'V2', 'V3', 'V4', 'V5', 'V6', 'V7', 'V8', 'V9', 'V10',\n",
    "#       'V11', 'V12', 'V13', 'V14', 'V15', 'V16', 'V17', 'V18', 'V19', 'V20',\n",
    "#       'V21', 'V22', 'V23', 'V24', 'V25', 'V26', 'V27', 'V28', 'Amount']"
   ]
  },
  {
   "cell_type": "code",
   "execution_count": 41,
   "metadata": {},
   "outputs": [],
   "source": [
    "#data[cols_to_norm] = data[cols_to_norm].apply(lambda x: (x - x.min()) / (x.max()-x.min()))"
   ]
  },
  {
   "cell_type": "code",
   "execution_count": 42,
   "metadata": {},
   "outputs": [],
   "source": [
    "#data.head()"
   ]
  },
  {
   "cell_type": "markdown",
   "metadata": {},
   "source": [
    "### Define Features and Configure Feature Columns"
   ]
  },
  {
   "cell_type": "code",
   "execution_count": 43,
   "metadata": {},
   "outputs": [
    {
     "data": {
      "text/plain": [
       "Index(['Time', 'V1', 'V2', 'V3', 'V4', 'V5', 'V6', 'V7', 'V8', 'V9', 'V10',\n",
       "       'V11', 'V12', 'V13', 'V14', 'V15', 'V16', 'V17', 'V18', 'V19', 'V20',\n",
       "       'V21', 'V22', 'V23', 'V24', 'V25', 'V26', 'V27', 'V28', 'Amount',\n",
       "       'Class'],\n",
       "      dtype='object')"
      ]
     },
     "execution_count": 43,
     "metadata": {},
     "output_type": "execute_result"
    }
   ],
   "source": [
    "data.columns"
   ]
  },
  {
   "cell_type": "code",
   "execution_count": 44,
   "metadata": {},
   "outputs": [],
   "source": [
    "# Define the input feature: Only use the 'Amount' and 'V1' to 'V28' features\n",
    "#my_features = data[['Amount'] + ['V%d' % number for number in range(1, 29)]]\n",
    "\n",
    "# Configure a numeric feature columns\n",
    "#feature_columns = tf.feature_column.numeric_column(my_features.columns)"
   ]
  },
  {
   "cell_type": "code",
   "execution_count": 45,
   "metadata": {},
   "outputs": [],
   "source": [
    "X = data.iloc[:, 1:30].values\n",
    "y = data.iloc[:, 30].values"
   ]
  },
  {
   "cell_type": "code",
   "execution_count": 46,
   "metadata": {
    "scrolled": false
   },
   "outputs": [
    {
     "name": "stdout",
     "output_type": "stream",
     "text": [
      "(227845, 29)\n"
     ]
    }
   ],
   "source": [
    "# Splitting the dataset into the Training set and Test set\n",
    "from sklearn.model_selection import train_test_split\n",
    "X_train, X_test, y_train, y_test = train_test_split(X, y, test_size=0.2, random_state=100)\n",
    "print(X_train.shape)"
   ]
  },
  {
   "cell_type": "markdown",
   "metadata": {},
   "source": [
    "### Build a Model"
   ]
  },
  {
   "cell_type": "code",
   "execution_count": 47,
   "metadata": {},
   "outputs": [],
   "source": [
    "# Initialising the ANN\n",
    "classifier = Sequential()"
   ]
  },
  {
   "cell_type": "code",
   "execution_count": 48,
   "metadata": {},
   "outputs": [
    {
     "name": "stdout",
     "output_type": "stream",
     "text": [
      "Epoch 1/100\n",
      "227845/227845 [==============================] - 3s 14us/step - loss: 0.0447 - acc: 0.9979\n",
      "Epoch 2/100\n",
      "227845/227845 [==============================] - 3s 12us/step - loss: 0.0091 - acc: 0.9983\n",
      "Epoch 3/100\n",
      "227845/227845 [==============================] - 3s 13us/step - loss: 0.0053 - acc: 0.9983\n",
      "Epoch 4/100\n",
      "227845/227845 [==============================] - 3s 13us/step - loss: 0.0044 - acc: 0.9993\n",
      "Epoch 5/100\n",
      "227845/227845 [==============================] - 3s 12us/step - loss: 0.0042 - acc: 0.9994\n",
      "Epoch 6/100\n",
      "227845/227845 [==============================] - 3s 15us/step - loss: 0.0039 - acc: 0.9994: 0s - loss: 0.0036 -\n",
      "Epoch 7/100\n",
      "227845/227845 [==============================] - 3s 12us/step - loss: 0.0037 - acc: 0.9994\n",
      "Epoch 8/100\n",
      "227845/227845 [==============================] - 3s 12us/step - loss: 0.0038 - acc: 0.9994\n",
      "Epoch 9/100\n",
      "227845/227845 [==============================] - 3s 13us/step - loss: 0.0035 - acc: 0.9994\n",
      "Epoch 10/100\n",
      "227845/227845 [==============================] - 3s 12us/step - loss: 0.0034 - acc: 0.9994\n",
      "Epoch 11/100\n",
      "227845/227845 [==============================] - 3s 13us/step - loss: 0.0038 - acc: 0.9994: 0s - loss: 0.0038 \n",
      "Epoch 12/100\n",
      "227845/227845 [==============================] - 4s 16us/step - loss: 0.0035 - acc: 0.9994: 1s -\n",
      "Epoch 13/100\n",
      "227845/227845 [==============================] - 3s 15us/step - loss: 0.0033 - acc: 0.9994: 0s - loss: 0.0033 - ac\n",
      "Epoch 14/100\n",
      "227845/227845 [==============================] - 3s 12us/step - loss: 0.0033 - acc: 0.9994\n",
      "Epoch 15/100\n",
      "227845/227845 [==============================] - 3s 12us/step - loss: 0.0033 - acc: 0.9994: 1s - lo\n",
      "Epoch 16/100\n",
      "227845/227845 [==============================] - 3s 12us/step - loss: 0.0032 - acc: 0.9994\n",
      "Epoch 17/100\n",
      "227845/227845 [==============================] - 3s 12us/step - loss: 0.0031 - acc: 0.9994\n",
      "Epoch 18/100\n",
      "227845/227845 [==============================] - 3s 12us/step - loss: 0.0031 - acc: 0.9994\n",
      "Epoch 19/100\n",
      "227845/227845 [==============================] - 3s 12us/step - loss: 0.0032 - acc: 0.9994: 0s - loss: 0.0033 \n",
      "Epoch 20/100\n",
      "227845/227845 [==============================] - 3s 12us/step - loss: 0.0031 - acc: 0.9994\n",
      "Epoch 21/100\n",
      "227845/227845 [==============================] - 3s 15us/step - loss: 0.0033 - acc: 0.9994: 1s - lo\n",
      "Epoch 22/100\n",
      "227845/227845 [==============================] - 3s 14us/step - loss: 0.0030 - acc: 0.9994\n",
      "Epoch 23/100\n",
      "227845/227845 [==============================] - 3s 13us/step - loss: 0.0032 - acc: 0.9994\n",
      "Epoch 24/100\n",
      "227845/227845 [==============================] - 3s 12us/step - loss: 0.0030 - acc: 0.9994: 0s - loss: 0.00\n",
      "Epoch 25/100\n",
      "227845/227845 [==============================] - 3s 12us/step - loss: 0.0030 - acc: 0.9994\n",
      "Epoch 26/100\n",
      "227845/227845 [==============================] - 3s 12us/step - loss: 0.0031 - acc: 0.9994\n",
      "Epoch 27/100\n",
      "227845/227845 [==============================] - 3s 12us/step - loss: 0.0031 - acc: 0.9994: 1s - loss: 0.0 - ETA: 0s - loss: 0.0031\n",
      "Epoch 28/100\n",
      "227845/227845 [==============================] - 3s 12us/step - loss: 0.0030 - acc: 0.9994\n",
      "Epoch 29/100\n",
      "227845/227845 [==============================] - 4s 16us/step - loss: 0.0030 - acc: 0.9994: 1s - loss: 0.\n",
      "Epoch 30/100\n",
      "227845/227845 [==============================] - 3s 15us/step - loss: 0.0030 - acc: 0.9994\n",
      "Epoch 31/100\n",
      "227845/227845 [==============================] - 3s 14us/step - loss: 0.0029 - acc: 0.9994\n",
      "Epoch 32/100\n",
      "227845/227845 [==============================] - 3s 15us/step - loss: 0.0028 - acc: 0.9994\n",
      "Epoch 33/100\n",
      "227845/227845 [==============================] - 3s 13us/step - loss: 0.0028 - acc: 0.9994\n",
      "Epoch 34/100\n",
      "227845/227845 [==============================] - 3s 13us/step - loss: 0.0029 - acc: 0.9994\n",
      "Epoch 35/100\n",
      "227845/227845 [==============================] - 3s 12us/step - loss: 0.0028 - acc: 0.9994\n",
      "Epoch 36/100\n",
      "227845/227845 [==============================] - 3s 12us/step - loss: 0.0029 - acc: 0.9994\n",
      "Epoch 37/100\n",
      "227845/227845 [==============================] - 3s 12us/step - loss: 0.0028 - acc: 0.9994\n",
      "Epoch 38/100\n",
      "227845/227845 [==============================] - 3s 12us/step - loss: 0.0030 - acc: 0.9994\n",
      "Epoch 39/100\n",
      "227845/227845 [==============================] - 3s 12us/step - loss: 0.0028 - acc: 0.9994\n",
      "Epoch 40/100\n",
      "227845/227845 [==============================] - 3s 12us/step - loss: 0.0027 - acc: 0.9994\n",
      "Epoch 41/100\n",
      "227845/227845 [==============================] - 3s 12us/step - loss: 0.0028 - acc: 0.9994\n",
      "Epoch 42/100\n",
      "227845/227845 [==============================] - 3s 13us/step - loss: 0.0027 - acc: 0.9994\n",
      "Epoch 43/100\n",
      "227845/227845 [==============================] - 3s 14us/step - loss: 0.0027 - acc: 0.9994\n",
      "Epoch 44/100\n",
      "227845/227845 [==============================] - 3s 12us/step - loss: 0.0027 - acc: 0.9994\n",
      "Epoch 45/100\n",
      "227845/227845 [==============================] - 3s 12us/step - loss: 0.0028 - acc: 0.9994\n",
      "Epoch 46/100\n",
      "227845/227845 [==============================] - 3s 12us/step - loss: 0.0027 - acc: 0.9994: 0s - loss: 0.0027 \n",
      "Epoch 47/100\n",
      "227845/227845 [==============================] - 3s 12us/step - loss: 0.0027 - acc: 0.9994\n",
      "Epoch 48/100\n",
      "227845/227845 [==============================] - 3s 12us/step - loss: 0.0027 - acc: 0.9994\n",
      "Epoch 49/100\n",
      "227845/227845 [==============================] - 3s 12us/step - loss: 0.0027 - acc: 0.9994\n",
      "Epoch 50/100\n",
      "227845/227845 [==============================] - 3s 14us/step - loss: 0.0027 - acc: 0.9994\n",
      "Epoch 51/100\n",
      "227845/227845 [==============================] - 3s 12us/step - loss: 0.0027 - acc: 0.9994\n",
      "Epoch 52/100\n",
      "227845/227845 [==============================] - 3s 12us/step - loss: 0.0029 - acc: 0.9994\n",
      "Epoch 53/100\n",
      "227845/227845 [==============================] - 3s 12us/step - loss: 0.0027 - acc: 0.9994\n",
      "Epoch 54/100\n",
      "227845/227845 [==============================] - 3s 12us/step - loss: 0.0027 - acc: 0.9994\n",
      "Epoch 55/100\n",
      "227845/227845 [==============================] - 3s 11us/step - loss: 0.0027 - acc: 0.9994\n",
      "Epoch 56/100\n",
      "227845/227845 [==============================] - 3s 12us/step - loss: 0.0028 - acc: 0.9994\n",
      "Epoch 57/100\n",
      "227845/227845 [==============================] - 3s 12us/step - loss: 0.0027 - acc: 0.9994: 0s - loss: 0.0027 - acc\n",
      "Epoch 58/100\n",
      "227845/227845 [==============================] - 3s 12us/step - loss: 0.0026 - acc: 0.9994: 1s - \n",
      "Epoch 59/100\n",
      "227845/227845 [==============================] - 3s 12us/step - loss: 0.0029 - acc: 0.9994\n",
      "Epoch 60/100\n",
      "227845/227845 [==============================] - 3s 12us/step - loss: 0.0028 - acc: 0.9994\n",
      "Epoch 61/100\n",
      "227845/227845 [==============================] - 3s 12us/step - loss: 0.0025 - acc: 0.9994\n",
      "Epoch 62/100\n",
      "227845/227845 [==============================] - 3s 13us/step - loss: 0.0026 - acc: 0.9994\n",
      "Epoch 63/100\n",
      "227845/227845 [==============================] - 3s 13us/step - loss: 0.0026 - acc: 0.9994: 0s - loss: 0.0026\n",
      "Epoch 64/100\n",
      "227845/227845 [==============================] - 3s 12us/step - loss: 0.0027 - acc: 0.9994: 1s -\n",
      "Epoch 65/100\n",
      "227845/227845 [==============================] - 3s 15us/step - loss: 0.0027 - acc: 0.9994\n",
      "Epoch 66/100\n",
      "227845/227845 [==============================] - 3s 14us/step - loss: 0.0026 - acc: 0.9995\n",
      "Epoch 67/100\n",
      "227845/227845 [==============================] - 3s 13us/step - loss: 0.0026 - acc: 0.9994\n",
      "Epoch 68/100\n",
      "227845/227845 [==============================] - 4s 16us/step - loss: 0.0026 - acc: 0.9994\n",
      "Epoch 69/100\n",
      "227845/227845 [==============================] - 3s 13us/step - loss: 0.0026 - acc: 0.9994\n",
      "Epoch 70/100\n",
      "227845/227845 [==============================] - 3s 12us/step - loss: 0.0027 - acc: 0.9994: 1s - l\n",
      "Epoch 71/100\n",
      "227845/227845 [==============================] - 3s 13us/step - loss: 0.0028 - acc: 0.9994\n",
      "Epoch 72/100\n",
      "227845/227845 [==============================] - 3s 14us/step - loss: 0.0025 - acc: 0.9995\n",
      "Epoch 73/100\n",
      "227845/227845 [==============================] - 3s 15us/step - loss: 0.0026 - acc: 0.9994\n",
      "Epoch 74/100\n",
      "227845/227845 [==============================] - 3s 12us/step - loss: 0.0027 - acc: 0.9994\n",
      "Epoch 75/100\n",
      "227845/227845 [==============================] - 3s 12us/step - loss: 0.0026 - acc: 0.9995\n",
      "Epoch 76/100\n"
     ]
    },
    {
     "name": "stdout",
     "output_type": "stream",
     "text": [
      "227845/227845 [==============================] - 3s 12us/step - loss: 0.0027 - acc: 0.9994: 0s - loss: 0.002\n",
      "Epoch 77/100\n",
      "227845/227845 [==============================] - 3s 12us/step - loss: 0.0027 - acc: 0.9994: 0s - loss: 0.0027 - acc: \n",
      "Epoch 78/100\n",
      "227845/227845 [==============================] - 3s 12us/step - loss: 0.0025 - acc: 0.9995: \n",
      "Epoch 79/100\n",
      "227845/227845 [==============================] - 3s 13us/step - loss: 0.0026 - acc: 0.9995\n",
      "Epoch 80/100\n",
      "227845/227845 [==============================] - 3s 15us/step - loss: 0.0025 - acc: 0.9994\n",
      "Epoch 81/100\n",
      "227845/227845 [==============================] - 4s 16us/step - loss: 0.0027 - acc: 0.9995\n",
      "Epoch 82/100\n",
      "227845/227845 [==============================] - 3s 12us/step - loss: 0.0026 - acc: 0.9994\n",
      "Epoch 83/100\n",
      "227845/227845 [==============================] - 3s 13us/step - loss: 0.0025 - acc: 0.9995: 0s - loss: 0.0025 - acc: 0.999\n",
      "Epoch 84/100\n",
      "227845/227845 [==============================] - 3s 12us/step - loss: 0.0026 - acc: 0.9995\n",
      "Epoch 85/100\n",
      "227845/227845 [==============================] - 3s 12us/step - loss: 0.0025 - acc: 0.9995\n",
      "Epoch 86/100\n",
      "227845/227845 [==============================] - 3s 13us/step - loss: 0.0027 - acc: 0.9994\n",
      "Epoch 87/100\n",
      "227845/227845 [==============================] - 3s 14us/step - loss: 0.0025 - acc: 0.9994: 0s - loss: 0.0026 - acc: 0\n",
      "Epoch 88/100\n",
      "227845/227845 [==============================] - 3s 13us/step - loss: 0.0026 - acc: 0.9994A: 2s - loss: 0 - ET\n",
      "Epoch 89/100\n",
      "227845/227845 [==============================] - 3s 13us/step - loss: 0.0027 - acc: 0.9994: 0s - loss: 0.0028 - acc:\n",
      "Epoch 90/100\n",
      "227845/227845 [==============================] - 3s 13us/step - loss: 0.0027 - acc: 0.9994\n",
      "Epoch 91/100\n",
      "227845/227845 [==============================] - 3s 14us/step - loss: 0.0026 - acc: 0.9994: 1s - loss: 0.\n",
      "Epoch 92/100\n",
      "227845/227845 [==============================] - 3s 14us/step - loss: 0.0025 - acc: 0.9995\n",
      "Epoch 93/100\n",
      "227845/227845 [==============================] - 3s 13us/step - loss: 0.0026 - acc: 0.9994\n",
      "Epoch 94/100\n",
      "227845/227845 [==============================] - 3s 13us/step - loss: 0.0028 - acc: 0.9995\n",
      "Epoch 95/100\n",
      "227845/227845 [==============================] - 3s 13us/step - loss: 0.0027 - acc: 0.9995\n",
      "Epoch 96/100\n",
      "227845/227845 [==============================] - 3s 13us/step - loss: 0.0026 - acc: 0.9995\n",
      "Epoch 97/100\n",
      "227845/227845 [==============================] - 3s 13us/step - loss: 0.0024 - acc: 0.9995: 0s - loss: 0.0022 - acc\n",
      "Epoch 98/100\n",
      "227845/227845 [==============================] - 3s 12us/step - loss: 0.0025 - acc: 0.9995\n",
      "Epoch 99/100\n",
      "227845/227845 [==============================] - 3s 13us/step - loss: 0.0026 - acc: 0.9995\n",
      "Epoch 100/100\n",
      "227845/227845 [==============================] - 3s 13us/step - loss: 0.0027 - acc: 0.9994\n"
     ]
    },
    {
     "data": {
      "text/plain": [
       "<keras.callbacks.History at 0x10bbed048>"
      ]
     },
     "execution_count": 48,
     "metadata": {},
     "output_type": "execute_result"
    }
   ],
   "source": [
    "# Adding the Input layer and the first hidden layer\n",
    "classifier.add(Dense(units = 6, activation = 'relu', kernel_initializer = 'uniform', input_dim = 29))\n",
    "\n",
    "# Adding the second hidden layer\n",
    "classifier.add(Dense(units = 6, activation = 'relu', kernel_initializer = 'uniform'))\n",
    "\n",
    "# Adding the output layer\n",
    "classifier.add(Dense(units = 1, activation = 'sigmoid', kernel_initializer = 'uniform'))\n",
    "\n",
    "# Compiling the ANN\n",
    "classifier.compile(optimizer = 'adam', loss = 'binary_crossentropy', metrics = ['accuracy'])\n",
    "\n",
    "# Fitting the ANN to the training set\n",
    "classifier.fit(X_train, y_train, batch_size = 100, epochs = 100)\n"
   ]
  },
  {
   "cell_type": "markdown",
   "metadata": {},
   "source": [
    "### Make prediction and evaluating the model"
   ]
  },
  {
   "cell_type": "code",
   "execution_count": 49,
   "metadata": {},
   "outputs": [],
   "source": [
    "# Predicting the Test set results\n",
    "y_pred = classifier.predict(X_test)\n",
    "# Convert to T or F boolean value\n",
    "y_pred = (y_pred > 0.5)"
   ]
  },
  {
   "cell_type": "code",
   "execution_count": 50,
   "metadata": {},
   "outputs": [
    {
     "data": {
      "text/plain": [
       "array([[56835,    17],\n",
       "       [   20,    90]])"
      ]
     },
     "execution_count": 50,
     "metadata": {},
     "output_type": "execute_result"
    }
   ],
   "source": [
    "# Making the Confusion Matrix\n",
    "from sklearn.metrics import confusion_matrix\n",
    "cm = confusion_matrix(y_test, y_pred)\n",
    "cm"
   ]
  },
  {
   "cell_type": "markdown",
   "metadata": {},
   "source": [
    "### XGBoost"
   ]
  },
  {
   "cell_type": "code",
   "execution_count": 51,
   "metadata": {},
   "outputs": [
    {
     "data": {
      "text/plain": [
       "XGBClassifier(base_score=0.5, booster='gbtree', colsample_bylevel=1,\n",
       "       colsample_bytree=1, gamma=0, learning_rate=0.1, max_delta_step=0,\n",
       "       max_depth=3, min_child_weight=1, missing=None, n_estimators=100,\n",
       "       n_jobs=1, nthread=None, objective='binary:logistic', random_state=0,\n",
       "       reg_alpha=0, reg_lambda=1, scale_pos_weight=1, seed=None,\n",
       "       silent=True, subsample=1)"
      ]
     },
     "execution_count": 51,
     "metadata": {},
     "output_type": "execute_result"
    }
   ],
   "source": [
    "# Fitting XGBoost to the Training set\n",
    "from xgboost import XGBClassifier\n",
    "classifier = XGBClassifier()\n",
    "classifier.fit(X_train, y_train)"
   ]
  },
  {
   "cell_type": "markdown",
   "metadata": {},
   "source": [
    "### Make prediction and evaluating the model"
   ]
  },
  {
   "cell_type": "code",
   "execution_count": 52,
   "metadata": {},
   "outputs": [
    {
     "name": "stderr",
     "output_type": "stream",
     "text": [
      "/Users/kiem/anaconda3/lib/python3.6/site-packages/sklearn/preprocessing/label.py:151: DeprecationWarning: The truth value of an empty array is ambiguous. Returning False, but in future this will result in an error. Use `array.size > 0` to check that an array is not empty.\n",
      "  if diff:\n"
     ]
    }
   ],
   "source": [
    "# Predicting the Test set results\n",
    "y_pred = classifier.predict(X_test)"
   ]
  },
  {
   "cell_type": "code",
   "execution_count": 53,
   "metadata": {},
   "outputs": [
    {
     "data": {
      "text/plain": [
       "array([[56845,     7],\n",
       "       [   21,    89]])"
      ]
     },
     "execution_count": 53,
     "metadata": {},
     "output_type": "execute_result"
    }
   ],
   "source": [
    "# Making a Confision Matrix\n",
    "from sklearn.metrics import confusion_matrix\n",
    "cm = confusion_matrix(y_test, y_pred)\n",
    "cm"
   ]
  },
  {
   "cell_type": "code",
   "execution_count": 30,
   "metadata": {},
   "outputs": [
    {
     "name": "stderr",
     "output_type": "stream",
     "text": [
      "/Users/kiem/anaconda3/lib/python3.6/site-packages/sklearn/preprocessing/label.py:151: DeprecationWarning: The truth value of an empty array is ambiguous. Returning False, but in future this will result in an error. Use `array.size > 0` to check that an array is not empty.\n",
      "  if diff:\n",
      "/Users/kiem/anaconda3/lib/python3.6/site-packages/sklearn/preprocessing/label.py:151: DeprecationWarning: The truth value of an empty array is ambiguous. Returning False, but in future this will result in an error. Use `array.size > 0` to check that an array is not empty.\n",
      "  if diff:\n",
      "/Users/kiem/anaconda3/lib/python3.6/site-packages/sklearn/preprocessing/label.py:151: DeprecationWarning: The truth value of an empty array is ambiguous. Returning False, but in future this will result in an error. Use `array.size > 0` to check that an array is not empty.\n",
      "  if diff:\n",
      "/Users/kiem/anaconda3/lib/python3.6/site-packages/sklearn/preprocessing/label.py:151: DeprecationWarning: The truth value of an empty array is ambiguous. Returning False, but in future this will result in an error. Use `array.size > 0` to check that an array is not empty.\n",
      "  if diff:\n",
      "/Users/kiem/anaconda3/lib/python3.6/site-packages/sklearn/preprocessing/label.py:151: DeprecationWarning: The truth value of an empty array is ambiguous. Returning False, but in future this will result in an error. Use `array.size > 0` to check that an array is not empty.\n",
      "  if diff:\n",
      "/Users/kiem/anaconda3/lib/python3.6/site-packages/sklearn/preprocessing/label.py:151: DeprecationWarning: The truth value of an empty array is ambiguous. Returning False, but in future this will result in an error. Use `array.size > 0` to check that an array is not empty.\n",
      "  if diff:\n",
      "/Users/kiem/anaconda3/lib/python3.6/site-packages/sklearn/preprocessing/label.py:151: DeprecationWarning: The truth value of an empty array is ambiguous. Returning False, but in future this will result in an error. Use `array.size > 0` to check that an array is not empty.\n",
      "  if diff:\n",
      "/Users/kiem/anaconda3/lib/python3.6/site-packages/sklearn/preprocessing/label.py:151: DeprecationWarning: The truth value of an empty array is ambiguous. Returning False, but in future this will result in an error. Use `array.size > 0` to check that an array is not empty.\n",
      "  if diff:\n",
      "/Users/kiem/anaconda3/lib/python3.6/site-packages/sklearn/preprocessing/label.py:151: DeprecationWarning: The truth value of an empty array is ambiguous. Returning False, but in future this will result in an error. Use `array.size > 0` to check that an array is not empty.\n",
      "  if diff:\n",
      "/Users/kiem/anaconda3/lib/python3.6/site-packages/sklearn/preprocessing/label.py:151: DeprecationWarning: The truth value of an empty array is ambiguous. Returning False, but in future this will result in an error. Use `array.size > 0` to check that an array is not empty.\n",
      "  if diff:\n"
     ]
    },
    {
     "data": {
      "text/plain": [
       "0.00012750052821458287"
      ]
     },
     "execution_count": 30,
     "metadata": {},
     "output_type": "execute_result"
    }
   ],
   "source": [
    "# Applying k-Fold Cross Validation\n",
    "from sklearn.model_selection import cross_val_score\n",
    "accuracies = cross_val_score(estimator = classifier, X=X_train, y=y_train, cv=10)\n",
    "print(accuracies.mean())\n",
    "print(accuracies.std())"
   ]
  },
  {
   "cell_type": "code",
   "execution_count": null,
   "metadata": {},
   "outputs": [],
   "source": []
  }
 ],
 "metadata": {
  "kernelspec": {
   "display_name": "Python 3",
   "language": "python",
   "name": "python3"
  },
  "language_info": {
   "codemirror_mode": {
    "name": "ipython",
    "version": 3
   },
   "file_extension": ".py",
   "mimetype": "text/x-python",
   "name": "python",
   "nbconvert_exporter": "python",
   "pygments_lexer": "ipython3",
   "version": "3.6.5"
  }
 },
 "nbformat": 4,
 "nbformat_minor": 2
}
